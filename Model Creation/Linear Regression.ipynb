{
  "metadata": {
    "kernelspec": {
      "name": "python",
      "display_name": "Python (Pyodide)",
      "language": "python"
    },
    "language_info": {
      "codemirror_mode": {
        "name": "python",
        "version": 3
      },
      "file_extension": ".py",
      "mimetype": "text/x-python",
      "name": "python",
      "nbconvert_exporter": "python",
      "pygments_lexer": "ipython3",
      "version": "3.8"
    }
  },
  "nbformat_minor": 4,
  "nbformat": 4,
  "cells": [
    {
      "cell_type": "code",
      "source": "import pandas as pd\ndataset = pd.read_csv('preprocessed_housing_data.csv')",
      "metadata": {
        "trusted": true
      },
      "outputs": [],
      "execution_count": 25
    },
    {
      "cell_type": "code",
      "source": "dataset = pd.get_dummies(dataset)",
      "metadata": {
        "trusted": true
      },
      "outputs": [],
      "execution_count": 26
    },
    {
      "cell_type": "code",
      "source": "dataset.head()",
      "metadata": {
        "trusted": true
      },
      "outputs": [
        {
          "execution_count": 27,
          "output_type": "execute_result",
          "data": {
            "text/plain": "   INT_SQFT  DIST_MAINROAD  N_BEDROOM  N_BATHROOM  N_ROOM  QS_ROOMS  \\\n0      1004            131          1           1       3         4   \n1      1986             26          2           1       5         4   \n2       909             70          1           1       3         4   \n3      1855             14          3           2       5         4   \n4      1226             84          1           1       3         3   \n\n   QS_BATHROOM  QS_BEDROOM  QS_OVERALL  REG_FEE  ...  UTILITY_AVAIL_NoSewage  \\\n0            3           4           4   380000  ...                       0   \n1            4           2           3   760122  ...                       0   \n2            3           2           3   421094  ...                       0   \n3            3           3           4   356321  ...                       1   \n4            2           4           3   237000  ...                       0   \n\n   STREET_Gravel  STREET_No Access  STREET_Paved  MZZONE_A  MZZONE_C  \\\n0              0                 0             1         1         0   \n1              1                 0             0         0         0   \n2              1                 0             0         0         0   \n3              0                 0             1         0         0   \n4              1                 0             0         0         1   \n\n   MZZONE_I  MZZONE_RH  MZZONE_RL  MZZONE_RM  \n0         0          0          0          0  \n1         0          1          0          0  \n2         0          0          1          0  \n3         1          0          0          0  \n4         0          0          0          0  \n\n[5 rows x 41 columns]",
            "text/html": "<div>\n<style scoped>\n    .dataframe tbody tr th:only-of-type {\n        vertical-align: middle;\n    }\n\n    .dataframe tbody tr th {\n        vertical-align: top;\n    }\n\n    .dataframe thead th {\n        text-align: right;\n    }\n</style>\n<table border=\"1\" class=\"dataframe\">\n  <thead>\n    <tr style=\"text-align: right;\">\n      <th></th>\n      <th>INT_SQFT</th>\n      <th>DIST_MAINROAD</th>\n      <th>N_BEDROOM</th>\n      <th>N_BATHROOM</th>\n      <th>N_ROOM</th>\n      <th>QS_ROOMS</th>\n      <th>QS_BATHROOM</th>\n      <th>QS_BEDROOM</th>\n      <th>QS_OVERALL</th>\n      <th>REG_FEE</th>\n      <th>...</th>\n      <th>UTILITY_AVAIL_NoSewage</th>\n      <th>STREET_Gravel</th>\n      <th>STREET_No Access</th>\n      <th>STREET_Paved</th>\n      <th>MZZONE_A</th>\n      <th>MZZONE_C</th>\n      <th>MZZONE_I</th>\n      <th>MZZONE_RH</th>\n      <th>MZZONE_RL</th>\n      <th>MZZONE_RM</th>\n    </tr>\n  </thead>\n  <tbody>\n    <tr>\n      <th>0</th>\n      <td>1004</td>\n      <td>131</td>\n      <td>1</td>\n      <td>1</td>\n      <td>3</td>\n      <td>4</td>\n      <td>3</td>\n      <td>4</td>\n      <td>4</td>\n      <td>380000</td>\n      <td>...</td>\n      <td>0</td>\n      <td>0</td>\n      <td>0</td>\n      <td>1</td>\n      <td>1</td>\n      <td>0</td>\n      <td>0</td>\n      <td>0</td>\n      <td>0</td>\n      <td>0</td>\n    </tr>\n    <tr>\n      <th>1</th>\n      <td>1986</td>\n      <td>26</td>\n      <td>2</td>\n      <td>1</td>\n      <td>5</td>\n      <td>4</td>\n      <td>4</td>\n      <td>2</td>\n      <td>3</td>\n      <td>760122</td>\n      <td>...</td>\n      <td>0</td>\n      <td>1</td>\n      <td>0</td>\n      <td>0</td>\n      <td>0</td>\n      <td>0</td>\n      <td>0</td>\n      <td>1</td>\n      <td>0</td>\n      <td>0</td>\n    </tr>\n    <tr>\n      <th>2</th>\n      <td>909</td>\n      <td>70</td>\n      <td>1</td>\n      <td>1</td>\n      <td>3</td>\n      <td>4</td>\n      <td>3</td>\n      <td>2</td>\n      <td>3</td>\n      <td>421094</td>\n      <td>...</td>\n      <td>0</td>\n      <td>1</td>\n      <td>0</td>\n      <td>0</td>\n      <td>0</td>\n      <td>0</td>\n      <td>0</td>\n      <td>0</td>\n      <td>1</td>\n      <td>0</td>\n    </tr>\n    <tr>\n      <th>3</th>\n      <td>1855</td>\n      <td>14</td>\n      <td>3</td>\n      <td>2</td>\n      <td>5</td>\n      <td>4</td>\n      <td>3</td>\n      <td>3</td>\n      <td>4</td>\n      <td>356321</td>\n      <td>...</td>\n      <td>1</td>\n      <td>0</td>\n      <td>0</td>\n      <td>1</td>\n      <td>0</td>\n      <td>0</td>\n      <td>1</td>\n      <td>0</td>\n      <td>0</td>\n      <td>0</td>\n    </tr>\n    <tr>\n      <th>4</th>\n      <td>1226</td>\n      <td>84</td>\n      <td>1</td>\n      <td>1</td>\n      <td>3</td>\n      <td>3</td>\n      <td>2</td>\n      <td>4</td>\n      <td>3</td>\n      <td>237000</td>\n      <td>...</td>\n      <td>0</td>\n      <td>1</td>\n      <td>0</td>\n      <td>0</td>\n      <td>0</td>\n      <td>1</td>\n      <td>0</td>\n      <td>0</td>\n      <td>0</td>\n      <td>0</td>\n    </tr>\n  </tbody>\n</table>\n<p>5 rows × 41 columns</p>\n</div>"
          },
          "metadata": {}
        }
      ],
      "execution_count": 27
    },
    {
      "cell_type": "code",
      "source": "dataset.columns",
      "metadata": {
        "trusted": true
      },
      "outputs": [
        {
          "execution_count": 28,
          "output_type": "execute_result",
          "data": {
            "text/plain": "Index(['INT_SQFT', 'DIST_MAINROAD', 'N_BEDROOM', 'N_BATHROOM', 'N_ROOM',\n       'QS_ROOMS', 'QS_BATHROOM', 'QS_BEDROOM', 'QS_OVERALL', 'REG_FEE',\n       'COMMIS', 'SALES_PRICE', 'AREA_Adyar', 'AREA_Anna Nagar',\n       'AREA_Chrompet', 'AREA_KK Nagar', 'AREA_Karapakkam', 'AREA_T Nagar',\n       'AREA_Velachery', 'SALE_COND_AbNormal', 'SALE_COND_AdjLand',\n       'SALE_COND_Family', 'SALE_COND_Normal Sale', 'SALE_COND_Partial',\n       'PARK_FACIL_No', 'PARK_FACIL_Yes', 'BUILDTYPE_Commercial',\n       'BUILDTYPE_House', 'BUILDTYPE_Others', 'UTILITY_AVAIL_All Pub',\n       'UTILITY_AVAIL_ELO', 'UTILITY_AVAIL_NoSewage', 'STREET_Gravel',\n       'STREET_No Access', 'STREET_Paved', 'MZZONE_A', 'MZZONE_C', 'MZZONE_I',\n       'MZZONE_RH', 'MZZONE_RL', 'MZZONE_RM'],\n      dtype='object')"
          },
          "metadata": {}
        }
      ],
      "execution_count": 28
    },
    {
      "cell_type": "code",
      "source": "independent = dataset[['INT_SQFT', 'DIST_MAINROAD', 'N_BEDROOM', 'N_BATHROOM', 'N_ROOM',\n       'QS_ROOMS', 'QS_BATHROOM', 'QS_BEDROOM', 'QS_OVERALL', 'REG_FEE',\n       'COMMIS', 'AREA_Adyar', 'AREA_Anna Nagar',\n       'AREA_Chrompet', 'AREA_KK Nagar', 'AREA_Karapakkam', 'AREA_T Nagar',\n       'AREA_Velachery', 'SALE_COND_AbNormal', 'SALE_COND_AdjLand',\n       'SALE_COND_Family', 'SALE_COND_Normal Sale', 'SALE_COND_Partial',\n       'PARK_FACIL_No', 'PARK_FACIL_Yes', 'BUILDTYPE_Commercial',\n       'BUILDTYPE_House', 'BUILDTYPE_Others', 'UTILITY_AVAIL_All Pub',\n       'UTILITY_AVAIL_ELO', 'UTILITY_AVAIL_NoSewage', 'STREET_Gravel',\n       'STREET_No Access', 'STREET_Paved', 'MZZONE_A', 'MZZONE_C', 'MZZONE_I',\n       'MZZONE_RH', 'MZZONE_RL', 'MZZONE_RM']]\ndependent = dataset['SALES_PRICE']",
      "metadata": {
        "trusted": true
      },
      "outputs": [],
      "execution_count": 29
    },
    {
      "cell_type": "code",
      "source": "from sklearn.model_selection import train_test_split\n\nx_train,x_test,y_train,y_test = train_test_split(independent,dependent,test_size = 0.30,random_state = 0)",
      "metadata": {
        "trusted": true
      },
      "outputs": [],
      "execution_count": 30
    },
    {
      "cell_type": "code",
      "source": "from sklearn.preprocessing import StandardScaler\nsc = StandardScaler()\nx_train = sc.fit_transform(x_train)\nx_test = sc.transform(x_test)",
      "metadata": {
        "trusted": true
      },
      "outputs": [],
      "execution_count": 31
    },
    {
      "cell_type": "code",
      "source": "from sklearn.linear_model import LinearRegression\nregressor = LinearRegression()\nregressor.fit(x_train,y_train)",
      "metadata": {
        "trusted": true
      },
      "outputs": [
        {
          "execution_count": 32,
          "output_type": "execute_result",
          "data": {
            "text/plain": "LinearRegression()",
            "text/html": "<style>#sk-container-id-2 {color: black;}#sk-container-id-2 pre{padding: 0;}#sk-container-id-2 div.sk-toggleable {background-color: white;}#sk-container-id-2 label.sk-toggleable__label {cursor: pointer;display: block;width: 100%;margin-bottom: 0;padding: 0.3em;box-sizing: border-box;text-align: center;}#sk-container-id-2 label.sk-toggleable__label-arrow:before {content: \"▸\";float: left;margin-right: 0.25em;color: #696969;}#sk-container-id-2 label.sk-toggleable__label-arrow:hover:before {color: black;}#sk-container-id-2 div.sk-estimator:hover label.sk-toggleable__label-arrow:before {color: black;}#sk-container-id-2 div.sk-toggleable__content {max-height: 0;max-width: 0;overflow: hidden;text-align: left;background-color: #f0f8ff;}#sk-container-id-2 div.sk-toggleable__content pre {margin: 0.2em;color: black;border-radius: 0.25em;background-color: #f0f8ff;}#sk-container-id-2 input.sk-toggleable__control:checked~div.sk-toggleable__content {max-height: 200px;max-width: 100%;overflow: auto;}#sk-container-id-2 input.sk-toggleable__control:checked~label.sk-toggleable__label-arrow:before {content: \"▾\";}#sk-container-id-2 div.sk-estimator input.sk-toggleable__control:checked~label.sk-toggleable__label {background-color: #d4ebff;}#sk-container-id-2 div.sk-label input.sk-toggleable__control:checked~label.sk-toggleable__label {background-color: #d4ebff;}#sk-container-id-2 input.sk-hidden--visually {border: 0;clip: rect(1px 1px 1px 1px);clip: rect(1px, 1px, 1px, 1px);height: 1px;margin: -1px;overflow: hidden;padding: 0;position: absolute;width: 1px;}#sk-container-id-2 div.sk-estimator {font-family: monospace;background-color: #f0f8ff;border: 1px dotted black;border-radius: 0.25em;box-sizing: border-box;margin-bottom: 0.5em;}#sk-container-id-2 div.sk-estimator:hover {background-color: #d4ebff;}#sk-container-id-2 div.sk-parallel-item::after {content: \"\";width: 100%;border-bottom: 1px solid gray;flex-grow: 1;}#sk-container-id-2 div.sk-label:hover label.sk-toggleable__label {background-color: #d4ebff;}#sk-container-id-2 div.sk-serial::before {content: \"\";position: absolute;border-left: 1px solid gray;box-sizing: border-box;top: 0;bottom: 0;left: 50%;z-index: 0;}#sk-container-id-2 div.sk-serial {display: flex;flex-direction: column;align-items: center;background-color: white;padding-right: 0.2em;padding-left: 0.2em;position: relative;}#sk-container-id-2 div.sk-item {position: relative;z-index: 1;}#sk-container-id-2 div.sk-parallel {display: flex;align-items: stretch;justify-content: center;background-color: white;position: relative;}#sk-container-id-2 div.sk-item::before, #sk-container-id-2 div.sk-parallel-item::before {content: \"\";position: absolute;border-left: 1px solid gray;box-sizing: border-box;top: 0;bottom: 0;left: 50%;z-index: -1;}#sk-container-id-2 div.sk-parallel-item {display: flex;flex-direction: column;z-index: 1;position: relative;background-color: white;}#sk-container-id-2 div.sk-parallel-item:first-child::after {align-self: flex-end;width: 50%;}#sk-container-id-2 div.sk-parallel-item:last-child::after {align-self: flex-start;width: 50%;}#sk-container-id-2 div.sk-parallel-item:only-child::after {width: 0;}#sk-container-id-2 div.sk-dashed-wrapped {border: 1px dashed gray;margin: 0 0.4em 0.5em 0.4em;box-sizing: border-box;padding-bottom: 0.4em;background-color: white;}#sk-container-id-2 div.sk-label label {font-family: monospace;font-weight: bold;display: inline-block;line-height: 1.2em;}#sk-container-id-2 div.sk-label-container {text-align: center;}#sk-container-id-2 div.sk-container {/* jupyter's `normalize.less` sets `[hidden] { display: none; }` but bootstrap.min.css set `[hidden] { display: none !important; }` so we also need the `!important` here to be able to override the default hidden behavior on the sphinx rendered scikit-learn.org. See: https://github.com/scikit-learn/scikit-learn/issues/21755 */display: inline-block !important;position: relative;}#sk-container-id-2 div.sk-text-repr-fallback {display: none;}</style><div id=\"sk-container-id-2\" class=\"sk-top-container\"><div class=\"sk-text-repr-fallback\"><pre>LinearRegression()</pre><b>In a Jupyter environment, please rerun this cell to show the HTML representation or trust the notebook. <br />On GitHub, the HTML representation is unable to render, please try loading this page with nbviewer.org.</b></div><div class=\"sk-container\" hidden><div class=\"sk-item\"><div class=\"sk-estimator sk-toggleable\"><input class=\"sk-toggleable__control sk-hidden--visually\" id=\"sk-estimator-id-2\" type=\"checkbox\" checked><label for=\"sk-estimator-id-2\" class=\"sk-toggleable__label sk-toggleable__label-arrow\">LinearRegression</label><div class=\"sk-toggleable__content\"><pre>LinearRegression()</pre></div></div></div></div></div>"
          },
          "metadata": {}
        }
      ],
      "execution_count": 32
    },
    {
      "cell_type": "code",
      "source": "weight = regressor.coef_\nweight",
      "metadata": {
        "trusted": true
      },
      "outputs": [
        {
          "execution_count": 33,
          "output_type": "execute_result",
          "data": {
            "text/plain": "array([ 1.33180206e+06,  9.79526220e+03,  1.07560355e+05, -1.40200394e+05,\n        2.08915291e+05,  4.78338542e+03, -3.08867304e+03,  5.04817937e+03,\n        2.20793551e+04,  8.67365416e+05,  1.48540691e+05,  4.67366426e+17,\n        4.63226227e+17,  6.35915620e+17,  5.17521553e+17,  5.89109320e+17,\n        3.88739585e+17,  5.15014927e+17, -5.13421703e+18, -5.24249812e+18,\n       -5.16436967e+18, -5.24440976e+18, -5.20384269e+18,  1.79273298e+18,\n        1.79273298e+18,  7.25569678e+18,  7.26927414e+18,  7.15958345e+18,\n        1.27985298e+18,  1.18236836e+18,  1.44021758e+18,  1.06624406e+19,\n        1.00542404e+19,  1.07444967e+19,  5.39613008e+16,  5.75594687e+16,\n        5.51509665e+16,  9.22819121e+16,  9.23518297e+16,  9.20235923e+16])"
          },
          "metadata": {}
        }
      ],
      "execution_count": 33
    },
    {
      "cell_type": "code",
      "source": "bias = regressor.intercept_\nbias",
      "metadata": {
        "trusted": true
      },
      "outputs": [
        {
          "execution_count": 34,
          "output_type": "execute_result",
          "data": {
            "text/plain": "10940388.528728744"
          },
          "metadata": {}
        }
      ],
      "execution_count": 34
    },
    {
      "cell_type": "code",
      "source": "y_pred = regressor.predict(x_test)",
      "metadata": {
        "trusted": true
      },
      "outputs": [],
      "execution_count": 35
    },
    {
      "cell_type": "code",
      "source": "from sklearn.metrics import r2_score\nr_score = r2_score(y_test,y_pred)\nr_score",
      "metadata": {
        "trusted": true
      },
      "outputs": [
        {
          "execution_count": 36,
          "output_type": "execute_result",
          "data": {
            "text/plain": "0.9633401598789026"
          },
          "metadata": {}
        }
      ],
      "execution_count": 36
    },
    {
      "cell_type": "code",
      "source": "Future_Prediction=regressor.predict([[600,100,1,1,1, # ['INT_SQFT','DIST_MAINROAD', 'N_BEDROOM', 'N_BATHROOM', 'N_ROOM']\n                                 1,1,1,1,1005000,100080, # ['QS_ROOMS','QS_BATHROOM', QS_BEDROOM','QS_OVERALL','REG_FEE','COMMIS']\n                                 0,0,0,0,0,0,1,  # Area['Adyar','Anna Nagar','Chrompet','KK Nagar','Karapakkam','T Nagar','Velachery']\n                                 0,0,0,0,1,  # Sale Cond ['Abnormal','AdjLand','Family','Normal Sale','Partial']\n                                 1,0,  # Parking facility [No, Yes]\n                                 0,0,1,  # Build type ['Commercial','House','Others']\n                                 0,1,0,  # Utility ['All Pub','ELO', 'NoSewage']\n                                 1,0,0,  # Street ['Gravel','Access','Paved']\n                                 0,0,0,0,0,1   #Mzone ['A','C','I','RH','RL','RM']\n                                ]])\n\nprint(\"Future_Prediction={}\".format(Future_Prediction))",
      "metadata": {
        "trusted": true
      },
      "outputs": [
        {
          "name": "stdout",
          "text": "Future_Prediction=[1.62003221e+19]\n",
          "output_type": "stream"
        }
      ],
      "execution_count": 37
    },
    {
      "cell_type": "code",
      "source": "",
      "metadata": {
        "trusted": true
      },
      "outputs": [],
      "execution_count": null
    }
  ]
}