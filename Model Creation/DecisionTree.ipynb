{
  "metadata": {
    "kernelspec": {
      "name": "python",
      "display_name": "Python (Pyodide)",
      "language": "python"
    },
    "language_info": {
      "codemirror_mode": {
        "name": "python",
        "version": 3
      },
      "file_extension": ".py",
      "mimetype": "text/x-python",
      "name": "python",
      "nbconvert_exporter": "python",
      "pygments_lexer": "ipython3",
      "version": "3.8"
    }
  },
  "nbformat_minor": 4,
  "nbformat": 4,
  "cells": [
    {
      "cell_type": "code",
      "source": "import pandas as pd\ndataset = pd.read_csv('preprocessed_housing_data.csv')",
      "metadata": {
        "trusted": true
      },
      "outputs": [],
      "execution_count": 115
    },
    {
      "cell_type": "code",
      "source": "dataset = pd.get_dummies(dataset)",
      "metadata": {
        "trusted": true
      },
      "outputs": [],
      "execution_count": 116
    },
    {
      "cell_type": "code",
      "source": "dataset.head()",
      "metadata": {
        "trusted": true
      },
      "outputs": [
        {
          "execution_count": 117,
          "output_type": "execute_result",
          "data": {
            "text/plain": "   INT_SQFT  DIST_MAINROAD  N_BEDROOM  N_BATHROOM  N_ROOM  QS_ROOMS  \\\n0      1004            131          1           1       3         4   \n1      1986             26          2           1       5         4   \n2       909             70          1           1       3         4   \n3      1855             14          3           2       5         4   \n4      1226             84          1           1       3         3   \n\n   QS_BATHROOM  QS_BEDROOM  QS_OVERALL  REG_FEE  ...  UTILITY_AVAIL_NoSewage  \\\n0            3           4           4   380000  ...                       0   \n1            4           2           3   760122  ...                       0   \n2            3           2           3   421094  ...                       0   \n3            3           3           4   356321  ...                       1   \n4            2           4           3   237000  ...                       0   \n\n   STREET_Gravel  STREET_No Access  STREET_Paved  MZZONE_A  MZZONE_C  \\\n0              0                 0             1         1         0   \n1              1                 0             0         0         0   \n2              1                 0             0         0         0   \n3              0                 0             1         0         0   \n4              1                 0             0         0         1   \n\n   MZZONE_I  MZZONE_RH  MZZONE_RL  MZZONE_RM  \n0         0          0          0          0  \n1         0          1          0          0  \n2         0          0          1          0  \n3         1          0          0          0  \n4         0          0          0          0  \n\n[5 rows x 41 columns]",
            "text/html": "<div>\n<style scoped>\n    .dataframe tbody tr th:only-of-type {\n        vertical-align: middle;\n    }\n\n    .dataframe tbody tr th {\n        vertical-align: top;\n    }\n\n    .dataframe thead th {\n        text-align: right;\n    }\n</style>\n<table border=\"1\" class=\"dataframe\">\n  <thead>\n    <tr style=\"text-align: right;\">\n      <th></th>\n      <th>INT_SQFT</th>\n      <th>DIST_MAINROAD</th>\n      <th>N_BEDROOM</th>\n      <th>N_BATHROOM</th>\n      <th>N_ROOM</th>\n      <th>QS_ROOMS</th>\n      <th>QS_BATHROOM</th>\n      <th>QS_BEDROOM</th>\n      <th>QS_OVERALL</th>\n      <th>REG_FEE</th>\n      <th>...</th>\n      <th>UTILITY_AVAIL_NoSewage</th>\n      <th>STREET_Gravel</th>\n      <th>STREET_No Access</th>\n      <th>STREET_Paved</th>\n      <th>MZZONE_A</th>\n      <th>MZZONE_C</th>\n      <th>MZZONE_I</th>\n      <th>MZZONE_RH</th>\n      <th>MZZONE_RL</th>\n      <th>MZZONE_RM</th>\n    </tr>\n  </thead>\n  <tbody>\n    <tr>\n      <th>0</th>\n      <td>1004</td>\n      <td>131</td>\n      <td>1</td>\n      <td>1</td>\n      <td>3</td>\n      <td>4</td>\n      <td>3</td>\n      <td>4</td>\n      <td>4</td>\n      <td>380000</td>\n      <td>...</td>\n      <td>0</td>\n      <td>0</td>\n      <td>0</td>\n      <td>1</td>\n      <td>1</td>\n      <td>0</td>\n      <td>0</td>\n      <td>0</td>\n      <td>0</td>\n      <td>0</td>\n    </tr>\n    <tr>\n      <th>1</th>\n      <td>1986</td>\n      <td>26</td>\n      <td>2</td>\n      <td>1</td>\n      <td>5</td>\n      <td>4</td>\n      <td>4</td>\n      <td>2</td>\n      <td>3</td>\n      <td>760122</td>\n      <td>...</td>\n      <td>0</td>\n      <td>1</td>\n      <td>0</td>\n      <td>0</td>\n      <td>0</td>\n      <td>0</td>\n      <td>0</td>\n      <td>1</td>\n      <td>0</td>\n      <td>0</td>\n    </tr>\n    <tr>\n      <th>2</th>\n      <td>909</td>\n      <td>70</td>\n      <td>1</td>\n      <td>1</td>\n      <td>3</td>\n      <td>4</td>\n      <td>3</td>\n      <td>2</td>\n      <td>3</td>\n      <td>421094</td>\n      <td>...</td>\n      <td>0</td>\n      <td>1</td>\n      <td>0</td>\n      <td>0</td>\n      <td>0</td>\n      <td>0</td>\n      <td>0</td>\n      <td>0</td>\n      <td>1</td>\n      <td>0</td>\n    </tr>\n    <tr>\n      <th>3</th>\n      <td>1855</td>\n      <td>14</td>\n      <td>3</td>\n      <td>2</td>\n      <td>5</td>\n      <td>4</td>\n      <td>3</td>\n      <td>3</td>\n      <td>4</td>\n      <td>356321</td>\n      <td>...</td>\n      <td>1</td>\n      <td>0</td>\n      <td>0</td>\n      <td>1</td>\n      <td>0</td>\n      <td>0</td>\n      <td>1</td>\n      <td>0</td>\n      <td>0</td>\n      <td>0</td>\n    </tr>\n    <tr>\n      <th>4</th>\n      <td>1226</td>\n      <td>84</td>\n      <td>1</td>\n      <td>1</td>\n      <td>3</td>\n      <td>3</td>\n      <td>2</td>\n      <td>4</td>\n      <td>3</td>\n      <td>237000</td>\n      <td>...</td>\n      <td>0</td>\n      <td>1</td>\n      <td>0</td>\n      <td>0</td>\n      <td>0</td>\n      <td>1</td>\n      <td>0</td>\n      <td>0</td>\n      <td>0</td>\n      <td>0</td>\n    </tr>\n  </tbody>\n</table>\n<p>5 rows × 41 columns</p>\n</div>"
          },
          "metadata": {}
        }
      ],
      "execution_count": 117
    },
    {
      "cell_type": "code",
      "source": "dataset[['MZZONE_RH', 'MZZONE_RL', 'MZZONE_RM']]",
      "metadata": {
        "trusted": true
      },
      "outputs": [
        {
          "execution_count": 118,
          "output_type": "execute_result",
          "data": {
            "text/plain": "      MZZONE_RH  MZZONE_RL  MZZONE_RM\n0             0          0          0\n1             1          0          0\n2             0          1          0\n3             0          0          0\n4             0          0          0\n...         ...        ...        ...\n7104          0          0          1\n7105          1          0          0\n7106          0          0          0\n7107          0          1          0\n7108          0          0          0\n\n[7109 rows x 3 columns]",
            "text/html": "<div>\n<style scoped>\n    .dataframe tbody tr th:only-of-type {\n        vertical-align: middle;\n    }\n\n    .dataframe tbody tr th {\n        vertical-align: top;\n    }\n\n    .dataframe thead th {\n        text-align: right;\n    }\n</style>\n<table border=\"1\" class=\"dataframe\">\n  <thead>\n    <tr style=\"text-align: right;\">\n      <th></th>\n      <th>MZZONE_RH</th>\n      <th>MZZONE_RL</th>\n      <th>MZZONE_RM</th>\n    </tr>\n  </thead>\n  <tbody>\n    <tr>\n      <th>0</th>\n      <td>0</td>\n      <td>0</td>\n      <td>0</td>\n    </tr>\n    <tr>\n      <th>1</th>\n      <td>1</td>\n      <td>0</td>\n      <td>0</td>\n    </tr>\n    <tr>\n      <th>2</th>\n      <td>0</td>\n      <td>1</td>\n      <td>0</td>\n    </tr>\n    <tr>\n      <th>3</th>\n      <td>0</td>\n      <td>0</td>\n      <td>0</td>\n    </tr>\n    <tr>\n      <th>4</th>\n      <td>0</td>\n      <td>0</td>\n      <td>0</td>\n    </tr>\n    <tr>\n      <th>...</th>\n      <td>...</td>\n      <td>...</td>\n      <td>...</td>\n    </tr>\n    <tr>\n      <th>7104</th>\n      <td>0</td>\n      <td>0</td>\n      <td>1</td>\n    </tr>\n    <tr>\n      <th>7105</th>\n      <td>1</td>\n      <td>0</td>\n      <td>0</td>\n    </tr>\n    <tr>\n      <th>7106</th>\n      <td>0</td>\n      <td>0</td>\n      <td>0</td>\n    </tr>\n    <tr>\n      <th>7107</th>\n      <td>0</td>\n      <td>1</td>\n      <td>0</td>\n    </tr>\n    <tr>\n      <th>7108</th>\n      <td>0</td>\n      <td>0</td>\n      <td>0</td>\n    </tr>\n  </tbody>\n</table>\n<p>7109 rows × 3 columns</p>\n</div>"
          },
          "metadata": {}
        }
      ],
      "execution_count": 118
    },
    {
      "cell_type": "code",
      "source": "dataset.columns",
      "metadata": {
        "trusted": true
      },
      "outputs": [
        {
          "execution_count": 119,
          "output_type": "execute_result",
          "data": {
            "text/plain": "Index(['INT_SQFT', 'DIST_MAINROAD', 'N_BEDROOM', 'N_BATHROOM', 'N_ROOM',\n       'QS_ROOMS', 'QS_BATHROOM', 'QS_BEDROOM', 'QS_OVERALL', 'REG_FEE',\n       'COMMIS', 'SALES_PRICE', 'AREA_Adyar', 'AREA_Anna Nagar',\n       'AREA_Chrompet', 'AREA_KK Nagar', 'AREA_Karapakkam', 'AREA_T Nagar',\n       'AREA_Velachery', 'SALE_COND_AbNormal', 'SALE_COND_AdjLand',\n       'SALE_COND_Family', 'SALE_COND_Normal Sale', 'SALE_COND_Partial',\n       'PARK_FACIL_No', 'PARK_FACIL_Yes', 'BUILDTYPE_Commercial',\n       'BUILDTYPE_House', 'BUILDTYPE_Others', 'UTILITY_AVAIL_All Pub',\n       'UTILITY_AVAIL_ELO', 'UTILITY_AVAIL_NoSewage', 'STREET_Gravel',\n       'STREET_No Access', 'STREET_Paved', 'MZZONE_A', 'MZZONE_C', 'MZZONE_I',\n       'MZZONE_RH', 'MZZONE_RL', 'MZZONE_RM'],\n      dtype='object')"
          },
          "metadata": {}
        }
      ],
      "execution_count": 119
    },
    {
      "cell_type": "code",
      "source": "independent = dataset[['INT_SQFT', 'DIST_MAINROAD', 'N_BEDROOM', 'N_BATHROOM', 'N_ROOM',\n       'QS_ROOMS', 'QS_BATHROOM', 'QS_BEDROOM', 'QS_OVERALL', 'REG_FEE',\n       'COMMIS', 'AREA_Adyar', 'AREA_Anna Nagar',\n       'AREA_Chrompet', 'AREA_KK Nagar', 'AREA_Karapakkam', 'AREA_T Nagar',\n       'AREA_Velachery', 'SALE_COND_AbNormal', 'SALE_COND_AdjLand',\n       'SALE_COND_Family', 'SALE_COND_Normal Sale', 'SALE_COND_Partial',\n       'PARK_FACIL_No', 'PARK_FACIL_Yes', 'BUILDTYPE_Commercial',\n       'BUILDTYPE_House', 'BUILDTYPE_Others', 'UTILITY_AVAIL_All Pub',\n       'UTILITY_AVAIL_ELO', 'UTILITY_AVAIL_NoSewage', 'STREET_Gravel',\n       'STREET_No Access', 'STREET_Paved', 'MZZONE_A', 'MZZONE_C', 'MZZONE_I',\n       'MZZONE_RH', 'MZZONE_RL', 'MZZONE_RM']]\ndependent = dataset['SALES_PRICE']",
      "metadata": {
        "trusted": true
      },
      "outputs": [],
      "execution_count": 121
    },
    {
      "cell_type": "markdown",
      "source": "Selected Important 5 features",
      "metadata": {}
    },
    {
      "cell_type": "code",
      "source": "independent = dataset[['INT_SQFT', 'DIST_MAINROAD', 'REG_FEE', 'COMMIS', 'AREA_T Nagar']]\ndependent = dataset['SALES_PRICE']",
      "metadata": {
        "trusted": true
      },
      "outputs": [],
      "execution_count": 79
    },
    {
      "cell_type": "code",
      "source": "from sklearn.model_selection import train_test_split\n\nx_train,x_test,y_train,y_test = train_test_split(independent,dependent,test_size = 0.30,random_state = 0)",
      "metadata": {
        "trusted": true
      },
      "outputs": [],
      "execution_count": 122
    },
    {
      "cell_type": "code",
      "source": "from sklearn.preprocessing import StandardScaler\nsc = StandardScaler()\nx_train = sc.fit_transform(x_train)\nx_test = sc.transform(x_test)",
      "metadata": {
        "trusted": true
      },
      "outputs": [],
      "execution_count": 123
    },
    {
      "cell_type": "code",
      "source": "from sklearn.model_selection import GridSearchCV\nfrom sklearn.tree import DecisionTreeRegressor\nparam_grid = {'criterion':['poisson','squared_error','friedman_mse','absolute_error'],\n'splitter':['random','best'],'max_features':[None,'sqrt','log2']}",
      "metadata": {
        "trusted": true
      },
      "outputs": [],
      "execution_count": 124
    },
    {
      "cell_type": "code",
      "source": "grid = GridSearchCV(DecisionTreeRegressor(),param_grid,refit = True,verbose=3,n_jobs=-1,scoring = 'r2')",
      "metadata": {
        "trusted": true
      },
      "outputs": [],
      "execution_count": 125
    },
    {
      "cell_type": "code",
      "source": "grid.fit(x_train,y_train)",
      "metadata": {
        "trusted": true
      },
      "outputs": [
        {
          "name": "stdout",
          "text": "Fitting 5 folds for each of 24 candidates, totalling 120 fits\n[CV 1/5] END criterion=poisson, max_features=None, splitter=random;, score=0.952 total time=   0.0s\n[CV 2/5] END criterion=poisson, max_features=None, splitter=random;, score=0.952 total time=   0.1s\n[CV 3/5] END criterion=poisson, max_features=None, splitter=random;, score=0.944 total time=   0.1s\n[CV 4/5] END criterion=poisson, max_features=None, splitter=random;, score=0.959 total time=   0.0s\n[CV 5/5] END criterion=poisson, max_features=None, splitter=random;, score=0.948 total time=   0.1s\n[CV 1/5] END criterion=poisson, max_features=None, splitter=best;, score=0.940 total time=   0.1s\n[CV 2/5] END criterion=poisson, max_features=None, splitter=best;, score=0.940 total time=   0.1s\n[CV 3/5] END criterion=poisson, max_features=None, splitter=best;, score=0.935 total time=   0.1s\n[CV 4/5] END criterion=poisson, max_features=None, splitter=best;, score=0.939 total time=   0.1s\n[CV 5/5] END criterion=poisson, max_features=None, splitter=best;, score=0.937 total time=   0.1s\n[CV 1/5] END criterion=poisson, max_features=sqrt, splitter=random;, score=0.918 total time=   0.0s\n[CV 2/5] END criterion=poisson, max_features=sqrt, splitter=random;, score=0.914 total time=   0.0s\n[CV 3/5] END criterion=poisson, max_features=sqrt, splitter=random;, score=0.903 total time=   0.0s\n[CV 4/5] END criterion=poisson, max_features=sqrt, splitter=random;, score=0.912 total time=   0.0s\n[CV 5/5] END criterion=poisson, max_features=sqrt, splitter=random;, score=0.928 total time=   0.0s\n[CV 1/5] END criterion=poisson, max_features=sqrt, splitter=best;, score=0.922 total time=   0.0s\n[CV 2/5] END criterion=poisson, max_features=sqrt, splitter=best;, score=0.921 total time=   0.0s\n[CV 3/5] END criterion=poisson, max_features=sqrt, splitter=best;, score=0.885 total time=   0.0s\n[CV 4/5] END criterion=poisson, max_features=sqrt, splitter=best;, score=0.905 total time=   0.0s\n[CV 5/5] END criterion=poisson, max_features=sqrt, splitter=best;, score=0.875 total time=   0.0s\n[CV 1/5] END criterion=poisson, max_features=log2, splitter=random;, score=0.887 total time=   0.0s\n[CV 2/5] END criterion=poisson, max_features=log2, splitter=random;, score=0.907 total time=   0.0s\n[CV 3/5] END criterion=poisson, max_features=log2, splitter=random;, score=0.883 total time=   0.0s\n[CV 4/5] END criterion=poisson, max_features=log2, splitter=random;, score=0.895 total time=   0.0s\n[CV 5/5] END criterion=poisson, max_features=log2, splitter=random;, score=0.883 total time=   0.0s\n[CV 1/5] END criterion=poisson, max_features=log2, splitter=best;, score=0.829 total time=   0.0s\n[CV 2/5] END criterion=poisson, max_features=log2, splitter=best;, score=0.865 total time=   0.0s\n[CV 3/5] END criterion=poisson, max_features=log2, splitter=best;, score=0.905 total time=   0.0s\n[CV 4/5] END criterion=poisson, max_features=log2, splitter=best;, score=0.882 total time=   0.0s\n[CV 5/5] END criterion=poisson, max_features=log2, splitter=best;, score=0.859 total time=   0.0s\n[CV 1/5] END criterion=squared_error, max_features=None, splitter=random;, score=0.957 total time=   0.0s\n[CV 2/5] END criterion=squared_error, max_features=None, splitter=random;, score=0.957 total time=   0.0s\n[CV 3/5] END criterion=squared_error, max_features=None, splitter=random;, score=0.955 total time=   0.0s\n[CV 4/5] END criterion=squared_error, max_features=None, splitter=random;, score=0.949 total time=   0.1s\n[CV 5/5] END criterion=squared_error, max_features=None, splitter=random;, score=0.947 total time=   0.0s\n[CV 1/5] END criterion=squared_error, max_features=None, splitter=best;, score=0.938 total time=   0.1s\n[CV 2/5] END criterion=squared_error, max_features=None, splitter=best;, score=0.928 total time=   0.1s\n[CV 3/5] END criterion=squared_error, max_features=None, splitter=best;, score=0.925 total time=   0.1s\n[CV 4/5] END criterion=squared_error, max_features=None, splitter=best;, score=0.944 total time=   0.1s\n[CV 5/5] END criterion=squared_error, max_features=None, splitter=best;, score=0.935 total time=   0.1s\n[CV 1/5] END criterion=squared_error, max_features=sqrt, splitter=random;, score=0.898 total time=   0.0s\n[CV 2/5] END criterion=squared_error, max_features=sqrt, splitter=random;, score=0.904 total time=   0.0s\n[CV 3/5] END criterion=squared_error, max_features=sqrt, splitter=random;, score=0.908 total time=   0.0s\n[CV 4/5] END criterion=squared_error, max_features=sqrt, splitter=random;, score=0.917 total time=   0.0s\n[CV 5/5] END criterion=squared_error, max_features=sqrt, splitter=random;, score=0.923 total time=   0.0s\n[CV 1/5] END criterion=squared_error, max_features=sqrt, splitter=best;, score=0.823 total time=   0.0s\n[CV 2/5] END criterion=squared_error, max_features=sqrt, splitter=best;, score=0.878 total time=   0.0s\n[CV 3/5] END criterion=squared_error, max_features=sqrt, splitter=best;, score=0.904 total time=   0.0s\n[CV 4/5] END criterion=squared_error, max_features=sqrt, splitter=best;, score=0.911 total time=   0.0s\n[CV 5/5] END criterion=squared_error, max_features=sqrt, splitter=best;, score=0.887 total time=   0.0s\n[CV 1/5] END criterion=squared_error, max_features=log2, splitter=random;, score=0.902 total time=   0.0s\n[CV 2/5] END criterion=squared_error, max_features=log2, splitter=random;, score=0.886 total time=   0.0s\n[CV 3/5] END criterion=squared_error, max_features=log2, splitter=random;, score=0.855 total time=   0.0s\n[CV 4/5] END criterion=squared_error, max_features=log2, splitter=random;, score=0.909 total time=   0.0s\n[CV 5/5] END criterion=squared_error, max_features=log2, splitter=random;, score=0.900 total time=   0.0s\n[CV 1/5] END criterion=squared_error, max_features=log2, splitter=best;, score=0.891 total time=   0.0s\n[CV 2/5] END criterion=squared_error, max_features=log2, splitter=best;, score=0.911 total time=   0.0s\n[CV 3/5] END criterion=squared_error, max_features=log2, splitter=best;, score=0.875 total time=   0.0s\n[CV 4/5] END criterion=squared_error, max_features=log2, splitter=best;, score=0.856 total time=   0.0s\n[CV 5/5] END criterion=squared_error, max_features=log2, splitter=best;, score=0.861 total time=   0.0s\n[CV 1/5] END criterion=friedman_mse, max_features=None, splitter=random;, score=0.952 total time=   0.0s\n[CV 2/5] END criterion=friedman_mse, max_features=None, splitter=random;, score=0.953 total time=   0.0s\n[CV 3/5] END criterion=friedman_mse, max_features=None, splitter=random;, score=0.948 total time=   0.0s\n[CV 4/5] END criterion=friedman_mse, max_features=None, splitter=random;, score=0.954 total time=   0.0s\n[CV 5/5] END criterion=friedman_mse, max_features=None, splitter=random;, score=0.958 total time=   0.0s\n[CV 1/5] END criterion=friedman_mse, max_features=None, splitter=best;, score=0.939 total time=   0.1s\n[CV 2/5] END criterion=friedman_mse, max_features=None, splitter=best;, score=0.929 total time=   0.1s\n[CV 3/5] END criterion=friedman_mse, max_features=None, splitter=best;, score=0.926 total time=   0.1s\n[CV 4/5] END criterion=friedman_mse, max_features=None, splitter=best;, score=0.943 total time=   0.1s\n[CV 5/5] END criterion=friedman_mse, max_features=None, splitter=best;, score=0.924 total time=   0.1s\n[CV 1/5] END criterion=friedman_mse, max_features=sqrt, splitter=random;, score=0.911 total time=   0.0s\n[CV 2/5] END criterion=friedman_mse, max_features=sqrt, splitter=random;, score=0.886 total time=   0.0s\n[CV 3/5] END criterion=friedman_mse, max_features=sqrt, splitter=random;, score=0.904 total time=   0.0s\n[CV 4/5] END criterion=friedman_mse, max_features=sqrt, splitter=random;, score=0.909 total time=   0.0s\n[CV 5/5] END criterion=friedman_mse, max_features=sqrt, splitter=random;, score=0.873 total time=   0.0s\n[CV 1/5] END criterion=friedman_mse, max_features=sqrt, splitter=best;, score=0.915 total time=   0.0s\n[CV 2/5] END criterion=friedman_mse, max_features=sqrt, splitter=best;, score=0.902 total time=   0.0s\n[CV 3/5] END criterion=friedman_mse, max_features=sqrt, splitter=best;, score=0.900 total time=   0.0s\n[CV 4/5] END criterion=friedman_mse, max_features=sqrt, splitter=best;, score=0.878 total time=   0.0s\n[CV 5/5] END criterion=friedman_mse, max_features=sqrt, splitter=best;, score=0.917 total time=   0.0s\n[CV 1/5] END criterion=friedman_mse, max_features=log2, splitter=random;, score=0.870 total time=   0.0s\n[CV 2/5] END criterion=friedman_mse, max_features=log2, splitter=random;, score=0.891 total time=   0.0s\n[CV 3/5] END criterion=friedman_mse, max_features=log2, splitter=random;, score=0.885 total time=   0.0s\n[CV 4/5] END criterion=friedman_mse, max_features=log2, splitter=random;, score=0.852 total time=   0.0s\n[CV 5/5] END criterion=friedman_mse, max_features=log2, splitter=random;, score=0.832 total time=   0.0s\n[CV 1/5] END criterion=friedman_mse, max_features=log2, splitter=best;, score=0.908 total time=   0.0s\n[CV 2/5] END criterion=friedman_mse, max_features=log2, splitter=best;, score=0.886 total time=   0.0s\n[CV 3/5] END criterion=friedman_mse, max_features=log2, splitter=best;, score=0.887 total time=   0.0s\n[CV 4/5] END criterion=friedman_mse, max_features=log2, splitter=best;, score=0.790 total time=   0.1s\n[CV 5/5] END criterion=friedman_mse, max_features=log2, splitter=best;, score=0.899 total time=   0.0s\n[CV 1/5] END criterion=absolute_error, max_features=None, splitter=random;, score=0.957 total time=   5.9s\n[CV 2/5] END criterion=absolute_error, max_features=None, splitter=random;, score=0.943 total time=   7.0s\n[CV 3/5] END criterion=absolute_error, max_features=None, splitter=random;, score=0.954 total time=   6.7s\n[CV 4/5] END criterion=absolute_error, max_features=None, splitter=random;, score=0.935 total time=   9.0s\n[CV 5/5] END criterion=absolute_error, max_features=None, splitter=random;, score=0.956 total time=   7.2s\n[CV 1/5] END criterion=absolute_error, max_features=None, splitter=best;, score=0.931 total time=   8.1s\n[CV 2/5] END criterion=absolute_error, max_features=None, splitter=best;, score=0.933 total time=   8.3s\n[CV 3/5] END criterion=absolute_error, max_features=None, splitter=best;, score=0.940 total time=   8.6s\n[CV 4/5] END criterion=absolute_error, max_features=None, splitter=best;, score=0.935 total time=   8.7s\n[CV 5/5] END criterion=absolute_error, max_features=None, splitter=best;, score=0.941 total time=   9.0s\n[CV 1/5] END criterion=absolute_error, max_features=sqrt, splitter=random;, score=0.907 total time=   1.7s\n[CV 2/5] END criterion=absolute_error, max_features=sqrt, splitter=random;, score=0.905 total time=   2.2s\n[CV 3/5] END criterion=absolute_error, max_features=sqrt, splitter=random;, score=0.853 total time=   1.8s\n[CV 4/5] END criterion=absolute_error, max_features=sqrt, splitter=random;, score=0.916 total time=   1.7s\n[CV 5/5] END criterion=absolute_error, max_features=sqrt, splitter=random;, score=0.885 total time=   1.8s\n[CV 1/5] END criterion=absolute_error, max_features=sqrt, splitter=best;, score=0.905 total time=   1.5s\n[CV 2/5] END criterion=absolute_error, max_features=sqrt, splitter=best;, score=0.923 total time=   1.4s\n[CV 3/5] END criterion=absolute_error, max_features=sqrt, splitter=best;, score=0.876 total time=   1.6s\n[CV 4/5] END criterion=absolute_error, max_features=sqrt, splitter=best;, score=0.921 total time=   1.7s\n[CV 5/5] END criterion=absolute_error, max_features=sqrt, splitter=best;, score=0.914 total time=   1.5s\n[CV 1/5] END criterion=absolute_error, max_features=log2, splitter=random;, score=0.831 total time=   1.4s\n[CV 2/5] END criterion=absolute_error, max_features=log2, splitter=random;, score=0.883 total time=   1.5s\n[CV 3/5] END criterion=absolute_error, max_features=log2, splitter=random;, score=0.857 total time=   1.5s\n[CV 4/5] END criterion=absolute_error, max_features=log2, splitter=random;, score=0.850 total time=   1.5s\n[CV 5/5] END criterion=absolute_error, max_features=log2, splitter=random;, score=0.876 total time=   1.4s\n[CV 1/5] END criterion=absolute_error, max_features=log2, splitter=best;, score=0.880 total time=   1.4s\n[CV 2/5] END criterion=absolute_error, max_features=log2, splitter=best;, score=0.886 total time=   1.2s\n[CV 3/5] END criterion=absolute_error, max_features=log2, splitter=best;, score=0.894 total time=   1.3s\n[CV 4/5] END criterion=absolute_error, max_features=log2, splitter=best;, score=0.838 total time=   1.4s\n[CV 5/5] END criterion=absolute_error, max_features=log2, splitter=best;, score=0.850 total time=   1.4s\n",
          "output_type": "stream"
        },
        {
          "execution_count": 126,
          "output_type": "execute_result",
          "data": {
            "text/plain": "GridSearchCV(estimator=DecisionTreeRegressor(), n_jobs=-1,\n             param_grid={'criterion': ['poisson', 'squared_error',\n                                       'friedman_mse', 'absolute_error'],\n                         'max_features': [None, 'sqrt', 'log2'],\n                         'splitter': ['random', 'best']},\n             scoring='r2', verbose=3)",
            "text/html": "<style>#sk-container-id-6 {color: black;}#sk-container-id-6 pre{padding: 0;}#sk-container-id-6 div.sk-toggleable {background-color: white;}#sk-container-id-6 label.sk-toggleable__label {cursor: pointer;display: block;width: 100%;margin-bottom: 0;padding: 0.3em;box-sizing: border-box;text-align: center;}#sk-container-id-6 label.sk-toggleable__label-arrow:before {content: \"▸\";float: left;margin-right: 0.25em;color: #696969;}#sk-container-id-6 label.sk-toggleable__label-arrow:hover:before {color: black;}#sk-container-id-6 div.sk-estimator:hover label.sk-toggleable__label-arrow:before {color: black;}#sk-container-id-6 div.sk-toggleable__content {max-height: 0;max-width: 0;overflow: hidden;text-align: left;background-color: #f0f8ff;}#sk-container-id-6 div.sk-toggleable__content pre {margin: 0.2em;color: black;border-radius: 0.25em;background-color: #f0f8ff;}#sk-container-id-6 input.sk-toggleable__control:checked~div.sk-toggleable__content {max-height: 200px;max-width: 100%;overflow: auto;}#sk-container-id-6 input.sk-toggleable__control:checked~label.sk-toggleable__label-arrow:before {content: \"▾\";}#sk-container-id-6 div.sk-estimator input.sk-toggleable__control:checked~label.sk-toggleable__label {background-color: #d4ebff;}#sk-container-id-6 div.sk-label input.sk-toggleable__control:checked~label.sk-toggleable__label {background-color: #d4ebff;}#sk-container-id-6 input.sk-hidden--visually {border: 0;clip: rect(1px 1px 1px 1px);clip: rect(1px, 1px, 1px, 1px);height: 1px;margin: -1px;overflow: hidden;padding: 0;position: absolute;width: 1px;}#sk-container-id-6 div.sk-estimator {font-family: monospace;background-color: #f0f8ff;border: 1px dotted black;border-radius: 0.25em;box-sizing: border-box;margin-bottom: 0.5em;}#sk-container-id-6 div.sk-estimator:hover {background-color: #d4ebff;}#sk-container-id-6 div.sk-parallel-item::after {content: \"\";width: 100%;border-bottom: 1px solid gray;flex-grow: 1;}#sk-container-id-6 div.sk-label:hover label.sk-toggleable__label {background-color: #d4ebff;}#sk-container-id-6 div.sk-serial::before {content: \"\";position: absolute;border-left: 1px solid gray;box-sizing: border-box;top: 0;bottom: 0;left: 50%;z-index: 0;}#sk-container-id-6 div.sk-serial {display: flex;flex-direction: column;align-items: center;background-color: white;padding-right: 0.2em;padding-left: 0.2em;position: relative;}#sk-container-id-6 div.sk-item {position: relative;z-index: 1;}#sk-container-id-6 div.sk-parallel {display: flex;align-items: stretch;justify-content: center;background-color: white;position: relative;}#sk-container-id-6 div.sk-item::before, #sk-container-id-6 div.sk-parallel-item::before {content: \"\";position: absolute;border-left: 1px solid gray;box-sizing: border-box;top: 0;bottom: 0;left: 50%;z-index: -1;}#sk-container-id-6 div.sk-parallel-item {display: flex;flex-direction: column;z-index: 1;position: relative;background-color: white;}#sk-container-id-6 div.sk-parallel-item:first-child::after {align-self: flex-end;width: 50%;}#sk-container-id-6 div.sk-parallel-item:last-child::after {align-self: flex-start;width: 50%;}#sk-container-id-6 div.sk-parallel-item:only-child::after {width: 0;}#sk-container-id-6 div.sk-dashed-wrapped {border: 1px dashed gray;margin: 0 0.4em 0.5em 0.4em;box-sizing: border-box;padding-bottom: 0.4em;background-color: white;}#sk-container-id-6 div.sk-label label {font-family: monospace;font-weight: bold;display: inline-block;line-height: 1.2em;}#sk-container-id-6 div.sk-label-container {text-align: center;}#sk-container-id-6 div.sk-container {/* jupyter's `normalize.less` sets `[hidden] { display: none; }` but bootstrap.min.css set `[hidden] { display: none !important; }` so we also need the `!important` here to be able to override the default hidden behavior on the sphinx rendered scikit-learn.org. See: https://github.com/scikit-learn/scikit-learn/issues/21755 */display: inline-block !important;position: relative;}#sk-container-id-6 div.sk-text-repr-fallback {display: none;}</style><div id=\"sk-container-id-6\" class=\"sk-top-container\"><div class=\"sk-text-repr-fallback\"><pre>GridSearchCV(estimator=DecisionTreeRegressor(), n_jobs=-1,\n             param_grid={&#x27;criterion&#x27;: [&#x27;poisson&#x27;, &#x27;squared_error&#x27;,\n                                       &#x27;friedman_mse&#x27;, &#x27;absolute_error&#x27;],\n                         &#x27;max_features&#x27;: [None, &#x27;sqrt&#x27;, &#x27;log2&#x27;],\n                         &#x27;splitter&#x27;: [&#x27;random&#x27;, &#x27;best&#x27;]},\n             scoring=&#x27;r2&#x27;, verbose=3)</pre><b>In a Jupyter environment, please rerun this cell to show the HTML representation or trust the notebook. <br />On GitHub, the HTML representation is unable to render, please try loading this page with nbviewer.org.</b></div><div class=\"sk-container\" hidden><div class=\"sk-item sk-dashed-wrapped\"><div class=\"sk-label-container\"><div class=\"sk-label sk-toggleable\"><input class=\"sk-toggleable__control sk-hidden--visually\" id=\"sk-estimator-id-16\" type=\"checkbox\" ><label for=\"sk-estimator-id-16\" class=\"sk-toggleable__label sk-toggleable__label-arrow\">GridSearchCV</label><div class=\"sk-toggleable__content\"><pre>GridSearchCV(estimator=DecisionTreeRegressor(), n_jobs=-1,\n             param_grid={&#x27;criterion&#x27;: [&#x27;poisson&#x27;, &#x27;squared_error&#x27;,\n                                       &#x27;friedman_mse&#x27;, &#x27;absolute_error&#x27;],\n                         &#x27;max_features&#x27;: [None, &#x27;sqrt&#x27;, &#x27;log2&#x27;],\n                         &#x27;splitter&#x27;: [&#x27;random&#x27;, &#x27;best&#x27;]},\n             scoring=&#x27;r2&#x27;, verbose=3)</pre></div></div></div><div class=\"sk-parallel\"><div class=\"sk-parallel-item\"><div class=\"sk-item\"><div class=\"sk-label-container\"><div class=\"sk-label sk-toggleable\"><input class=\"sk-toggleable__control sk-hidden--visually\" id=\"sk-estimator-id-17\" type=\"checkbox\" ><label for=\"sk-estimator-id-17\" class=\"sk-toggleable__label sk-toggleable__label-arrow\">estimator: DecisionTreeRegressor</label><div class=\"sk-toggleable__content\"><pre>DecisionTreeRegressor()</pre></div></div></div><div class=\"sk-serial\"><div class=\"sk-item\"><div class=\"sk-estimator sk-toggleable\"><input class=\"sk-toggleable__control sk-hidden--visually\" id=\"sk-estimator-id-18\" type=\"checkbox\" ><label for=\"sk-estimator-id-18\" class=\"sk-toggleable__label sk-toggleable__label-arrow\">DecisionTreeRegressor</label><div class=\"sk-toggleable__content\"><pre>DecisionTreeRegressor()</pre></div></div></div></div></div></div></div></div></div></div>"
          },
          "metadata": {}
        }
      ],
      "execution_count": 126
    },
    {
      "cell_type": "code",
      "source": "from sklearn.metrics import r2_score",
      "metadata": {
        "trusted": true
      },
      "outputs": [],
      "execution_count": 127
    },
    {
      "cell_type": "markdown",
      "source": "# R score using all Columns",
      "metadata": {}
    },
    {
      "cell_type": "code",
      "source": "re = grid.cv_results_\nprint(\"R Score for best parameter {}\".format(grid.best_params_))",
      "metadata": {
        "trusted": true
      },
      "outputs": [
        {
          "name": "stdout",
          "text": "R Score for best parameter {'criterion': 'friedman_mse', 'max_features': None, 'splitter': 'random'}\n",
          "output_type": "stream"
        }
      ],
      "execution_count": 128
    },
    {
      "cell_type": "code",
      "source": "best = grid.best_estimator_\nprint('R2 score ', r2_score(y_test,y_pred = best.predict(x_test)))",
      "metadata": {
        "trusted": true
      },
      "outputs": [
        {
          "name": "stdout",
          "text": "R2 score  0.9591582703631285\n",
          "output_type": "stream"
        }
      ],
      "execution_count": 129
    },
    {
      "cell_type": "code",
      "source": "Future_Prediction=grid.predict([[5000,200,1,1,1, # ['INT_SQFT','DIST_MAINROAD', 'N_BEDROOM', 'N_BATHROOM', 'N_ROOM']\n                                 2,2,2,2,105000,199680, # ['QS_ROOMS','QS_BATHROOM', QS_BEDROOM','QS_OVERALL','REG_FEE','COMMIS']\n                                 0,1,0,0,0,0,0,  # Area['Adyar','Anna Nagar','Chrompet','KK Nagar','Karapakkam','T Nagar','Velachery']\n                                 0,0,0,1,0,  # Sale Cond ['Abnormal','AdjLand','Family','Normal Sale','Partial']\n                                 0,1,  # Parking facility [No, Yes]\n                                 0,1,0,  # Build type ['Commercial','House','Others']\n                                 0,0,1,  # Utility ['All Pub','ELO', 'NoSewage']\n                                 0,1,0,  # Street ['Gravel','Access','Paved']\n                                 0,0,1,0,0,0   #Mzone ['A','C','I','RH','RL','RM']\n                                ]])\n\nprint(\"Future_Prediction={}\".format(Future_Prediction))\n# 4004,131,1,1,3,4,3,4,4,395000\n# 144680,0,0,0,0,1,0,0,1,0,0,0,0\n# 0,1,1,0,0,1,0,0,0,0,1,1,0,0,0,0,0",
      "metadata": {
        "trusted": true
      },
      "outputs": [
        {
          "name": "stdout",
          "text": "Future_Prediction=[12892760.]\n",
          "output_type": "stream"
        }
      ],
      "execution_count": 145
    },
    {
      "cell_type": "markdown",
      "source": "# R score for selected best 5 columns",
      "metadata": {}
    },
    {
      "cell_type": "code",
      "source": "re = grid.cv_results_\nprint(\"R Score for best parameter {}\".format(grid.best_params_))",
      "metadata": {
        "trusted": true
      },
      "outputs": [
        {
          "name": "stdout",
          "text": "R Score for best parameter {'criterion': 'squared_error', 'max_features': None, 'splitter': 'best'}\n",
          "output_type": "stream"
        }
      ],
      "execution_count": 85
    },
    {
      "cell_type": "code",
      "source": "best = grid.best_estimator_\nprint('R2 score ', r2_score(y_test,y_pred = best.predict(x_test)))",
      "metadata": {
        "trusted": true
      },
      "outputs": [
        {
          "name": "stdout",
          "text": "R2 score  0.6394326296216017\n",
          "output_type": "stream"
        }
      ],
      "execution_count": 86
    },
    {
      "cell_type": "code",
      "source": "# INT_SQFT_input = input('enter SQFT')\n# INT_SQFT = int()\n# DIST_MAINROAD_input = input('enter distance to mainroad')\n# DIST_MAINROAD_input = int()\n# REG_FEE_input = input('enter REG_FEE')\n# REG_FEE_input = int()\n# COMMIS_input = input('enter COMMIS')\n# COMMIS_input = int()\n# AREA_T_Nagar_input = input('enter AREA_T Nagar')\n# AREA_T_Nagar_input = int()\n",
      "metadata": {
        "trusted": true
      },
      "outputs": [
        {
          "output_type": "stream",
          "name": "stdin",
          "text": "enter SQFT 1986\nenter distance to mainroad 84\nenter REG_FEE 421094\nenter COMMIS 167028\nenter AREA_T Nagar 1\n"
        }
      ],
      "execution_count": 104
    },
    {
      "cell_type": "code",
      "source": "#1986,84,421094,167028,1\n\nFuture_Prediction=grid.predict([[1986,84,421094,167028,1]])\n\nprint(\"Future_Prediction={}\".format(Future_Prediction))",
      "metadata": {
        "trusted": true
      },
      "outputs": [
        {
          "name": "stdout",
          "text": "Future_Prediction=[19678440.]\n",
          "output_type": "stream"
        }
      ],
      "execution_count": 106
    },
    {
      "cell_type": "code",
      "source": "",
      "metadata": {
        "trusted": true
      },
      "outputs": [],
      "execution_count": null
    }
  ]
}