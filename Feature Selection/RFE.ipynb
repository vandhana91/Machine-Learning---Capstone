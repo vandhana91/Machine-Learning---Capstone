{
  "metadata": {
    "kernelspec": {
      "name": "python",
      "display_name": "Python (Pyodide)",
      "language": "python"
    },
    "language_info": {
      "codemirror_mode": {
        "name": "python",
        "version": 3
      },
      "file_extension": ".py",
      "mimetype": "text/x-python",
      "name": "python",
      "nbconvert_exporter": "python",
      "pygments_lexer": "ipython3",
      "version": "3.8"
    }
  },
  "nbformat_minor": 4,
  "nbformat": 4,
  "cells": [
    {
      "cell_type": "code",
      "source": "import pandas as pd\ndataset = pd.read_csv('preprocessed_housing_data.csv')",
      "metadata": {
        "trusted": true
      },
      "outputs": [],
      "execution_count": 1
    },
    {
      "cell_type": "code",
      "source": "dataset.head()",
      "metadata": {
        "trusted": true
      },
      "outputs": [
        {
          "execution_count": 3,
          "output_type": "execute_result",
          "data": {
            "text/plain": "         AREA  INT_SQFT  DIST_MAINROAD  N_BEDROOM  N_BATHROOM  N_ROOM  \\\n0  Karapakkam      1004            131          1           1       3   \n1  Anna Nagar      1986             26          2           1       5   \n2       Adyar       909             70          1           1       3   \n3   Velachery      1855             14          3           2       5   \n4  Karapakkam      1226             84          1           1       3   \n\n  SALE_COND PARK_FACIL   BUILDTYPE UTILITY_AVAIL  STREET MZZONE  QS_ROOMS  \\\n0  AbNormal        Yes  Commercial       All Pub   Paved      A         4   \n1  AbNormal         No  Commercial       All Pub  Gravel     RH         4   \n2  AbNormal        Yes  Commercial           ELO  Gravel     RL         4   \n3    Family         No      Others      NoSewage   Paved      I         4   \n4  AbNormal        Yes      Others       All Pub  Gravel      C         3   \n\n   QS_BATHROOM  QS_BEDROOM  QS_OVERALL  REG_FEE  COMMIS  SALES_PRICE  \n0            3           4           4   380000  144400      7600000  \n1            4           2           3   760122  304049     21717770  \n2            3           2           3   421094   92114     13159200  \n3            3           3           4   356321   77042      9630290  \n4            2           4           3   237000   74063      7406250  ",
            "text/html": "<div>\n<style scoped>\n    .dataframe tbody tr th:only-of-type {\n        vertical-align: middle;\n    }\n\n    .dataframe tbody tr th {\n        vertical-align: top;\n    }\n\n    .dataframe thead th {\n        text-align: right;\n    }\n</style>\n<table border=\"1\" class=\"dataframe\">\n  <thead>\n    <tr style=\"text-align: right;\">\n      <th></th>\n      <th>AREA</th>\n      <th>INT_SQFT</th>\n      <th>DIST_MAINROAD</th>\n      <th>N_BEDROOM</th>\n      <th>N_BATHROOM</th>\n      <th>N_ROOM</th>\n      <th>SALE_COND</th>\n      <th>PARK_FACIL</th>\n      <th>BUILDTYPE</th>\n      <th>UTILITY_AVAIL</th>\n      <th>STREET</th>\n      <th>MZZONE</th>\n      <th>QS_ROOMS</th>\n      <th>QS_BATHROOM</th>\n      <th>QS_BEDROOM</th>\n      <th>QS_OVERALL</th>\n      <th>REG_FEE</th>\n      <th>COMMIS</th>\n      <th>SALES_PRICE</th>\n    </tr>\n  </thead>\n  <tbody>\n    <tr>\n      <th>0</th>\n      <td>Karapakkam</td>\n      <td>1004</td>\n      <td>131</td>\n      <td>1</td>\n      <td>1</td>\n      <td>3</td>\n      <td>AbNormal</td>\n      <td>Yes</td>\n      <td>Commercial</td>\n      <td>All Pub</td>\n      <td>Paved</td>\n      <td>A</td>\n      <td>4</td>\n      <td>3</td>\n      <td>4</td>\n      <td>4</td>\n      <td>380000</td>\n      <td>144400</td>\n      <td>7600000</td>\n    </tr>\n    <tr>\n      <th>1</th>\n      <td>Anna Nagar</td>\n      <td>1986</td>\n      <td>26</td>\n      <td>2</td>\n      <td>1</td>\n      <td>5</td>\n      <td>AbNormal</td>\n      <td>No</td>\n      <td>Commercial</td>\n      <td>All Pub</td>\n      <td>Gravel</td>\n      <td>RH</td>\n      <td>4</td>\n      <td>4</td>\n      <td>2</td>\n      <td>3</td>\n      <td>760122</td>\n      <td>304049</td>\n      <td>21717770</td>\n    </tr>\n    <tr>\n      <th>2</th>\n      <td>Adyar</td>\n      <td>909</td>\n      <td>70</td>\n      <td>1</td>\n      <td>1</td>\n      <td>3</td>\n      <td>AbNormal</td>\n      <td>Yes</td>\n      <td>Commercial</td>\n      <td>ELO</td>\n      <td>Gravel</td>\n      <td>RL</td>\n      <td>4</td>\n      <td>3</td>\n      <td>2</td>\n      <td>3</td>\n      <td>421094</td>\n      <td>92114</td>\n      <td>13159200</td>\n    </tr>\n    <tr>\n      <th>3</th>\n      <td>Velachery</td>\n      <td>1855</td>\n      <td>14</td>\n      <td>3</td>\n      <td>2</td>\n      <td>5</td>\n      <td>Family</td>\n      <td>No</td>\n      <td>Others</td>\n      <td>NoSewage</td>\n      <td>Paved</td>\n      <td>I</td>\n      <td>4</td>\n      <td>3</td>\n      <td>3</td>\n      <td>4</td>\n      <td>356321</td>\n      <td>77042</td>\n      <td>9630290</td>\n    </tr>\n    <tr>\n      <th>4</th>\n      <td>Karapakkam</td>\n      <td>1226</td>\n      <td>84</td>\n      <td>1</td>\n      <td>1</td>\n      <td>3</td>\n      <td>AbNormal</td>\n      <td>Yes</td>\n      <td>Others</td>\n      <td>All Pub</td>\n      <td>Gravel</td>\n      <td>C</td>\n      <td>3</td>\n      <td>2</td>\n      <td>4</td>\n      <td>3</td>\n      <td>237000</td>\n      <td>74063</td>\n      <td>7406250</td>\n    </tr>\n  </tbody>\n</table>\n</div>"
          },
          "metadata": {}
        }
      ],
      "execution_count": 3
    },
    {
      "cell_type": "code",
      "source": "dataset.columns",
      "metadata": {
        "trusted": true
      },
      "outputs": [
        {
          "execution_count": 4,
          "output_type": "execute_result",
          "data": {
            "text/plain": "Index(['AREA', 'INT_SQFT', 'DIST_MAINROAD', 'N_BEDROOM', 'N_BATHROOM',\n       'N_ROOM', 'SALE_COND', 'PARK_FACIL', 'BUILDTYPE', 'UTILITY_AVAIL',\n       'STREET', 'MZZONE', 'QS_ROOMS', 'QS_BATHROOM', 'QS_BEDROOM',\n       'QS_OVERALL', 'REG_FEE', 'COMMIS', 'SALES_PRICE'],\n      dtype='object')"
          },
          "metadata": {}
        }
      ],
      "execution_count": 4
    },
    {
      "cell_type": "code",
      "source": "dataset = pd.get_dummies(dataset)",
      "metadata": {
        "trusted": true
      },
      "outputs": [],
      "execution_count": 5
    },
    {
      "cell_type": "code",
      "source": "dataset.head()",
      "metadata": {
        "trusted": true
      },
      "outputs": [
        {
          "execution_count": 6,
          "output_type": "execute_result",
          "data": {
            "text/plain": "   INT_SQFT  DIST_MAINROAD  N_BEDROOM  N_BATHROOM  N_ROOM  QS_ROOMS  \\\n0      1004            131          1           1       3         4   \n1      1986             26          2           1       5         4   \n2       909             70          1           1       3         4   \n3      1855             14          3           2       5         4   \n4      1226             84          1           1       3         3   \n\n   QS_BATHROOM  QS_BEDROOM  QS_OVERALL  REG_FEE  ...  UTILITY_AVAIL_NoSewage  \\\n0            3           4           4   380000  ...                       0   \n1            4           2           3   760122  ...                       0   \n2            3           2           3   421094  ...                       0   \n3            3           3           4   356321  ...                       1   \n4            2           4           3   237000  ...                       0   \n\n   STREET_Gravel  STREET_No Access  STREET_Paved  MZZONE_A  MZZONE_C  \\\n0              0                 0             1         1         0   \n1              1                 0             0         0         0   \n2              1                 0             0         0         0   \n3              0                 0             1         0         0   \n4              1                 0             0         0         1   \n\n   MZZONE_I  MZZONE_RH  MZZONE_RL  MZZONE_RM  \n0         0          0          0          0  \n1         0          1          0          0  \n2         0          0          1          0  \n3         1          0          0          0  \n4         0          0          0          0  \n\n[5 rows x 41 columns]",
            "text/html": "<div>\n<style scoped>\n    .dataframe tbody tr th:only-of-type {\n        vertical-align: middle;\n    }\n\n    .dataframe tbody tr th {\n        vertical-align: top;\n    }\n\n    .dataframe thead th {\n        text-align: right;\n    }\n</style>\n<table border=\"1\" class=\"dataframe\">\n  <thead>\n    <tr style=\"text-align: right;\">\n      <th></th>\n      <th>INT_SQFT</th>\n      <th>DIST_MAINROAD</th>\n      <th>N_BEDROOM</th>\n      <th>N_BATHROOM</th>\n      <th>N_ROOM</th>\n      <th>QS_ROOMS</th>\n      <th>QS_BATHROOM</th>\n      <th>QS_BEDROOM</th>\n      <th>QS_OVERALL</th>\n      <th>REG_FEE</th>\n      <th>...</th>\n      <th>UTILITY_AVAIL_NoSewage</th>\n      <th>STREET_Gravel</th>\n      <th>STREET_No Access</th>\n      <th>STREET_Paved</th>\n      <th>MZZONE_A</th>\n      <th>MZZONE_C</th>\n      <th>MZZONE_I</th>\n      <th>MZZONE_RH</th>\n      <th>MZZONE_RL</th>\n      <th>MZZONE_RM</th>\n    </tr>\n  </thead>\n  <tbody>\n    <tr>\n      <th>0</th>\n      <td>1004</td>\n      <td>131</td>\n      <td>1</td>\n      <td>1</td>\n      <td>3</td>\n      <td>4</td>\n      <td>3</td>\n      <td>4</td>\n      <td>4</td>\n      <td>380000</td>\n      <td>...</td>\n      <td>0</td>\n      <td>0</td>\n      <td>0</td>\n      <td>1</td>\n      <td>1</td>\n      <td>0</td>\n      <td>0</td>\n      <td>0</td>\n      <td>0</td>\n      <td>0</td>\n    </tr>\n    <tr>\n      <th>1</th>\n      <td>1986</td>\n      <td>26</td>\n      <td>2</td>\n      <td>1</td>\n      <td>5</td>\n      <td>4</td>\n      <td>4</td>\n      <td>2</td>\n      <td>3</td>\n      <td>760122</td>\n      <td>...</td>\n      <td>0</td>\n      <td>1</td>\n      <td>0</td>\n      <td>0</td>\n      <td>0</td>\n      <td>0</td>\n      <td>0</td>\n      <td>1</td>\n      <td>0</td>\n      <td>0</td>\n    </tr>\n    <tr>\n      <th>2</th>\n      <td>909</td>\n      <td>70</td>\n      <td>1</td>\n      <td>1</td>\n      <td>3</td>\n      <td>4</td>\n      <td>3</td>\n      <td>2</td>\n      <td>3</td>\n      <td>421094</td>\n      <td>...</td>\n      <td>0</td>\n      <td>1</td>\n      <td>0</td>\n      <td>0</td>\n      <td>0</td>\n      <td>0</td>\n      <td>0</td>\n      <td>0</td>\n      <td>1</td>\n      <td>0</td>\n    </tr>\n    <tr>\n      <th>3</th>\n      <td>1855</td>\n      <td>14</td>\n      <td>3</td>\n      <td>2</td>\n      <td>5</td>\n      <td>4</td>\n      <td>3</td>\n      <td>3</td>\n      <td>4</td>\n      <td>356321</td>\n      <td>...</td>\n      <td>1</td>\n      <td>0</td>\n      <td>0</td>\n      <td>1</td>\n      <td>0</td>\n      <td>0</td>\n      <td>1</td>\n      <td>0</td>\n      <td>0</td>\n      <td>0</td>\n    </tr>\n    <tr>\n      <th>4</th>\n      <td>1226</td>\n      <td>84</td>\n      <td>1</td>\n      <td>1</td>\n      <td>3</td>\n      <td>3</td>\n      <td>2</td>\n      <td>4</td>\n      <td>3</td>\n      <td>237000</td>\n      <td>...</td>\n      <td>0</td>\n      <td>1</td>\n      <td>0</td>\n      <td>0</td>\n      <td>0</td>\n      <td>1</td>\n      <td>0</td>\n      <td>0</td>\n      <td>0</td>\n      <td>0</td>\n    </tr>\n  </tbody>\n</table>\n<p>5 rows × 41 columns</p>\n</div>"
          },
          "metadata": {}
        }
      ],
      "execution_count": 6
    },
    {
      "cell_type": "code",
      "source": "dataset.columns",
      "metadata": {
        "trusted": true
      },
      "outputs": [
        {
          "execution_count": 7,
          "output_type": "execute_result",
          "data": {
            "text/plain": "Index(['INT_SQFT', 'DIST_MAINROAD', 'N_BEDROOM', 'N_BATHROOM', 'N_ROOM',\n       'QS_ROOMS', 'QS_BATHROOM', 'QS_BEDROOM', 'QS_OVERALL', 'REG_FEE',\n       'COMMIS', 'SALES_PRICE', 'AREA_Adyar', 'AREA_Anna Nagar',\n       'AREA_Chrompet', 'AREA_KK Nagar', 'AREA_Karapakkam', 'AREA_T Nagar',\n       'AREA_Velachery', 'SALE_COND_AbNormal', 'SALE_COND_AdjLand',\n       'SALE_COND_Family', 'SALE_COND_Normal Sale', 'SALE_COND_Partial',\n       'PARK_FACIL_No', 'PARK_FACIL_Yes', 'BUILDTYPE_Commercial',\n       'BUILDTYPE_House', 'BUILDTYPE_Others', 'UTILITY_AVAIL_All Pub',\n       'UTILITY_AVAIL_ELO', 'UTILITY_AVAIL_NoSewage', 'STREET_Gravel',\n       'STREET_No Access', 'STREET_Paved', 'MZZONE_A', 'MZZONE_C', 'MZZONE_I',\n       'MZZONE_RH', 'MZZONE_RL', 'MZZONE_RM'],\n      dtype='object')"
          },
          "metadata": {}
        }
      ],
      "execution_count": 7
    },
    {
      "cell_type": "code",
      "source": "indep_X = dataset[['INT_SQFT', 'DIST_MAINROAD', 'N_BEDROOM', 'N_BATHROOM', 'N_ROOM',\n       'QS_ROOMS', 'QS_BATHROOM', 'QS_BEDROOM', 'QS_OVERALL', 'REG_FEE',\n       'COMMIS', 'AREA_Adyar', 'AREA_Anna Nagar',\n       'AREA_Chrompet', 'AREA_KK Nagar', 'AREA_Karapakkam', 'AREA_T Nagar',\n       'AREA_Velachery', 'SALE_COND_AbNormal', 'SALE_COND_AdjLand',\n       'SALE_COND_Family', 'SALE_COND_Normal Sale', 'SALE_COND_Partial',\n       'PARK_FACIL_No', 'PARK_FACIL_Yes', 'BUILDTYPE_Commercial',\n       'BUILDTYPE_House', 'BUILDTYPE_Others', 'UTILITY_AVAIL_All Pub',\n       'UTILITY_AVAIL_ELO', 'UTILITY_AVAIL_NoSewage', 'STREET_Gravel',\n       'STREET_No Access', 'STREET_Paved', 'MZZONE_A', 'MZZONE_C', 'MZZONE_I',\n       'MZZONE_RH', 'MZZONE_RL', 'MZZONE_RM']]\ndep_Y = dataset['SALES_PRICE']",
      "metadata": {
        "trusted": true
      },
      "outputs": [],
      "execution_count": 8
    },
    {
      "cell_type": "code",
      "source": "import pandas as pd\nfrom sklearn.model_selection import train_test_split \nimport time\nimport numpy as np\nfrom sklearn.preprocessing import StandardScaler\nfrom sklearn.feature_selection import SelectKBest\nfrom sklearn.feature_selection import chi2\nfrom sklearn.feature_selection import RFE\nfrom sklearn.linear_model import LogisticRegression\nimport pickle\nimport matplotlib.pyplot as plt",
      "metadata": {
        "trusted": true
      },
      "outputs": [],
      "execution_count": 9
    },
    {
      "cell_type": "code",
      "source": "def r2_prediction(regressor,X_test,y_test):\n    y_pred = regressor.predict(X_test)\n    from sklearn.metrics import r2_score\n    r2=r2_score(y_test,y_pred)\n    return r2",
      "metadata": {
        "trusted": true
      },
      "outputs": [],
      "execution_count": 10
    },
    {
      "cell_type": "code",
      "source": "def split_scalar(indep_X,dep_Y):\n    X_train, X_test, y_train, y_test = train_test_split(indep_X, dep_Y, test_size = 0.25, random_state = 0)\n    #X_train, X_test, y_train, y_test = train_test_split(indep_X,dep_Y, test_size = 0.25, random_state = 0)\n    \n    #Feature Scaling\n    #from sklearn.preprocessing import StandardScaler\n    sc = StandardScaler()\n    X_train = sc.fit_transform(X_train)\n    X_test = sc.transform(X_test)    \n    return X_train, X_test, y_train, y_test\n    \n\n \ndef Linear(X_train,y_train,X_test):       \n    # Fitting K-NN to the Training set\n    from sklearn.linear_model import LinearRegression\n    regressor = LinearRegression()\n    regressor.fit(X_train, y_train)\n    r2=r2_prediction(regressor,X_test,y_test)\n    return  r2   \n    \ndef svm_linear(X_train,y_train,X_test):\n                \n    from sklearn.svm import SVR\n    regressor = SVR(kernel = 'linear')\n    regressor.fit(X_train, y_train)\n    r2=r2_prediction(regressor,X_test,y_test)\n    return  r2  \n    \ndef svm_NL(X_train,y_train,X_test):\n            \n    from sklearn.svm import SVR\n    regressor = SVR(kernel = 'rbf')\n    regressor.fit(X_train, y_train)\n    r2=r2_prediction(regressor,X_test,y_test)\n    return  r2  \n     \n\ndef Decision(X_train,y_train,X_test):\n        \n    # Fitting K-NN to the Training setC\n    from sklearn.tree import DecisionTreeRegressor\n    regressor = DecisionTreeRegressor(random_state = 0)\n    regressor.fit(X_train, y_train)\n    r2=r2_prediction(regressor,X_test,y_test)\n    return  r2  \n     \n\ndef random(X_train,y_train,X_test):       \n    # Fitting K-NN to the Training set\n    from sklearn.ensemble import RandomForestRegressor\n    regressor = RandomForestRegressor(n_estimators = 10, random_state = 0)\n    regressor.fit(X_train, y_train)\n    r2=r2_prediction(regressor,X_test,y_test)\n    return  r2 \n    \ndef rfeFeature(indep_X,dep_Y,n):\n    rfelist=[]\n        \n    from sklearn.linear_model import LinearRegression\n    lin = LinearRegression()\n    \n    from sklearn.svm import SVR\n    SVRl = SVR(kernel = 'linear')\n    \n    from sklearn.svm import SVR\n    #SVRnl = SVR(kernel = 'rbf')\n    \n    from sklearn.tree import DecisionTreeRegressor\n    dec = DecisionTreeRegressor(random_state = 0)\n    \n    from sklearn.ensemble import RandomForestRegressor\n    rf = RandomForestRegressor(n_estimators = 10, random_state = 0)\n    \n    \n    rfemodellist=[lin,dec,rf]#lin,SVRl,dec,rf] \n    for i in rfemodellist:\n        print(i)\n        log_rfe = RFE(estimator=i, n_features_to_select=n)\n        log_fit = log_rfe.fit(indep_X, dep_Y)\n        log_rfe_feature=log_fit.transform(indep_X)\n        rfelist.append(log_rfe_feature)\n    return rfelist\n    \n# def rfe_regression(acclog,accsvml,accdes,accrf): \n    \n#     rfedataframe=pd.DataFrame(index=['Linear','SVC','Random','DecisionTree'],columns=['Linear','SVMl',\n#                                                                                         'Decision','Random'])\n    \n#     for number,idex in enumerate(rfedataframe.index):\n        \n#         rfedataframe['Linear'][idex]=acclog[number]       \n#         rfedataframe['SVMl'][idex]=accsvml[number]\n#         rfedataframe['Decision'][idex]=accdes[number]\n#         rfedataframe['Random'][idex]=accrf[number]\n#     return rfedataframe",
      "metadata": {
        "trusted": true
      },
      "outputs": [],
      "execution_count": 45
    },
    {
      "cell_type": "code",
      "source": "# estimator = SVR(kernel=\"linear\")\n# selector = RFE(estimator, n_features_to_select=5, step=1)",
      "metadata": {
        "trusted": true
      },
      "outputs": [],
      "execution_count": 46
    },
    {
      "cell_type": "code",
      "source": "rfelist=rfeFeature(indep_X,dep_Y,6)",
      "metadata": {
        "trusted": true
      },
      "outputs": [
        {
          "name": "stdout",
          "text": "LinearRegression()\nDecisionTreeRegressor(random_state=0)\nRandomForestRegressor(n_estimators=10, random_state=0)\n",
          "output_type": "stream"
        }
      ],
      "execution_count": 67
    },
    {
      "cell_type": "code",
      "source": "def rfe_regression(acclog,accdes,accrf): \n    \n    rfedataframe=pd.DataFrame(index=['Linear','DecisionTree','Random'],columns=['Linear','Decision','Random'])\n    \n    for number,idex in enumerate(rfedataframe.index):\n        \n        rfedataframe['Linear'][idex]=acclog[number]       \n        # rfedataframe['SVMl'][idex]=accsvml[number]\n        rfedataframe['Decision'][idex]=accdes[number]\n        rfedataframe['Random'][idex]=accrf[number]\n    return rfedataframe",
      "metadata": {
        "trusted": true
      },
      "outputs": [],
      "execution_count": 68
    },
    {
      "cell_type": "code",
      "source": "result=rfe_regression(acclin,accdes,accrf)\n",
      "metadata": {
        "trusted": true
      },
      "outputs": [],
      "execution_count": 69
    },
    {
      "cell_type": "code",
      "source": "# n = 3\nresult",
      "metadata": {
        "trusted": true
      },
      "outputs": [
        {
          "execution_count": 57,
          "output_type": "execute_result",
          "data": {
            "text/plain": "                Linear  Decision    Random\nLinear        0.182217  0.182217  0.181816\nDecisionTree  0.808107  0.681117   0.78625\nRandom        0.808107  0.681117   0.78625",
            "text/html": "<div>\n<style scoped>\n    .dataframe tbody tr th:only-of-type {\n        vertical-align: middle;\n    }\n\n    .dataframe tbody tr th {\n        vertical-align: top;\n    }\n\n    .dataframe thead th {\n        text-align: right;\n    }\n</style>\n<table border=\"1\" class=\"dataframe\">\n  <thead>\n    <tr style=\"text-align: right;\">\n      <th></th>\n      <th>Linear</th>\n      <th>Decision</th>\n      <th>Random</th>\n    </tr>\n  </thead>\n  <tbody>\n    <tr>\n      <th>Linear</th>\n      <td>0.182217</td>\n      <td>0.182217</td>\n      <td>0.181816</td>\n    </tr>\n    <tr>\n      <th>DecisionTree</th>\n      <td>0.808107</td>\n      <td>0.681117</td>\n      <td>0.78625</td>\n    </tr>\n    <tr>\n      <th>Random</th>\n      <td>0.808107</td>\n      <td>0.681117</td>\n      <td>0.78625</td>\n    </tr>\n  </tbody>\n</table>\n</div>"
          },
          "metadata": {}
        }
      ],
      "execution_count": 57
    },
    {
      "cell_type": "code",
      "source": "# n=4 \nresult",
      "metadata": {
        "trusted": true
      },
      "outputs": [
        {
          "execution_count": 62,
          "output_type": "execute_result",
          "data": {
            "text/plain": "                Linear  Decision    Random\nLinear        0.185367  0.185367  0.185037\nDecisionTree  0.847768  0.774623  0.848473\nRandom        0.847768  0.774623  0.848473",
            "text/html": "<div>\n<style scoped>\n    .dataframe tbody tr th:only-of-type {\n        vertical-align: middle;\n    }\n\n    .dataframe tbody tr th {\n        vertical-align: top;\n    }\n\n    .dataframe thead th {\n        text-align: right;\n    }\n</style>\n<table border=\"1\" class=\"dataframe\">\n  <thead>\n    <tr style=\"text-align: right;\">\n      <th></th>\n      <th>Linear</th>\n      <th>Decision</th>\n      <th>Random</th>\n    </tr>\n  </thead>\n  <tbody>\n    <tr>\n      <th>Linear</th>\n      <td>0.185367</td>\n      <td>0.185367</td>\n      <td>0.185037</td>\n    </tr>\n    <tr>\n      <th>DecisionTree</th>\n      <td>0.847768</td>\n      <td>0.774623</td>\n      <td>0.848473</td>\n    </tr>\n    <tr>\n      <th>Random</th>\n      <td>0.847768</td>\n      <td>0.774623</td>\n      <td>0.848473</td>\n    </tr>\n  </tbody>\n</table>\n</div>"
          },
          "metadata": {}
        }
      ],
      "execution_count": 62
    },
    {
      "cell_type": "code",
      "source": "# n= 5\nresult",
      "metadata": {
        "trusted": true
      },
      "outputs": [
        {
          "execution_count": 66,
          "output_type": "execute_result",
          "data": {
            "text/plain": "                Linear  Decision    Random\nLinear        0.185367  0.185367  0.185037\nDecisionTree  0.847768  0.774623  0.848473\nRandom        0.847768  0.774623  0.848473",
            "text/html": "<div>\n<style scoped>\n    .dataframe tbody tr th:only-of-type {\n        vertical-align: middle;\n    }\n\n    .dataframe tbody tr th {\n        vertical-align: top;\n    }\n\n    .dataframe thead th {\n        text-align: right;\n    }\n</style>\n<table border=\"1\" class=\"dataframe\">\n  <thead>\n    <tr style=\"text-align: right;\">\n      <th></th>\n      <th>Linear</th>\n      <th>Decision</th>\n      <th>Random</th>\n    </tr>\n  </thead>\n  <tbody>\n    <tr>\n      <th>Linear</th>\n      <td>0.185367</td>\n      <td>0.185367</td>\n      <td>0.185037</td>\n    </tr>\n    <tr>\n      <th>DecisionTree</th>\n      <td>0.847768</td>\n      <td>0.774623</td>\n      <td>0.848473</td>\n    </tr>\n    <tr>\n      <th>Random</th>\n      <td>0.847768</td>\n      <td>0.774623</td>\n      <td>0.848473</td>\n    </tr>\n  </tbody>\n</table>\n</div>"
          },
          "metadata": {}
        }
      ],
      "execution_count": 66
    },
    {
      "cell_type": "code",
      "source": "#n=6\nresult",
      "metadata": {
        "trusted": true
      },
      "outputs": [
        {
          "execution_count": 70,
          "output_type": "execute_result",
          "data": {
            "text/plain": "                Linear  Decision    Random\nLinear        0.185367  0.185367  0.185037\nDecisionTree  0.847768  0.774623  0.848473\nRandom        0.847768  0.774623  0.848473",
            "text/html": "<div>\n<style scoped>\n    .dataframe tbody tr th:only-of-type {\n        vertical-align: middle;\n    }\n\n    .dataframe tbody tr th {\n        vertical-align: top;\n    }\n\n    .dataframe thead th {\n        text-align: right;\n    }\n</style>\n<table border=\"1\" class=\"dataframe\">\n  <thead>\n    <tr style=\"text-align: right;\">\n      <th></th>\n      <th>Linear</th>\n      <th>Decision</th>\n      <th>Random</th>\n    </tr>\n  </thead>\n  <tbody>\n    <tr>\n      <th>Linear</th>\n      <td>0.185367</td>\n      <td>0.185367</td>\n      <td>0.185037</td>\n    </tr>\n    <tr>\n      <th>DecisionTree</th>\n      <td>0.847768</td>\n      <td>0.774623</td>\n      <td>0.848473</td>\n    </tr>\n    <tr>\n      <th>Random</th>\n      <td>0.847768</td>\n      <td>0.774623</td>\n      <td>0.848473</td>\n    </tr>\n  </tbody>\n</table>\n</div>"
          },
          "metadata": {}
        }
      ],
      "execution_count": 70
    },
    {
      "cell_type": "code",
      "source": "",
      "metadata": {
        "trusted": true
      },
      "outputs": [],
      "execution_count": null
    }
  ]
}