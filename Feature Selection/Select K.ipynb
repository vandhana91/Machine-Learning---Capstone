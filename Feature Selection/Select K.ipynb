{
  "metadata": {
    "kernelspec": {
      "name": "python",
      "display_name": "Python (Pyodide)",
      "language": "python"
    },
    "language_info": {
      "codemirror_mode": {
        "name": "python",
        "version": 3
      },
      "file_extension": ".py",
      "mimetype": "text/x-python",
      "name": "python",
      "nbconvert_exporter": "python",
      "pygments_lexer": "ipython3",
      "version": "3.8"
    }
  },
  "nbformat_minor": 4,
  "nbformat": 4,
  "cells": [
    {
      "cell_type": "code",
      "source": "import pandas as pd\ndataset = pd.read_csv('preprocessed_housing_data.csv')",
      "metadata": {
        "trusted": true
      },
      "outputs": [],
      "execution_count": 1
    },
    {
      "cell_type": "code",
      "source": "dataset.head()",
      "metadata": {
        "trusted": true
      },
      "outputs": [
        {
          "execution_count": 3,
          "output_type": "execute_result",
          "data": {
            "text/plain": "         AREA  INT_SQFT  DIST_MAINROAD  N_BEDROOM  N_BATHROOM  N_ROOM  \\\n0  Karapakkam      1004            131          1           1       3   \n1  Anna Nagar      1986             26          2           1       5   \n2       Adyar       909             70          1           1       3   \n3   Velachery      1855             14          3           2       5   \n4  Karapakkam      1226             84          1           1       3   \n\n  SALE_COND PARK_FACIL   BUILDTYPE UTILITY_AVAIL  STREET MZZONE  QS_ROOMS  \\\n0  AbNormal        Yes  Commercial       All Pub   Paved      A         4   \n1  AbNormal         No  Commercial       All Pub  Gravel     RH         4   \n2  AbNormal        Yes  Commercial           ELO  Gravel     RL         4   \n3    Family         No      Others      NoSewage   Paved      I         4   \n4  AbNormal        Yes      Others       All Pub  Gravel      C         3   \n\n   QS_BATHROOM  QS_BEDROOM  QS_OVERALL  REG_FEE  COMMIS  SALES_PRICE  \n0            3           4           4   380000  144400      7600000  \n1            4           2           3   760122  304049     21717770  \n2            3           2           3   421094   92114     13159200  \n3            3           3           4   356321   77042      9630290  \n4            2           4           3   237000   74063      7406250  ",
            "text/html": "<div>\n<style scoped>\n    .dataframe tbody tr th:only-of-type {\n        vertical-align: middle;\n    }\n\n    .dataframe tbody tr th {\n        vertical-align: top;\n    }\n\n    .dataframe thead th {\n        text-align: right;\n    }\n</style>\n<table border=\"1\" class=\"dataframe\">\n  <thead>\n    <tr style=\"text-align: right;\">\n      <th></th>\n      <th>AREA</th>\n      <th>INT_SQFT</th>\n      <th>DIST_MAINROAD</th>\n      <th>N_BEDROOM</th>\n      <th>N_BATHROOM</th>\n      <th>N_ROOM</th>\n      <th>SALE_COND</th>\n      <th>PARK_FACIL</th>\n      <th>BUILDTYPE</th>\n      <th>UTILITY_AVAIL</th>\n      <th>STREET</th>\n      <th>MZZONE</th>\n      <th>QS_ROOMS</th>\n      <th>QS_BATHROOM</th>\n      <th>QS_BEDROOM</th>\n      <th>QS_OVERALL</th>\n      <th>REG_FEE</th>\n      <th>COMMIS</th>\n      <th>SALES_PRICE</th>\n    </tr>\n  </thead>\n  <tbody>\n    <tr>\n      <th>0</th>\n      <td>Karapakkam</td>\n      <td>1004</td>\n      <td>131</td>\n      <td>1</td>\n      <td>1</td>\n      <td>3</td>\n      <td>AbNormal</td>\n      <td>Yes</td>\n      <td>Commercial</td>\n      <td>All Pub</td>\n      <td>Paved</td>\n      <td>A</td>\n      <td>4</td>\n      <td>3</td>\n      <td>4</td>\n      <td>4</td>\n      <td>380000</td>\n      <td>144400</td>\n      <td>7600000</td>\n    </tr>\n    <tr>\n      <th>1</th>\n      <td>Anna Nagar</td>\n      <td>1986</td>\n      <td>26</td>\n      <td>2</td>\n      <td>1</td>\n      <td>5</td>\n      <td>AbNormal</td>\n      <td>No</td>\n      <td>Commercial</td>\n      <td>All Pub</td>\n      <td>Gravel</td>\n      <td>RH</td>\n      <td>4</td>\n      <td>4</td>\n      <td>2</td>\n      <td>3</td>\n      <td>760122</td>\n      <td>304049</td>\n      <td>21717770</td>\n    </tr>\n    <tr>\n      <th>2</th>\n      <td>Adyar</td>\n      <td>909</td>\n      <td>70</td>\n      <td>1</td>\n      <td>1</td>\n      <td>3</td>\n      <td>AbNormal</td>\n      <td>Yes</td>\n      <td>Commercial</td>\n      <td>ELO</td>\n      <td>Gravel</td>\n      <td>RL</td>\n      <td>4</td>\n      <td>3</td>\n      <td>2</td>\n      <td>3</td>\n      <td>421094</td>\n      <td>92114</td>\n      <td>13159200</td>\n    </tr>\n    <tr>\n      <th>3</th>\n      <td>Velachery</td>\n      <td>1855</td>\n      <td>14</td>\n      <td>3</td>\n      <td>2</td>\n      <td>5</td>\n      <td>Family</td>\n      <td>No</td>\n      <td>Others</td>\n      <td>NoSewage</td>\n      <td>Paved</td>\n      <td>I</td>\n      <td>4</td>\n      <td>3</td>\n      <td>3</td>\n      <td>4</td>\n      <td>356321</td>\n      <td>77042</td>\n      <td>9630290</td>\n    </tr>\n    <tr>\n      <th>4</th>\n      <td>Karapakkam</td>\n      <td>1226</td>\n      <td>84</td>\n      <td>1</td>\n      <td>1</td>\n      <td>3</td>\n      <td>AbNormal</td>\n      <td>Yes</td>\n      <td>Others</td>\n      <td>All Pub</td>\n      <td>Gravel</td>\n      <td>C</td>\n      <td>3</td>\n      <td>2</td>\n      <td>4</td>\n      <td>3</td>\n      <td>237000</td>\n      <td>74063</td>\n      <td>7406250</td>\n    </tr>\n  </tbody>\n</table>\n</div>"
          },
          "metadata": {}
        }
      ],
      "execution_count": 3
    },
    {
      "cell_type": "code",
      "source": "dataset.columns",
      "metadata": {
        "trusted": true
      },
      "outputs": [
        {
          "execution_count": 4,
          "output_type": "execute_result",
          "data": {
            "text/plain": "Index(['AREA', 'INT_SQFT', 'DIST_MAINROAD', 'N_BEDROOM', 'N_BATHROOM',\n       'N_ROOM', 'SALE_COND', 'PARK_FACIL', 'BUILDTYPE', 'UTILITY_AVAIL',\n       'STREET', 'MZZONE', 'QS_ROOMS', 'QS_BATHROOM', 'QS_BEDROOM',\n       'QS_OVERALL', 'REG_FEE', 'COMMIS', 'SALES_PRICE'],\n      dtype='object')"
          },
          "metadata": {}
        }
      ],
      "execution_count": 4
    },
    {
      "cell_type": "code",
      "source": "for col in dataset.columns:\n    if dataset[col].dtypes == 'object':\n        print(col)",
      "metadata": {
        "trusted": true
      },
      "outputs": [
        {
          "name": "stdout",
          "text": "AREA\nSALE_COND\nPARK_FACIL\nBUILDTYPE\nUTILITY_AVAIL\nSTREET\nMZZONE\n",
          "output_type": "stream"
        }
      ],
      "execution_count": 5
    },
    {
      "cell_type": "code",
      "source": "dataset.info()",
      "metadata": {
        "trusted": true
      },
      "outputs": [
        {
          "name": "stdout",
          "text": "<class 'pandas.core.frame.DataFrame'>\nRangeIndex: 7109 entries, 0 to 7108\nData columns (total 19 columns):\n #   Column         Non-Null Count  Dtype \n---  ------         --------------  ----- \n 0   AREA           7109 non-null   object\n 1   INT_SQFT       7109 non-null   int64 \n 2   DIST_MAINROAD  7109 non-null   int64 \n 3   N_BEDROOM      7109 non-null   int64 \n 4   N_BATHROOM     7109 non-null   int64 \n 5   N_ROOM         7109 non-null   int64 \n 6   SALE_COND      7109 non-null   object\n 7   PARK_FACIL     7109 non-null   object\n 8   BUILDTYPE      7109 non-null   object\n 9   UTILITY_AVAIL  7109 non-null   object\n 10  STREET         7109 non-null   object\n 11  MZZONE         7109 non-null   object\n 12  QS_ROOMS       7109 non-null   int64 \n 13  QS_BATHROOM    7109 non-null   int64 \n 14  QS_BEDROOM     7109 non-null   int64 \n 15  QS_OVERALL     7109 non-null   int64 \n 16  REG_FEE        7109 non-null   int64 \n 17  COMMIS         7109 non-null   int64 \n 18  SALES_PRICE    7109 non-null   int64 \ndtypes: int64(12), object(7)\nmemory usage: 860.9+ KB\n",
          "output_type": "stream"
        }
      ],
      "execution_count": 6
    },
    {
      "cell_type": "code",
      "source": "dataset = pd.get_dummies(dataset)",
      "metadata": {
        "trusted": true
      },
      "outputs": [],
      "execution_count": 7
    },
    {
      "cell_type": "code",
      "source": "dataset.head()",
      "metadata": {
        "trusted": true
      },
      "outputs": [
        {
          "execution_count": 8,
          "output_type": "execute_result",
          "data": {
            "text/plain": "   INT_SQFT  DIST_MAINROAD  N_BEDROOM  N_BATHROOM  N_ROOM  QS_ROOMS  \\\n0      1004            131          1           1       3         4   \n1      1986             26          2           1       5         4   \n2       909             70          1           1       3         4   \n3      1855             14          3           2       5         4   \n4      1226             84          1           1       3         3   \n\n   QS_BATHROOM  QS_BEDROOM  QS_OVERALL  REG_FEE  ...  UTILITY_AVAIL_NoSewage  \\\n0            3           4           4   380000  ...                       0   \n1            4           2           3   760122  ...                       0   \n2            3           2           3   421094  ...                       0   \n3            3           3           4   356321  ...                       1   \n4            2           4           3   237000  ...                       0   \n\n   STREET_Gravel  STREET_No Access  STREET_Paved  MZZONE_A  MZZONE_C  \\\n0              0                 0             1         1         0   \n1              1                 0             0         0         0   \n2              1                 0             0         0         0   \n3              0                 0             1         0         0   \n4              1                 0             0         0         1   \n\n   MZZONE_I  MZZONE_RH  MZZONE_RL  MZZONE_RM  \n0         0          0          0          0  \n1         0          1          0          0  \n2         0          0          1          0  \n3         1          0          0          0  \n4         0          0          0          0  \n\n[5 rows x 41 columns]",
            "text/html": "<div>\n<style scoped>\n    .dataframe tbody tr th:only-of-type {\n        vertical-align: middle;\n    }\n\n    .dataframe tbody tr th {\n        vertical-align: top;\n    }\n\n    .dataframe thead th {\n        text-align: right;\n    }\n</style>\n<table border=\"1\" class=\"dataframe\">\n  <thead>\n    <tr style=\"text-align: right;\">\n      <th></th>\n      <th>INT_SQFT</th>\n      <th>DIST_MAINROAD</th>\n      <th>N_BEDROOM</th>\n      <th>N_BATHROOM</th>\n      <th>N_ROOM</th>\n      <th>QS_ROOMS</th>\n      <th>QS_BATHROOM</th>\n      <th>QS_BEDROOM</th>\n      <th>QS_OVERALL</th>\n      <th>REG_FEE</th>\n      <th>...</th>\n      <th>UTILITY_AVAIL_NoSewage</th>\n      <th>STREET_Gravel</th>\n      <th>STREET_No Access</th>\n      <th>STREET_Paved</th>\n      <th>MZZONE_A</th>\n      <th>MZZONE_C</th>\n      <th>MZZONE_I</th>\n      <th>MZZONE_RH</th>\n      <th>MZZONE_RL</th>\n      <th>MZZONE_RM</th>\n    </tr>\n  </thead>\n  <tbody>\n    <tr>\n      <th>0</th>\n      <td>1004</td>\n      <td>131</td>\n      <td>1</td>\n      <td>1</td>\n      <td>3</td>\n      <td>4</td>\n      <td>3</td>\n      <td>4</td>\n      <td>4</td>\n      <td>380000</td>\n      <td>...</td>\n      <td>0</td>\n      <td>0</td>\n      <td>0</td>\n      <td>1</td>\n      <td>1</td>\n      <td>0</td>\n      <td>0</td>\n      <td>0</td>\n      <td>0</td>\n      <td>0</td>\n    </tr>\n    <tr>\n      <th>1</th>\n      <td>1986</td>\n      <td>26</td>\n      <td>2</td>\n      <td>1</td>\n      <td>5</td>\n      <td>4</td>\n      <td>4</td>\n      <td>2</td>\n      <td>3</td>\n      <td>760122</td>\n      <td>...</td>\n      <td>0</td>\n      <td>1</td>\n      <td>0</td>\n      <td>0</td>\n      <td>0</td>\n      <td>0</td>\n      <td>0</td>\n      <td>1</td>\n      <td>0</td>\n      <td>0</td>\n    </tr>\n    <tr>\n      <th>2</th>\n      <td>909</td>\n      <td>70</td>\n      <td>1</td>\n      <td>1</td>\n      <td>3</td>\n      <td>4</td>\n      <td>3</td>\n      <td>2</td>\n      <td>3</td>\n      <td>421094</td>\n      <td>...</td>\n      <td>0</td>\n      <td>1</td>\n      <td>0</td>\n      <td>0</td>\n      <td>0</td>\n      <td>0</td>\n      <td>0</td>\n      <td>0</td>\n      <td>1</td>\n      <td>0</td>\n    </tr>\n    <tr>\n      <th>3</th>\n      <td>1855</td>\n      <td>14</td>\n      <td>3</td>\n      <td>2</td>\n      <td>5</td>\n      <td>4</td>\n      <td>3</td>\n      <td>3</td>\n      <td>4</td>\n      <td>356321</td>\n      <td>...</td>\n      <td>1</td>\n      <td>0</td>\n      <td>0</td>\n      <td>1</td>\n      <td>0</td>\n      <td>0</td>\n      <td>1</td>\n      <td>0</td>\n      <td>0</td>\n      <td>0</td>\n    </tr>\n    <tr>\n      <th>4</th>\n      <td>1226</td>\n      <td>84</td>\n      <td>1</td>\n      <td>1</td>\n      <td>3</td>\n      <td>3</td>\n      <td>2</td>\n      <td>4</td>\n      <td>3</td>\n      <td>237000</td>\n      <td>...</td>\n      <td>0</td>\n      <td>1</td>\n      <td>0</td>\n      <td>0</td>\n      <td>0</td>\n      <td>1</td>\n      <td>0</td>\n      <td>0</td>\n      <td>0</td>\n      <td>0</td>\n    </tr>\n  </tbody>\n</table>\n<p>5 rows × 41 columns</p>\n</div>"
          },
          "metadata": {}
        }
      ],
      "execution_count": 8
    },
    {
      "cell_type": "code",
      "source": "dataset.columns",
      "metadata": {
        "trusted": true
      },
      "outputs": [
        {
          "execution_count": 9,
          "output_type": "execute_result",
          "data": {
            "text/plain": "Index(['INT_SQFT', 'DIST_MAINROAD', 'N_BEDROOM', 'N_BATHROOM', 'N_ROOM',\n       'QS_ROOMS', 'QS_BATHROOM', 'QS_BEDROOM', 'QS_OVERALL', 'REG_FEE',\n       'COMMIS', 'SALES_PRICE', 'AREA_Adyar', 'AREA_Anna Nagar',\n       'AREA_Chrompet', 'AREA_KK Nagar', 'AREA_Karapakkam', 'AREA_T Nagar',\n       'AREA_Velachery', 'SALE_COND_AbNormal', 'SALE_COND_AdjLand',\n       'SALE_COND_Family', 'SALE_COND_Normal Sale', 'SALE_COND_Partial',\n       'PARK_FACIL_No', 'PARK_FACIL_Yes', 'BUILDTYPE_Commercial',\n       'BUILDTYPE_House', 'BUILDTYPE_Others', 'UTILITY_AVAIL_All Pub',\n       'UTILITY_AVAIL_ELO', 'UTILITY_AVAIL_NoSewage', 'STREET_Gravel',\n       'STREET_No Access', 'STREET_Paved', 'MZZONE_A', 'MZZONE_C', 'MZZONE_I',\n       'MZZONE_RH', 'MZZONE_RL', 'MZZONE_RM'],\n      dtype='object')"
          },
          "metadata": {}
        }
      ],
      "execution_count": 9
    },
    {
      "cell_type": "code",
      "source": "independent = dataset[['INT_SQFT', 'DIST_MAINROAD', 'N_BEDROOM', 'N_BATHROOM', 'N_ROOM',\n       'QS_ROOMS', 'QS_BATHROOM', 'QS_BEDROOM', 'QS_OVERALL', 'REG_FEE',\n       'COMMIS', 'AREA_Adyar', 'AREA_Anna Nagar',\n       'AREA_Chrompet', 'AREA_KK Nagar', 'AREA_Karapakkam', 'AREA_T Nagar',\n       'AREA_Velachery', 'SALE_COND_AbNormal', 'SALE_COND_AdjLand',\n       'SALE_COND_Family', 'SALE_COND_Normal Sale', 'SALE_COND_Partial',\n       'PARK_FACIL_No', 'PARK_FACIL_Yes', 'BUILDTYPE_Commercial',\n       'BUILDTYPE_House', 'BUILDTYPE_Others', 'UTILITY_AVAIL_All Pub',\n       'UTILITY_AVAIL_ELO', 'UTILITY_AVAIL_NoSewage', 'STREET_Gravel',\n       'STREET_No Access', 'STREET_Paved', 'MZZONE_A', 'MZZONE_C', 'MZZONE_I',\n       'MZZONE_RH', 'MZZONE_RL', 'MZZONE_RM']]\ndependent = dataset['SALES_PRICE']",
      "metadata": {
        "trusted": true
      },
      "outputs": [],
      "execution_count": 10
    },
    {
      "cell_type": "code",
      "source": "import pandas as pd\nfrom sklearn.model_selection import train_test_split \nimport time\nimport numpy as np\nfrom sklearn.preprocessing import StandardScaler\nfrom sklearn.feature_selection import SelectKBest\nfrom sklearn.feature_selection import chi2\nfrom sklearn.feature_selection import RFE\nfrom sklearn.linear_model import LogisticRegression\nimport pickle\nimport matplotlib.pyplot as plt",
      "metadata": {
        "trusted": true
      },
      "outputs": [],
      "execution_count": 11
    },
    {
      "cell_type": "code",
      "source": "def r2_prediction(regressor,X_test,y_test):\n    y_pred = regressor.predict(X_test)\n    from sklearn.metrics import r2_score\n    r2=r2_score(y_test,y_pred)\n    return r2",
      "metadata": {
        "trusted": true
      },
      "outputs": [],
      "execution_count": 12
    },
    {
      "cell_type": "code",
      "source": "from sklearn.metrics import r2_score",
      "metadata": {
        "trusted": true
      },
      "outputs": [],
      "execution_count": 13
    },
    {
      "cell_type": "code",
      "source": "def selectkbest(independent,dependent,n):\n    test = SelectKBest(score_func=chi2, k=n)\n    fit1= test.fit(independent,dependent)\n    # summarize scores       \n    selectk_features = fit1.transform(independent)\n    return selectk_features\n    \ndef split_scalar(independent,dependent):\n    X_train, X_test, y_train, y_test = train_test_split(independent,dependent, test_size = 0.25, random_state = 0)\n    sc = StandardScaler()\n    X_train = sc.fit_transform(X_train)\n    X_test = sc.transform(X_test)    \n    return X_train, X_test, y_train, y_test\n    \n\n \ndef Linear(X_train,y_train,X_test):       \n    # Fitting K-NN to the Training set\n    from sklearn.linear_model import LinearRegression\n    regressor = LinearRegression()\n    regressor = regressor.fit(X_train, y_train)\n    y_pred = regressor.predict(X_test)\n    r2 = r2_score(y_test,y_pred)\n    return  r2   \n    \ndef svm_linear(X_train,y_train,X_test):\n                \n    from sklearn.svm import SVR\n    regressor = SVR(kernel = 'linear',C= 10)\n    regressor = regressor.fit(X_train, y_train)\n    y_pred = regressor.predict(X_test)\n    r2 = r2_score(y_test,y_pred)\n    return  r2  \n    \ndef svm_NL(X_train,y_train,X_test):\n                \n    from sklearn.svm import SVR\n    regressor = SVR(kernel = 'rbf',C= 10)\n    regressor = regressor.fit(X_train, y_train)\n    y_pred = regressor.predict(X_test)\n    r2 = r2_score(y_test,y_pred)\n    return  r2  \n     \n\ndef Decision(X_train,y_train,X_test):\n        \n    # Fitting K-NN to the Training setC\n    from sklearn.tree import DecisionTreeRegressor\n    regressor = DecisionTreeRegressor(criterion='poisson', splitter='random',max_features= None)\n    regressor = regressor.fit(X_train, y_train)\n    y_pred = regressor.predict(X_test)\n    r2 = r2_score(y_test,y_pred)\n    return  r2  \n     \n\ndef random(X_train,y_train,X_test):       \n    # Fitting K-NN to the Training set\n    from sklearn.ensemble import RandomForestRegressor\n    regressor = RandomForestRegressor(n_estimators = 10, random_state = 0)\n    regressor = regressor.fit(X_train, y_train)\n    y_pred = regressor.predict(X_test)\n    r2 = r2_score(y_test,y_pred)\n    return  r2 \n    \n    \n# def selectk_regression(acclin,accsvml,accsvmnl,accdes,accrf): \n    \n#     dataframe=pd.DataFrame(index=['ChiSquare'],columns=['Linear','SVMl','SVMnl','Decision','Random'])\n    \n#     for number,index in enumerate(dataframe.index):\n        \n#         dataframe['Linear'][index]=acclin[number]       \n#         dataframe['SVMl'][index]=accsvml[number]\n#         dataframe['SVMnl'][index]=accsvmnl[number]\n#         dataframe['Decision'][index]=accdes[number]\n#         dataframe['Random'][index]=accrf[number]\n#     return dataframe",
      "metadata": {
        "trusted": true
      },
      "outputs": [],
      "execution_count": 14
    },
    {
      "cell_type": "code",
      "source": "kbest=selectkbest(independent,dependent,5)      ",
      "metadata": {
        "trusted": true
      },
      "outputs": [],
      "execution_count": 15
    },
    {
      "cell_type": "code",
      "source": "kbest",
      "metadata": {
        "trusted": true
      },
      "outputs": [
        {
          "execution_count": 16,
          "output_type": "execute_result",
          "data": {
            "text/plain": "array([[  1004,    131, 380000, 144400,      0],\n       [  1986,     26, 760122, 304049,      0],\n       [   909,     70, 421094,  92114,      0],\n       ...,\n       [  1614,    152, 317354, 167028,      0],\n       [   787,     40, 425350, 119098,      0],\n       [  1896,    156, 349177,  79812,      0]], dtype=int64)"
          },
          "metadata": {}
        }
      ],
      "execution_count": 16
    },
    {
      "cell_type": "markdown",
      "source": "important features",
      "metadata": {}
    },
    {
      "cell_type": "code",
      "source": "select = SelectKBest(score_func=chi2, k=5)\nz= select.fit(independent,dependent)\nfilter = select.get_support(5)\nX_new = independent[independent.columns[filter]]\nX_new.columns",
      "metadata": {
        "trusted": true
      },
      "outputs": [
        {
          "execution_count": 36,
          "output_type": "execute_result",
          "data": {
            "text/plain": "Index(['INT_SQFT', 'DIST_MAINROAD', 'REG_FEE', 'COMMIS', 'AREA_T Nagar'], dtype='object')"
          },
          "metadata": {}
        }
      ],
      "execution_count": 36
    },
    {
      "cell_type": "code",
      "source": "4 important features - Index(['INT_SQFT', 'DIST_MAINROAD', 'REG_FEE', 'COMMIS'], dtype='object')\n5 important features - Index(['INT_SQFT', 'DIST_MAINROAD', 'REG_FEE', 'COMMIS', 'AREA_T Nagar'], dtype='object')",
      "metadata": {
        "trusted": true
      },
      "outputs": [],
      "execution_count": null
    },
    {
      "cell_type": "code",
      "source": "acclin=[]\naccsvml=[]\naccsvmnl=[]\naccdes=[]\naccrf=[]\n",
      "metadata": {
        "trusted": true
      },
      "outputs": [],
      "execution_count": 16
    },
    {
      "cell_type": "code",
      "source": "X_train, X_test, y_train, y_test=split_scalar(kbest,dependent) ",
      "metadata": {
        "trusted": true
      },
      "outputs": [],
      "execution_count": 17
    },
    {
      "cell_type": "code",
      "source": " \n# for i in kbest:   \n#     r2_lin=Linear(X_train,y_train,X_test)\n#     acclin.append(r2_lin)\n    \n#     r2_sl=svm_linear(X_train,y_train,X_test)    \n#     accsvml.append(r2_sl)\n    \n#     r2_NL=svm_NL(X_train,y_train,X_test)\n#     accsvmnl.append(r2_NL)\n    \n#     r2_d=Decision(X_train,y_train,X_test)\n#     accdes.append(r2_d)\n    \n#     r2_r=random(X_train,y_train,X_test)\n#     accrf.append(r2_r)\n",
      "metadata": {
        "trusted": true
      },
      "outputs": [],
      "execution_count": null
    },
    {
      "cell_type": "code",
      "source": "def Linear(X_train,y_train,X_test):       \n    # Fitting K-NN to the Training set\n    from sklearn.linear_model import LinearRegression\n    regressor = LinearRegression()\n    regressor.fit(X_train, y_train)\n    r2=r2_prediction(regressor,X_test,y_test)\n    return  r2  ",
      "metadata": {
        "trusted": true
      },
      "outputs": [],
      "execution_count": 18
    },
    {
      "cell_type": "code",
      "source": "acclin = []\n\n  \nfor i in kbest:   \n    r2_lin=Linear(X_train,y_train,X_test)\n    acclin.append(r2_lin)\n",
      "metadata": {
        "trusted": true
      },
      "outputs": [],
      "execution_count": 19
    },
    {
      "cell_type": "code",
      "source": "# def svm_linear(X_train,y_train,X_test):\n                \n#     from sklearn.svm import SVR\n#     regressor = SVR(kernel = 'linear')\n#     regressor.fit(X_train, y_train)\n#     r2=r2_prediction(regressor,X_test,y_test)\n#     return  r2",
      "metadata": {
        "trusted": true
      },
      "outputs": [],
      "execution_count": 20
    },
    {
      "cell_type": "code",
      "source": "# accsvml=[]\n# for i in kbest:\n#     r2_sl=svm_linear(X_train,y_train,X_test)    \n#     accsvml.append(r2_sl)",
      "metadata": {
        "trusted": true
      },
      "outputs": [],
      "execution_count": null
    },
    {
      "cell_type": "code",
      "source": "# def svm_NL(X_train,y_train,X_test):\n                \n#     from sklearn.svm import SVR\n#     regressor = SVR(kernel = 'rbf')\n#     regressor.fit(X_train, y_train)\n#     r2=r2_prediction(regressor,X_test,y_test)\n#     return  r2  ",
      "metadata": {
        "trusted": true
      },
      "outputs": [],
      "execution_count": 21
    },
    {
      "cell_type": "code",
      "source": "# accsvmnl=[]\n# for i in kbest:\n#     r2_NL=svm_NL(X_train,y_train,X_test)\n#     accsvmnl.append(r2_NL)",
      "metadata": {
        "trusted": true
      },
      "outputs": [],
      "execution_count": null
    },
    {
      "cell_type": "code",
      "source": "def Decision(X_train,y_train,X_test):\n        \n    # Fitting K-NN to the Training setC\n    from sklearn.tree import DecisionTreeRegressor\n    regressor = DecisionTreeRegressor(random_state = 0)\n    regressor.fit(X_train, y_train)\n    r2=r2_prediction(regressor,X_test,y_test)\n    return  r2  ",
      "metadata": {
        "trusted": true
      },
      "outputs": [],
      "execution_count": 20
    },
    {
      "cell_type": "code",
      "source": "accdes=[]\nfor i in kbest:\n    r2_d=Decision(X_train,y_train,X_test)\n    accdes.append(r2_d)",
      "metadata": {
        "trusted": true
      },
      "outputs": [],
      "execution_count": 21
    },
    {
      "cell_type": "code",
      "source": "# def random(X_train,y_train,X_test):       \n#     # Fitting K-NN to the Training set\n#     from sklearn.ensemble import RandomForestRegressor\n#     regressor = RandomForestRegressor(n_estimators = 10, random_state = 0)\n#     regressor = regressor.fit(X_train, y_train)\n#     y_pred = regressor.predict(X_test)\n#     r2 = r2_score(y_test,y_pred)\n#     return  r2 ",
      "metadata": {
        "trusted": true
      },
      "outputs": [],
      "execution_count": 44
    },
    {
      "cell_type": "code",
      "source": "# accrf=[]\n# for i in kbest:\n#     r2_r=random(X_train,y_train,X_test)\n#     accrf.append(r2_r)",
      "metadata": {
        "trusted": true
      },
      "outputs": [],
      "execution_count": null
    },
    {
      "cell_type": "code",
      "source": "def selectk_regression(acclin,accdes): \n    \n    dataframe=pd.DataFrame(index=['ChiSquare'],columns=['Linear','Decision'])\n    \n    for number,index in enumerate(dataframe.index):\n        dataframe['Linear'][index]=acclin[number]\n        dataframe['Decision'][index]=accdes[number]       \n        \n    return dataframe",
      "metadata": {
        "trusted": true
      },
      "outputs": [],
      "execution_count": 22
    },
    {
      "cell_type": "code",
      "source": "result=selectk_regression(acclin,accdes)",
      "metadata": {
        "trusted": true
      },
      "outputs": [],
      "execution_count": 23
    },
    {
      "cell_type": "code",
      "source": "# n=3\nresult",
      "metadata": {
        "trusted": true
      },
      "outputs": [
        {
          "execution_count": 24,
          "output_type": "execute_result",
          "data": {
            "text/plain": "             Linear  Decision\nChiSquare  0.762573  0.611003",
            "text/html": "<div>\n<style scoped>\n    .dataframe tbody tr th:only-of-type {\n        vertical-align: middle;\n    }\n\n    .dataframe tbody tr th {\n        vertical-align: top;\n    }\n\n    .dataframe thead th {\n        text-align: right;\n    }\n</style>\n<table border=\"1\" class=\"dataframe\">\n  <thead>\n    <tr style=\"text-align: right;\">\n      <th></th>\n      <th>Linear</th>\n      <th>Decision</th>\n    </tr>\n  </thead>\n  <tbody>\n    <tr>\n      <th>ChiSquare</th>\n      <td>0.762573</td>\n      <td>0.611003</td>\n    </tr>\n  </tbody>\n</table>\n</div>"
          },
          "metadata": {}
        }
      ],
      "execution_count": 24
    },
    {
      "cell_type": "code",
      "source": "#n= 4\nresult",
      "metadata": {
        "trusted": true
      },
      "outputs": [
        {
          "execution_count": 35,
          "output_type": "execute_result",
          "data": {
            "text/plain": "             Linear  Decision\nChiSquare  0.762487  0.644178",
            "text/html": "<div>\n<style scoped>\n    .dataframe tbody tr th:only-of-type {\n        vertical-align: middle;\n    }\n\n    .dataframe tbody tr th {\n        vertical-align: top;\n    }\n\n    .dataframe thead th {\n        text-align: right;\n    }\n</style>\n<table border=\"1\" class=\"dataframe\">\n  <thead>\n    <tr style=\"text-align: right;\">\n      <th></th>\n      <th>Linear</th>\n      <th>Decision</th>\n    </tr>\n  </thead>\n  <tbody>\n    <tr>\n      <th>ChiSquare</th>\n      <td>0.762487</td>\n      <td>0.644178</td>\n    </tr>\n  </tbody>\n</table>\n</div>"
          },
          "metadata": {}
        }
      ],
      "execution_count": 35
    },
    {
      "cell_type": "code",
      "source": "#n=5\nresult",
      "metadata": {
        "trusted": true
      },
      "outputs": [
        {
          "execution_count": 24,
          "output_type": "execute_result",
          "data": {
            "text/plain": "             Linear  Decision\nChiSquare  0.778886  0.645968",
            "text/html": "<div>\n<style scoped>\n    .dataframe tbody tr th:only-of-type {\n        vertical-align: middle;\n    }\n\n    .dataframe tbody tr th {\n        vertical-align: top;\n    }\n\n    .dataframe thead th {\n        text-align: right;\n    }\n</style>\n<table border=\"1\" class=\"dataframe\">\n  <thead>\n    <tr style=\"text-align: right;\">\n      <th></th>\n      <th>Linear</th>\n      <th>Decision</th>\n    </tr>\n  </thead>\n  <tbody>\n    <tr>\n      <th>ChiSquare</th>\n      <td>0.778886</td>\n      <td>0.645968</td>\n    </tr>\n  </tbody>\n</table>\n</div>"
          },
          "metadata": {}
        }
      ],
      "execution_count": 24
    },
    {
      "cell_type": "code",
      "source": "",
      "metadata": {
        "trusted": true
      },
      "outputs": [],
      "execution_count": null
    }
  ]
}