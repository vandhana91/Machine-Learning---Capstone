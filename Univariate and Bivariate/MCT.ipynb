{
  "metadata": {
    "kernelspec": {
      "name": "python",
      "display_name": "Python (Pyodide)",
      "language": "python"
    },
    "language_info": {
      "codemirror_mode": {
        "name": "python",
        "version": 3
      },
      "file_extension": ".py",
      "mimetype": "text/x-python",
      "name": "python",
      "nbconvert_exporter": "python",
      "pygments_lexer": "ipython3",
      "version": "3.8"
    }
  },
  "nbformat_minor": 4,
  "nbformat": 4,
  "cells": [
    {
      "cell_type": "code",
      "source": "import pandas as pd\nimport numpy as np\n%load univariate.py",
      "metadata": {
        "trusted": true
      },
      "outputs": [],
      "execution_count": 1
    },
    {
      "cell_type": "code",
      "source": "from univariate import *",
      "metadata": {
        "trusted": true
      },
      "outputs": [],
      "execution_count": 2
    },
    {
      "cell_type": "code",
      "source": "dataset = pd.read_csv(\"preprocessed_housing_data.csv\")",
      "metadata": {
        "trusted": true
      },
      "outputs": [],
      "execution_count": 3
    },
    {
      "cell_type": "code",
      "source": "dataset.head()",
      "metadata": {
        "trusted": true
      },
      "outputs": [
        {
          "execution_count": 4,
          "output_type": "execute_result",
          "data": {
            "text/plain": "   PRT_ID        AREA  INT_SQFT   DATE_SALE  DIST_MAINROAD  N_BEDROOM  \\\n0  P03210  Karapakkam      1004  2011-05-04            131          1   \n1  P09411  Anna Nagar      1986  2006-12-19             26          2   \n2  P01812       Adyar       909  2012-02-04             70          1   \n3  P05346   Velachery      1855  2010-03-13             14          3   \n4  P06210  Karapakkam      1226  2009-10-05             84          1   \n\n   N_BATHROOM  N_ROOM SALE_COND PARK_FACIL  ... UTILITY_AVAIL  STREET MZZONE  \\\n0           1       3  AbNormal        Yes  ...       All Pub   Paved      A   \n1           1       5  AbNormal         No  ...       All Pub  Gravel     RH   \n2           1       3  AbNormal        Yes  ...           ELO  Gravel     RL   \n3           2       5    Family         No  ...      NoSewage   Paved      I   \n4           1       3  AbNormal        Yes  ...       All Pub  Gravel      C   \n\n  QS_ROOMS QS_BATHROOM  QS_BEDROOM  QS_OVERALL  REG_FEE  COMMIS  SALES_PRICE  \n0        4           3           4           4   380000  144400      7600000  \n1        4           4           2           3   760122  304049     21717770  \n2        4           3           2           3   421094   92114     13159200  \n3        4           3           3           4   356321   77042      9630290  \n4        3           2           4           3   237000   74063      7406250  \n\n[5 rows x 22 columns]",
            "text/html": "<div>\n<style scoped>\n    .dataframe tbody tr th:only-of-type {\n        vertical-align: middle;\n    }\n\n    .dataframe tbody tr th {\n        vertical-align: top;\n    }\n\n    .dataframe thead th {\n        text-align: right;\n    }\n</style>\n<table border=\"1\" class=\"dataframe\">\n  <thead>\n    <tr style=\"text-align: right;\">\n      <th></th>\n      <th>PRT_ID</th>\n      <th>AREA</th>\n      <th>INT_SQFT</th>\n      <th>DATE_SALE</th>\n      <th>DIST_MAINROAD</th>\n      <th>N_BEDROOM</th>\n      <th>N_BATHROOM</th>\n      <th>N_ROOM</th>\n      <th>SALE_COND</th>\n      <th>PARK_FACIL</th>\n      <th>...</th>\n      <th>UTILITY_AVAIL</th>\n      <th>STREET</th>\n      <th>MZZONE</th>\n      <th>QS_ROOMS</th>\n      <th>QS_BATHROOM</th>\n      <th>QS_BEDROOM</th>\n      <th>QS_OVERALL</th>\n      <th>REG_FEE</th>\n      <th>COMMIS</th>\n      <th>SALES_PRICE</th>\n    </tr>\n  </thead>\n  <tbody>\n    <tr>\n      <th>0</th>\n      <td>P03210</td>\n      <td>Karapakkam</td>\n      <td>1004</td>\n      <td>2011-05-04</td>\n      <td>131</td>\n      <td>1</td>\n      <td>1</td>\n      <td>3</td>\n      <td>AbNormal</td>\n      <td>Yes</td>\n      <td>...</td>\n      <td>All Pub</td>\n      <td>Paved</td>\n      <td>A</td>\n      <td>4</td>\n      <td>3</td>\n      <td>4</td>\n      <td>4</td>\n      <td>380000</td>\n      <td>144400</td>\n      <td>7600000</td>\n    </tr>\n    <tr>\n      <th>1</th>\n      <td>P09411</td>\n      <td>Anna Nagar</td>\n      <td>1986</td>\n      <td>2006-12-19</td>\n      <td>26</td>\n      <td>2</td>\n      <td>1</td>\n      <td>5</td>\n      <td>AbNormal</td>\n      <td>No</td>\n      <td>...</td>\n      <td>All Pub</td>\n      <td>Gravel</td>\n      <td>RH</td>\n      <td>4</td>\n      <td>4</td>\n      <td>2</td>\n      <td>3</td>\n      <td>760122</td>\n      <td>304049</td>\n      <td>21717770</td>\n    </tr>\n    <tr>\n      <th>2</th>\n      <td>P01812</td>\n      <td>Adyar</td>\n      <td>909</td>\n      <td>2012-02-04</td>\n      <td>70</td>\n      <td>1</td>\n      <td>1</td>\n      <td>3</td>\n      <td>AbNormal</td>\n      <td>Yes</td>\n      <td>...</td>\n      <td>ELO</td>\n      <td>Gravel</td>\n      <td>RL</td>\n      <td>4</td>\n      <td>3</td>\n      <td>2</td>\n      <td>3</td>\n      <td>421094</td>\n      <td>92114</td>\n      <td>13159200</td>\n    </tr>\n    <tr>\n      <th>3</th>\n      <td>P05346</td>\n      <td>Velachery</td>\n      <td>1855</td>\n      <td>2010-03-13</td>\n      <td>14</td>\n      <td>3</td>\n      <td>2</td>\n      <td>5</td>\n      <td>Family</td>\n      <td>No</td>\n      <td>...</td>\n      <td>NoSewage</td>\n      <td>Paved</td>\n      <td>I</td>\n      <td>4</td>\n      <td>3</td>\n      <td>3</td>\n      <td>4</td>\n      <td>356321</td>\n      <td>77042</td>\n      <td>9630290</td>\n    </tr>\n    <tr>\n      <th>4</th>\n      <td>P06210</td>\n      <td>Karapakkam</td>\n      <td>1226</td>\n      <td>2009-10-05</td>\n      <td>84</td>\n      <td>1</td>\n      <td>1</td>\n      <td>3</td>\n      <td>AbNormal</td>\n      <td>Yes</td>\n      <td>...</td>\n      <td>All Pub</td>\n      <td>Gravel</td>\n      <td>C</td>\n      <td>3</td>\n      <td>2</td>\n      <td>4</td>\n      <td>3</td>\n      <td>237000</td>\n      <td>74063</td>\n      <td>7406250</td>\n    </tr>\n  </tbody>\n</table>\n<p>5 rows × 22 columns</p>\n</div>"
          },
          "metadata": {}
        }
      ],
      "execution_count": 4
    },
    {
      "cell_type": "code",
      "source": "quan = []\nqual = []\nfor columnname in dataset.columns:\n    if dataset[columnname].dtypes != 'object':\n        #print(columnname)\n        quan.append(columnname)\n    else:\n        qual.append(columnname)\nprint(quan)\nprint(qual)",
      "metadata": {
        "trusted": true
      },
      "outputs": [
        {
          "name": "stdout",
          "text": "['INT_SQFT', 'DIST_MAINROAD', 'N_BEDROOM', 'N_BATHROOM', 'N_ROOM', 'QS_ROOMS', 'QS_BATHROOM', 'QS_BEDROOM', 'QS_OVERALL', 'REG_FEE', 'COMMIS', 'SALES_PRICE']\n['PRT_ID', 'AREA', 'DATE_SALE', 'SALE_COND', 'PARK_FACIL', 'DATE_BUILD', 'BUILDTYPE', 'UTILITY_AVAIL', 'STREET', 'MZZONE']\n",
          "output_type": "stream"
        }
      ],
      "execution_count": 5
    },
    {
      "cell_type": "code",
      "source": "#Central tendency and IQR\nUnivariate.univariate(dataset,quan)",
      "metadata": {
        "trusted": true
      },
      "outputs": [
        {
          "execution_count": 6,
          "output_type": "execute_result",
          "data": {
            "text/plain": "               INT_SQFT DIST_MAINROAD N_BEDROOM N_BATHROOM    N_ROOM  \\\nMean        1382.073006     99.603179  1.636939    1.21311  3.688704   \nMedian           1373.0          99.0       1.0        1.0       4.0   \nMode               1781            39         1          1         4   \nQ1:25%            993.0          50.0       1.0        1.0       3.0   \nQ2:50%           1373.0          99.0       1.0        1.0       4.0   \nQ3:75%           1744.0         148.0       2.0        1.0       4.0   \n99%             2433.84         198.0       4.0        2.0       6.0   \nQ4:100%          2500.0         200.0       4.0        2.0       6.0   \nIQR               751.0          98.0       1.0        0.0       1.0   \n1.5rule          1126.5         147.0       1.5        0.0       1.5   \nLesser           -133.5         -97.0      -0.5        1.0       1.5   \nGreater          2870.5         295.0       3.5        1.0       5.5   \nMin                 500             0         1          1         2   \nMax                2500           200         4          2         6   \nSkew           0.131238      0.018144  1.162074   1.401451  0.118801   \nKurtosis      -0.886379      -1.16524  0.735059  -0.035946 -0.530786   \nVariance  209224.733696    3295.11699  0.644617   0.167718  1.038563   \n\n          QS_ROOMS QS_BATHROOM QS_BEDROOM QS_OVERALL             REG_FEE  \\\nMean      3.075538    3.069349   3.056126   3.004642       376938.330708   \nMedian         3.0         3.0        3.0        3.0            349486.0   \nMode             3           4          3          3              235229   \nQ1:25%         2.0         2.0        2.0        3.0            272406.0   \nQ2:50%         3.0         3.0        3.0        3.0            349486.0   \nQ3:75%         4.0         4.0        4.0        3.0            451562.0   \n99%            5.0         5.0        5.0        4.0           821626.12   \nQ4:100%        5.0         5.0        5.0        4.0            983922.0   \nIQR            2.0         2.0        2.0        0.0            179156.0   \n1.5rule        3.0         3.0        3.0        0.0            268734.0   \nLesser        -1.0        -1.0       -1.0        3.0              3672.0   \nGreater        7.0         7.0        7.0        3.0            720296.0   \nMin              2           2          2          2               71177   \nMax              5           5          5          4              983922   \nSkew      0.142693    0.140203   0.168114  -0.001986            1.037755   \nKurtosis -1.109019   -1.142696  -1.110696  -0.257695            1.126499   \nVariance   0.76202    0.767419   0.759511   0.364779  20469214327.963352   \n\n                     COMMIS            SALES_PRICE  \nMean          141005.726544         10894909.63919  \nMedian             127628.0             10335050.0  \nMode                 117825                4517000  \nQ1:25%              84219.0              8272100.0  \nQ2:50%             127628.0             10335050.0  \nQ3:75%             184506.0             12993900.0  \n99%               378608.84             21743704.8  \nQ4:100%            495405.0             23667340.0  \nIQR                100287.0              4721800.0  \n1.5rule            150430.5              7082700.0  \nLesser             -66211.5              1189400.0  \nGreater            334936.5             20076600.0  \nMin                    5055                2156875  \nMax                  495405               23667340  \nSkew               0.951656               0.773343  \nKurtosis           1.073363               0.588129  \nVariance  6204412588.024537  14202372016135.423828  ",
            "text/html": "<div>\n<style scoped>\n    .dataframe tbody tr th:only-of-type {\n        vertical-align: middle;\n    }\n\n    .dataframe tbody tr th {\n        vertical-align: top;\n    }\n\n    .dataframe thead th {\n        text-align: right;\n    }\n</style>\n<table border=\"1\" class=\"dataframe\">\n  <thead>\n    <tr style=\"text-align: right;\">\n      <th></th>\n      <th>INT_SQFT</th>\n      <th>DIST_MAINROAD</th>\n      <th>N_BEDROOM</th>\n      <th>N_BATHROOM</th>\n      <th>N_ROOM</th>\n      <th>QS_ROOMS</th>\n      <th>QS_BATHROOM</th>\n      <th>QS_BEDROOM</th>\n      <th>QS_OVERALL</th>\n      <th>REG_FEE</th>\n      <th>COMMIS</th>\n      <th>SALES_PRICE</th>\n    </tr>\n  </thead>\n  <tbody>\n    <tr>\n      <th>Mean</th>\n      <td>1382.073006</td>\n      <td>99.603179</td>\n      <td>1.636939</td>\n      <td>1.21311</td>\n      <td>3.688704</td>\n      <td>3.075538</td>\n      <td>3.069349</td>\n      <td>3.056126</td>\n      <td>3.004642</td>\n      <td>376938.330708</td>\n      <td>141005.726544</td>\n      <td>10894909.63919</td>\n    </tr>\n    <tr>\n      <th>Median</th>\n      <td>1373.0</td>\n      <td>99.0</td>\n      <td>1.0</td>\n      <td>1.0</td>\n      <td>4.0</td>\n      <td>3.0</td>\n      <td>3.0</td>\n      <td>3.0</td>\n      <td>3.0</td>\n      <td>349486.0</td>\n      <td>127628.0</td>\n      <td>10335050.0</td>\n    </tr>\n    <tr>\n      <th>Mode</th>\n      <td>1781</td>\n      <td>39</td>\n      <td>1</td>\n      <td>1</td>\n      <td>4</td>\n      <td>3</td>\n      <td>4</td>\n      <td>3</td>\n      <td>3</td>\n      <td>235229</td>\n      <td>117825</td>\n      <td>4517000</td>\n    </tr>\n    <tr>\n      <th>Q1:25%</th>\n      <td>993.0</td>\n      <td>50.0</td>\n      <td>1.0</td>\n      <td>1.0</td>\n      <td>3.0</td>\n      <td>2.0</td>\n      <td>2.0</td>\n      <td>2.0</td>\n      <td>3.0</td>\n      <td>272406.0</td>\n      <td>84219.0</td>\n      <td>8272100.0</td>\n    </tr>\n    <tr>\n      <th>Q2:50%</th>\n      <td>1373.0</td>\n      <td>99.0</td>\n      <td>1.0</td>\n      <td>1.0</td>\n      <td>4.0</td>\n      <td>3.0</td>\n      <td>3.0</td>\n      <td>3.0</td>\n      <td>3.0</td>\n      <td>349486.0</td>\n      <td>127628.0</td>\n      <td>10335050.0</td>\n    </tr>\n    <tr>\n      <th>Q3:75%</th>\n      <td>1744.0</td>\n      <td>148.0</td>\n      <td>2.0</td>\n      <td>1.0</td>\n      <td>4.0</td>\n      <td>4.0</td>\n      <td>4.0</td>\n      <td>4.0</td>\n      <td>3.0</td>\n      <td>451562.0</td>\n      <td>184506.0</td>\n      <td>12993900.0</td>\n    </tr>\n    <tr>\n      <th>99%</th>\n      <td>2433.84</td>\n      <td>198.0</td>\n      <td>4.0</td>\n      <td>2.0</td>\n      <td>6.0</td>\n      <td>5.0</td>\n      <td>5.0</td>\n      <td>5.0</td>\n      <td>4.0</td>\n      <td>821626.12</td>\n      <td>378608.84</td>\n      <td>21743704.8</td>\n    </tr>\n    <tr>\n      <th>Q4:100%</th>\n      <td>2500.0</td>\n      <td>200.0</td>\n      <td>4.0</td>\n      <td>2.0</td>\n      <td>6.0</td>\n      <td>5.0</td>\n      <td>5.0</td>\n      <td>5.0</td>\n      <td>4.0</td>\n      <td>983922.0</td>\n      <td>495405.0</td>\n      <td>23667340.0</td>\n    </tr>\n    <tr>\n      <th>IQR</th>\n      <td>751.0</td>\n      <td>98.0</td>\n      <td>1.0</td>\n      <td>0.0</td>\n      <td>1.0</td>\n      <td>2.0</td>\n      <td>2.0</td>\n      <td>2.0</td>\n      <td>0.0</td>\n      <td>179156.0</td>\n      <td>100287.0</td>\n      <td>4721800.0</td>\n    </tr>\n    <tr>\n      <th>1.5rule</th>\n      <td>1126.5</td>\n      <td>147.0</td>\n      <td>1.5</td>\n      <td>0.0</td>\n      <td>1.5</td>\n      <td>3.0</td>\n      <td>3.0</td>\n      <td>3.0</td>\n      <td>0.0</td>\n      <td>268734.0</td>\n      <td>150430.5</td>\n      <td>7082700.0</td>\n    </tr>\n    <tr>\n      <th>Lesser</th>\n      <td>-133.5</td>\n      <td>-97.0</td>\n      <td>-0.5</td>\n      <td>1.0</td>\n      <td>1.5</td>\n      <td>-1.0</td>\n      <td>-1.0</td>\n      <td>-1.0</td>\n      <td>3.0</td>\n      <td>3672.0</td>\n      <td>-66211.5</td>\n      <td>1189400.0</td>\n    </tr>\n    <tr>\n      <th>Greater</th>\n      <td>2870.5</td>\n      <td>295.0</td>\n      <td>3.5</td>\n      <td>1.0</td>\n      <td>5.5</td>\n      <td>7.0</td>\n      <td>7.0</td>\n      <td>7.0</td>\n      <td>3.0</td>\n      <td>720296.0</td>\n      <td>334936.5</td>\n      <td>20076600.0</td>\n    </tr>\n    <tr>\n      <th>Min</th>\n      <td>500</td>\n      <td>0</td>\n      <td>1</td>\n      <td>1</td>\n      <td>2</td>\n      <td>2</td>\n      <td>2</td>\n      <td>2</td>\n      <td>2</td>\n      <td>71177</td>\n      <td>5055</td>\n      <td>2156875</td>\n    </tr>\n    <tr>\n      <th>Max</th>\n      <td>2500</td>\n      <td>200</td>\n      <td>4</td>\n      <td>2</td>\n      <td>6</td>\n      <td>5</td>\n      <td>5</td>\n      <td>5</td>\n      <td>4</td>\n      <td>983922</td>\n      <td>495405</td>\n      <td>23667340</td>\n    </tr>\n    <tr>\n      <th>Skew</th>\n      <td>0.131238</td>\n      <td>0.018144</td>\n      <td>1.162074</td>\n      <td>1.401451</td>\n      <td>0.118801</td>\n      <td>0.142693</td>\n      <td>0.140203</td>\n      <td>0.168114</td>\n      <td>-0.001986</td>\n      <td>1.037755</td>\n      <td>0.951656</td>\n      <td>0.773343</td>\n    </tr>\n    <tr>\n      <th>Kurtosis</th>\n      <td>-0.886379</td>\n      <td>-1.16524</td>\n      <td>0.735059</td>\n      <td>-0.035946</td>\n      <td>-0.530786</td>\n      <td>-1.109019</td>\n      <td>-1.142696</td>\n      <td>-1.110696</td>\n      <td>-0.257695</td>\n      <td>1.126499</td>\n      <td>1.073363</td>\n      <td>0.588129</td>\n    </tr>\n    <tr>\n      <th>Variance</th>\n      <td>209224.733696</td>\n      <td>3295.11699</td>\n      <td>0.644617</td>\n      <td>0.167718</td>\n      <td>1.038563</td>\n      <td>0.76202</td>\n      <td>0.767419</td>\n      <td>0.759511</td>\n      <td>0.364779</td>\n      <td>20469214327.963352</td>\n      <td>6204412588.024537</td>\n      <td>14202372016135.423828</td>\n    </tr>\n  </tbody>\n</table>\n</div>"
          },
          "metadata": {}
        }
      ],
      "execution_count": 6
    },
    {
      "cell_type": "code",
      "source": "#finding outlier\ndescriptive = Univariate.univariate(dataset,quan)",
      "metadata": {
        "trusted": true
      },
      "outputs": [],
      "execution_count": 12
    },
    {
      "cell_type": "code",
      "source": "lesser = []\ngreater = []\nfor columnname in quan:\n    if (descriptive[columnname]['Min'] < descriptive[columnname]['Lesser']):\n        lesser.append(columnname)\n    if (descriptive[columnname]['Max'] > descriptive[columnname]['Greater']):\n        greater.append(columnname)",
      "metadata": {
        "trusted": true
      },
      "outputs": [],
      "execution_count": 13
    },
    {
      "cell_type": "code",
      "source": "print(lesser)",
      "metadata": {
        "trusted": true
      },
      "outputs": [
        {
          "name": "stdout",
          "text": "[]\n",
          "output_type": "stream"
        }
      ],
      "execution_count": 14
    },
    {
      "cell_type": "code",
      "source": "print(greater)",
      "metadata": {
        "trusted": true
      },
      "outputs": [
        {
          "name": "stdout",
          "text": "[]\n",
          "output_type": "stream"
        }
      ],
      "execution_count": 15
    },
    {
      "cell_type": "code",
      "source": "#replace outlier\nfor columnname in lesser:\n    dataset[columnname][dataset[columnname] < descriptive[columnname]['Lesser']] = descriptive[columnname]['Lesser']\nfor columnname in greater:\n    dataset[columnname][dataset[columnname] > descriptive[columnname]['Greater']] = descriptive[columnname]['Greater']",
      "metadata": {
        "trusted": true
      },
      "outputs": [
        {
          "name": "stderr",
          "text": "<ipython-input-11-d04816870901>:3: SettingWithCopyWarning: \nA value is trying to be set on a copy of a slice from a DataFrame\n\nSee the caveats in the documentation: https://pandas.pydata.org/pandas-docs/stable/user_guide/indexing.html#returning-a-view-versus-a-copy\n  dataset[columnname][dataset[columnname] < descriptive[columnname]['Lesser']] = descriptive[columnname]['Lesser']\n<ipython-input-11-d04816870901>:5: SettingWithCopyWarning: \nA value is trying to be set on a copy of a slice from a DataFrame\n\nSee the caveats in the documentation: https://pandas.pydata.org/pandas-docs/stable/user_guide/indexing.html#returning-a-view-versus-a-copy\n  dataset[columnname][dataset[columnname] > descriptive[columnname]['Greater']] = descriptive[columnname]['Greater']\n",
          "output_type": "stream"
        }
      ],
      "execution_count": 11
    },
    {
      "cell_type": "code",
      "source": "",
      "metadata": {
        "trusted": true
      },
      "outputs": [],
      "execution_count": null
    }
  ]
}