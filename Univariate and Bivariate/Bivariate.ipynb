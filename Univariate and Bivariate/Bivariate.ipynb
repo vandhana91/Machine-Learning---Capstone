{
  "metadata": {
    "kernelspec": {
      "name": "python",
      "display_name": "Python (Pyodide)",
      "language": "python"
    },
    "language_info": {
      "codemirror_mode": {
        "name": "python",
        "version": 3
      },
      "file_extension": ".py",
      "mimetype": "text/x-python",
      "name": "python",
      "nbconvert_exporter": "python",
      "pygments_lexer": "ipython3",
      "version": "3.8"
    }
  },
  "nbformat_minor": 4,
  "nbformat": 4,
  "cells": [
    {
      "cell_type": "code",
      "source": "import pandas as pd",
      "metadata": {
        "trusted": true
      },
      "outputs": [],
      "execution_count": 1
    },
    {
      "cell_type": "code",
      "source": "dataset = pd.read_csv(\"preprocessed_housing_data.csv\")",
      "metadata": {
        "trusted": true
      },
      "outputs": [],
      "execution_count": 2
    },
    {
      "cell_type": "code",
      "source": "dataset.isnull().sum()",
      "metadata": {
        "trusted": true
      },
      "outputs": [
        {
          "execution_count": 16,
          "output_type": "execute_result",
          "data": {
            "text/plain": "AREA             0\nINT_SQFT         0\nDIST_MAINROAD    0\nN_BEDROOM        0\nN_BATHROOM       0\nN_ROOM           0\nSALE_COND        0\nPARK_FACIL       0\nBUILDTYPE        0\nUTILITY_AVAIL    0\nSTREET           0\nMZZONE           0\nQS_ROOMS         0\nQS_BATHROOM      0\nQS_BEDROOM       0\nQS_OVERALL       0\nREG_FEE          0\nCOMMIS           0\nSALES_PRICE      0\ndtype: int64"
          },
          "metadata": {}
        }
      ],
      "execution_count": 16
    },
    {
      "cell_type": "code",
      "source": "dataset.head()",
      "metadata": {
        "trusted": true
      },
      "outputs": [
        {
          "execution_count": 3,
          "output_type": "execute_result",
          "data": {
            "text/plain": "         AREA  INT_SQFT  DIST_MAINROAD  N_BEDROOM  N_BATHROOM  N_ROOM  \\\n0  Karapakkam      1004            131          1           1       3   \n1  Anna Nagar      1986             26          2           1       5   \n2       Adyar       909             70          1           1       3   \n3   Velachery      1855             14          3           2       5   \n4  Karapakkam      1226             84          1           1       3   \n\n  SALE_COND PARK_FACIL   BUILDTYPE UTILITY_AVAIL  STREET MZZONE  QS_ROOMS  \\\n0  AbNormal        Yes  Commercial       All Pub   Paved      A         4   \n1  AbNormal         No  Commercial       All Pub  Gravel     RH         4   \n2  AbNormal        Yes  Commercial           ELO  Gravel     RL         4   \n3    Family         No      Others      NoSewage   Paved      I         4   \n4  AbNormal        Yes      Others       All Pub  Gravel      C         3   \n\n   QS_BATHROOM  QS_BEDROOM  QS_OVERALL  REG_FEE  COMMIS  SALES_PRICE  \n0            3           4           4   380000  144400      7600000  \n1            4           2           3   760122  304049     21717770  \n2            3           2           3   421094   92114     13159200  \n3            3           3           4   356321   77042      9630290  \n4            2           4           3   237000   74063      7406250  ",
            "text/html": "<div>\n<style scoped>\n    .dataframe tbody tr th:only-of-type {\n        vertical-align: middle;\n    }\n\n    .dataframe tbody tr th {\n        vertical-align: top;\n    }\n\n    .dataframe thead th {\n        text-align: right;\n    }\n</style>\n<table border=\"1\" class=\"dataframe\">\n  <thead>\n    <tr style=\"text-align: right;\">\n      <th></th>\n      <th>AREA</th>\n      <th>INT_SQFT</th>\n      <th>DIST_MAINROAD</th>\n      <th>N_BEDROOM</th>\n      <th>N_BATHROOM</th>\n      <th>N_ROOM</th>\n      <th>SALE_COND</th>\n      <th>PARK_FACIL</th>\n      <th>BUILDTYPE</th>\n      <th>UTILITY_AVAIL</th>\n      <th>STREET</th>\n      <th>MZZONE</th>\n      <th>QS_ROOMS</th>\n      <th>QS_BATHROOM</th>\n      <th>QS_BEDROOM</th>\n      <th>QS_OVERALL</th>\n      <th>REG_FEE</th>\n      <th>COMMIS</th>\n      <th>SALES_PRICE</th>\n    </tr>\n  </thead>\n  <tbody>\n    <tr>\n      <th>0</th>\n      <td>Karapakkam</td>\n      <td>1004</td>\n      <td>131</td>\n      <td>1</td>\n      <td>1</td>\n      <td>3</td>\n      <td>AbNormal</td>\n      <td>Yes</td>\n      <td>Commercial</td>\n      <td>All Pub</td>\n      <td>Paved</td>\n      <td>A</td>\n      <td>4</td>\n      <td>3</td>\n      <td>4</td>\n      <td>4</td>\n      <td>380000</td>\n      <td>144400</td>\n      <td>7600000</td>\n    </tr>\n    <tr>\n      <th>1</th>\n      <td>Anna Nagar</td>\n      <td>1986</td>\n      <td>26</td>\n      <td>2</td>\n      <td>1</td>\n      <td>5</td>\n      <td>AbNormal</td>\n      <td>No</td>\n      <td>Commercial</td>\n      <td>All Pub</td>\n      <td>Gravel</td>\n      <td>RH</td>\n      <td>4</td>\n      <td>4</td>\n      <td>2</td>\n      <td>3</td>\n      <td>760122</td>\n      <td>304049</td>\n      <td>21717770</td>\n    </tr>\n    <tr>\n      <th>2</th>\n      <td>Adyar</td>\n      <td>909</td>\n      <td>70</td>\n      <td>1</td>\n      <td>1</td>\n      <td>3</td>\n      <td>AbNormal</td>\n      <td>Yes</td>\n      <td>Commercial</td>\n      <td>ELO</td>\n      <td>Gravel</td>\n      <td>RL</td>\n      <td>4</td>\n      <td>3</td>\n      <td>2</td>\n      <td>3</td>\n      <td>421094</td>\n      <td>92114</td>\n      <td>13159200</td>\n    </tr>\n    <tr>\n      <th>3</th>\n      <td>Velachery</td>\n      <td>1855</td>\n      <td>14</td>\n      <td>3</td>\n      <td>2</td>\n      <td>5</td>\n      <td>Family</td>\n      <td>No</td>\n      <td>Others</td>\n      <td>NoSewage</td>\n      <td>Paved</td>\n      <td>I</td>\n      <td>4</td>\n      <td>3</td>\n      <td>3</td>\n      <td>4</td>\n      <td>356321</td>\n      <td>77042</td>\n      <td>9630290</td>\n    </tr>\n    <tr>\n      <th>4</th>\n      <td>Karapakkam</td>\n      <td>1226</td>\n      <td>84</td>\n      <td>1</td>\n      <td>1</td>\n      <td>3</td>\n      <td>AbNormal</td>\n      <td>Yes</td>\n      <td>Others</td>\n      <td>All Pub</td>\n      <td>Gravel</td>\n      <td>C</td>\n      <td>3</td>\n      <td>2</td>\n      <td>4</td>\n      <td>3</td>\n      <td>237000</td>\n      <td>74063</td>\n      <td>7406250</td>\n    </tr>\n  </tbody>\n</table>\n</div>"
          },
          "metadata": {}
        }
      ],
      "execution_count": 3
    },
    {
      "cell_type": "code",
      "source": "dataset['PARK_FACIL'].value_counts()",
      "metadata": {
        "trusted": true
      },
      "outputs": [
        {
          "execution_count": 4,
          "output_type": "execute_result",
          "data": {
            "text/plain": "Yes    3587\nNo     3522\nName: PARK_FACIL, dtype: int64"
          },
          "metadata": {}
        }
      ],
      "execution_count": 4
    },
    {
      "cell_type": "code",
      "source": "from scipy.stats import ttest_ind\nfrom scipy.stats import ttest_rel",
      "metadata": {
        "trusted": true
      },
      "outputs": [],
      "execution_count": 5
    },
    {
      "cell_type": "markdown",
      "source": "independent Sample Unpaired T test finding the similarity in parking and without parking sale price different groups \n[parking , without parking] condition [sale price]",
      "metadata": {}
    },
    {
      "cell_type": "code",
      "source": "with_parking = dataset[dataset['PARK_FACIL'] == 'Yes']['SALES_PRICE']\nwithout_parking = dataset[dataset['PARK_FACIL'] == 'No']['SALES_PRICE']\nttest_ind(with_parking,without_parking)",
      "metadata": {
        "trusted": true
      },
      "outputs": [
        {
          "execution_count": 6,
          "output_type": "execute_result",
          "data": {
            "text/plain": "TtestResult(statistic=12.478841131136644, pvalue=2.2822021889553744e-35, df=7107.0)"
          },
          "metadata": {}
        }
      ],
      "execution_count": 6
    },
    {
      "cell_type": "markdown",
      "source": "dependent sample Paired T test same group (AREA [Anna Nagar]) different condition [REG_FEE,SALES_PRICE]",
      "metadata": {}
    },
    {
      "cell_type": "code",
      "source": "area = dataset[dataset['AREA'] == 'Anna Nagar']['REG_FEE']\narea1 = dataset[dataset['AREA'] == 'Anna Nagar']['SALES_PRICE']\nttest_rel(area,area1)",
      "metadata": {
        "trusted": true
      },
      "outputs": [
        {
          "execution_count": 7,
          "output_type": "execute_result",
          "data": {
            "text/plain": "TtestResult(statistic=-119.94275702147705, pvalue=0.0, df=787)"
          },
          "metadata": {}
        }
      ],
      "execution_count": 7
    },
    {
      "cell_type": "markdown",
      "source": "finding the similarity between Commercial and House sales price different group BUILDTYPE [Commercial,House] \ncondition [SALES_PRICE]",
      "metadata": {}
    },
    {
      "cell_type": "code",
      "source": "commercial = dataset[dataset['BUILDTYPE'] == 'Commercial']['SALES_PRICE']\nhouse = dataset[dataset['BUILDTYPE'] == 'House']['SALES_PRICE']\nttest_ind(commercial,house)",
      "metadata": {
        "trusted": true
      },
      "outputs": [
        {
          "execution_count": 8,
          "output_type": "execute_result",
          "data": {
            "text/plain": "TtestResult(statistic=49.47651147365866, pvalue=0.0, df=4771.0)"
          },
          "metadata": {}
        }
      ],
      "execution_count": 8
    },
    {
      "cell_type": "markdown",
      "source": "1. Which Area is having minimum sales price",
      "metadata": {}
    },
    {
      "cell_type": "code",
      "source": "mean = (dataset.groupby('AREA')['SALES_PRICE'].mean()).astype(int)\nmean",
      "metadata": {
        "trusted": true
      },
      "outputs": [
        {
          "execution_count": 13,
          "output_type": "execute_result",
          "data": {
            "text/plain": "AREA\nAdyar          9185668\nAnna Nagar    15168201\nChrompet      10013809\nKK Nagar      12696228\nKarapakkam     7340100\nT Nagar       15616742\nVelachery     11047353\nName: SALES_PRICE, dtype: int32"
          },
          "metadata": {}
        }
      ],
      "execution_count": 13
    },
    {
      "cell_type": "markdown",
      "source": "# Ans: karapakkam area is having minimum sales price",
      "metadata": {}
    },
    {
      "cell_type": "markdown",
      "source": "2. Test the Analysis of Variance between REG_FEE and COMMIS at signifance level \n5%. (Make decision using Hypothesis Testing)",
      "metadata": {}
    },
    {
      "cell_type": "markdown",
      "source": "Null hypothesis - there is no similarity between REG_FEE and COMMIS",
      "metadata": {}
    },
    {
      "cell_type": "code",
      "source": "import scipy.stats as stats",
      "metadata": {
        "trusted": true
      },
      "outputs": [],
      "execution_count": 14
    },
    {
      "cell_type": "code",
      "source": "stats.f_oneway(dataset['REG_FEE'],dataset['COMMIS'])",
      "metadata": {
        "trusted": true
      },
      "outputs": [
        {
          "execution_count": 19,
          "output_type": "execute_result",
          "data": {
            "text/plain": "F_onewayResult(statistic=14835.506034213242, pvalue=0.0)"
          },
          "metadata": {}
        }
      ],
      "execution_count": 19
    },
    {
      "cell_type": "markdown",
      "source": "# Answer:\n# Reject null hypothesis if p < 0.05, here p is lesser\n# 0.0 < 0.05\n# So reject null hypothesis and accept alternate hypothesis\n# There is similariy between REG_FEE and COMMIS",
      "metadata": {}
    },
    {
      "cell_type": "markdown",
      "source": "3. Which parameter is highly correlated with SALES_PRICE",
      "metadata": {}
    },
    {
      "cell_type": "code",
      "source": "dataset.corr(numeric_only = True)",
      "metadata": {
        "trusted": true
      },
      "outputs": [
        {
          "execution_count": 20,
          "output_type": "execute_result",
          "data": {
            "text/plain": "               INT_SQFT  DIST_MAINROAD  N_BEDROOM  N_BATHROOM    N_ROOM  \\\nINT_SQFT       1.000000       0.002022   0.786263    0.515290  0.951279   \nDIST_MAINROAD  0.002022       1.000000  -0.002723    0.001850  0.002301   \nN_BEDROOM      0.786263      -0.002723   1.000000    0.755207  0.840209   \nN_BATHROOM     0.515290       0.001850   0.755207    1.000000  0.568541   \nN_ROOM         0.951279       0.002301   0.840209    0.568541  1.000000   \nQS_ROOMS       0.016146       0.013050   0.011434    0.010452  0.013468   \nQS_BATHROOM   -0.011463      -0.021857  -0.008603   -0.011005 -0.009066   \nQS_BEDROOM     0.005847       0.002757   0.014449    0.013390  0.012072   \nQS_OVERALL     0.006372      -0.015111   0.008698    0.002825  0.008519   \nREG_FEE        0.657544       0.011600   0.455380    0.260244  0.630932   \nCOMMIS         0.571076       0.010994   0.430446    0.256726  0.533343   \nSALES_PRICE    0.612125       0.018783   0.330987    0.108834  0.602760   \n\n               QS_ROOMS  QS_BATHROOM  QS_BEDROOM  QS_OVERALL   REG_FEE  \\\nINT_SQFT       0.016146    -0.011463    0.005847    0.006372  0.657544   \nDIST_MAINROAD  0.013050    -0.021857    0.002757   -0.015111  0.011600   \nN_BEDROOM      0.011434    -0.008603    0.014449    0.008698  0.455380   \nN_BATHROOM     0.010452    -0.011005    0.013390    0.002825  0.260244   \nN_ROOM         0.013468    -0.009066    0.012072    0.008519  0.630932   \nQS_ROOMS       1.000000     0.001796    0.009590    0.431086  0.014614   \nQS_BATHROOM    0.001796     1.000000   -0.011917    0.447171 -0.014777   \nQS_BEDROOM     0.009590    -0.011917    1.000000    0.530328  0.018875   \nQS_OVERALL     0.431086     0.447171    0.530328    1.000000  0.014398   \nREG_FEE        0.014614    -0.014777    0.018875    0.014398  1.000000   \nCOMMIS         0.007072    -0.008397    0.019376    0.005422  0.659903   \nSALES_PRICE    0.016059    -0.019469    0.015044    0.013509  0.878148   \n\n                 COMMIS  SALES_PRICE  \nINT_SQFT       0.571076     0.612125  \nDIST_MAINROAD  0.010994     0.018783  \nN_BEDROOM      0.430446     0.330987  \nN_BATHROOM     0.256726     0.108834  \nN_ROOM         0.533343     0.602760  \nQS_ROOMS       0.007072     0.016059  \nQS_BATHROOM   -0.008397    -0.019469  \nQS_BEDROOM     0.019376     0.015044  \nQS_OVERALL     0.005422     0.013509  \nREG_FEE        0.659903     0.878148  \nCOMMIS         1.000000     0.626275  \nSALES_PRICE    0.626275     1.000000  ",
            "text/html": "<div>\n<style scoped>\n    .dataframe tbody tr th:only-of-type {\n        vertical-align: middle;\n    }\n\n    .dataframe tbody tr th {\n        vertical-align: top;\n    }\n\n    .dataframe thead th {\n        text-align: right;\n    }\n</style>\n<table border=\"1\" class=\"dataframe\">\n  <thead>\n    <tr style=\"text-align: right;\">\n      <th></th>\n      <th>INT_SQFT</th>\n      <th>DIST_MAINROAD</th>\n      <th>N_BEDROOM</th>\n      <th>N_BATHROOM</th>\n      <th>N_ROOM</th>\n      <th>QS_ROOMS</th>\n      <th>QS_BATHROOM</th>\n      <th>QS_BEDROOM</th>\n      <th>QS_OVERALL</th>\n      <th>REG_FEE</th>\n      <th>COMMIS</th>\n      <th>SALES_PRICE</th>\n    </tr>\n  </thead>\n  <tbody>\n    <tr>\n      <th>INT_SQFT</th>\n      <td>1.000000</td>\n      <td>0.002022</td>\n      <td>0.786263</td>\n      <td>0.515290</td>\n      <td>0.951279</td>\n      <td>0.016146</td>\n      <td>-0.011463</td>\n      <td>0.005847</td>\n      <td>0.006372</td>\n      <td>0.657544</td>\n      <td>0.571076</td>\n      <td>0.612125</td>\n    </tr>\n    <tr>\n      <th>DIST_MAINROAD</th>\n      <td>0.002022</td>\n      <td>1.000000</td>\n      <td>-0.002723</td>\n      <td>0.001850</td>\n      <td>0.002301</td>\n      <td>0.013050</td>\n      <td>-0.021857</td>\n      <td>0.002757</td>\n      <td>-0.015111</td>\n      <td>0.011600</td>\n      <td>0.010994</td>\n      <td>0.018783</td>\n    </tr>\n    <tr>\n      <th>N_BEDROOM</th>\n      <td>0.786263</td>\n      <td>-0.002723</td>\n      <td>1.000000</td>\n      <td>0.755207</td>\n      <td>0.840209</td>\n      <td>0.011434</td>\n      <td>-0.008603</td>\n      <td>0.014449</td>\n      <td>0.008698</td>\n      <td>0.455380</td>\n      <td>0.430446</td>\n      <td>0.330987</td>\n    </tr>\n    <tr>\n      <th>N_BATHROOM</th>\n      <td>0.515290</td>\n      <td>0.001850</td>\n      <td>0.755207</td>\n      <td>1.000000</td>\n      <td>0.568541</td>\n      <td>0.010452</td>\n      <td>-0.011005</td>\n      <td>0.013390</td>\n      <td>0.002825</td>\n      <td>0.260244</td>\n      <td>0.256726</td>\n      <td>0.108834</td>\n    </tr>\n    <tr>\n      <th>N_ROOM</th>\n      <td>0.951279</td>\n      <td>0.002301</td>\n      <td>0.840209</td>\n      <td>0.568541</td>\n      <td>1.000000</td>\n      <td>0.013468</td>\n      <td>-0.009066</td>\n      <td>0.012072</td>\n      <td>0.008519</td>\n      <td>0.630932</td>\n      <td>0.533343</td>\n      <td>0.602760</td>\n    </tr>\n    <tr>\n      <th>QS_ROOMS</th>\n      <td>0.016146</td>\n      <td>0.013050</td>\n      <td>0.011434</td>\n      <td>0.010452</td>\n      <td>0.013468</td>\n      <td>1.000000</td>\n      <td>0.001796</td>\n      <td>0.009590</td>\n      <td>0.431086</td>\n      <td>0.014614</td>\n      <td>0.007072</td>\n      <td>0.016059</td>\n    </tr>\n    <tr>\n      <th>QS_BATHROOM</th>\n      <td>-0.011463</td>\n      <td>-0.021857</td>\n      <td>-0.008603</td>\n      <td>-0.011005</td>\n      <td>-0.009066</td>\n      <td>0.001796</td>\n      <td>1.000000</td>\n      <td>-0.011917</td>\n      <td>0.447171</td>\n      <td>-0.014777</td>\n      <td>-0.008397</td>\n      <td>-0.019469</td>\n    </tr>\n    <tr>\n      <th>QS_BEDROOM</th>\n      <td>0.005847</td>\n      <td>0.002757</td>\n      <td>0.014449</td>\n      <td>0.013390</td>\n      <td>0.012072</td>\n      <td>0.009590</td>\n      <td>-0.011917</td>\n      <td>1.000000</td>\n      <td>0.530328</td>\n      <td>0.018875</td>\n      <td>0.019376</td>\n      <td>0.015044</td>\n    </tr>\n    <tr>\n      <th>QS_OVERALL</th>\n      <td>0.006372</td>\n      <td>-0.015111</td>\n      <td>0.008698</td>\n      <td>0.002825</td>\n      <td>0.008519</td>\n      <td>0.431086</td>\n      <td>0.447171</td>\n      <td>0.530328</td>\n      <td>1.000000</td>\n      <td>0.014398</td>\n      <td>0.005422</td>\n      <td>0.013509</td>\n    </tr>\n    <tr>\n      <th>REG_FEE</th>\n      <td>0.657544</td>\n      <td>0.011600</td>\n      <td>0.455380</td>\n      <td>0.260244</td>\n      <td>0.630932</td>\n      <td>0.014614</td>\n      <td>-0.014777</td>\n      <td>0.018875</td>\n      <td>0.014398</td>\n      <td>1.000000</td>\n      <td>0.659903</td>\n      <td>0.878148</td>\n    </tr>\n    <tr>\n      <th>COMMIS</th>\n      <td>0.571076</td>\n      <td>0.010994</td>\n      <td>0.430446</td>\n      <td>0.256726</td>\n      <td>0.533343</td>\n      <td>0.007072</td>\n      <td>-0.008397</td>\n      <td>0.019376</td>\n      <td>0.005422</td>\n      <td>0.659903</td>\n      <td>1.000000</td>\n      <td>0.626275</td>\n    </tr>\n    <tr>\n      <th>SALES_PRICE</th>\n      <td>0.612125</td>\n      <td>0.018783</td>\n      <td>0.330987</td>\n      <td>0.108834</td>\n      <td>0.602760</td>\n      <td>0.016059</td>\n      <td>-0.019469</td>\n      <td>0.015044</td>\n      <td>0.013509</td>\n      <td>0.878148</td>\n      <td>0.626275</td>\n      <td>1.000000</td>\n    </tr>\n  </tbody>\n</table>\n</div>"
          },
          "metadata": {}
        }
      ],
      "execution_count": 20
    },
    {
      "cell_type": "markdown",
      "source": "# Answer:\n# REG_FEE is highly related with SALES_PRICE",
      "metadata": {}
    },
    {
      "cell_type": "code",
      "source": "",
      "metadata": {
        "trusted": true
      },
      "outputs": [],
      "execution_count": null
    }
  ]
}