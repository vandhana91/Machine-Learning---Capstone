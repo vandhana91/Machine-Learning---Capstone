{
  "metadata": {
    "kernelspec": {
      "name": "python",
      "display_name": "Python (Pyodide)",
      "language": "python"
    },
    "language_info": {
      "codemirror_mode": {
        "name": "python",
        "version": 3
      },
      "file_extension": ".py",
      "mimetype": "text/x-python",
      "name": "python",
      "nbconvert_exporter": "python",
      "pygments_lexer": "ipython3",
      "version": "3.8"
    }
  },
  "nbformat_minor": 4,
  "nbformat": 4,
  "cells": [
    {
      "cell_type": "code",
      "source": "import pandas as pd",
      "metadata": {
        "trusted": true
      },
      "outputs": [],
      "execution_count": 1
    },
    {
      "cell_type": "code",
      "source": "dataset = pd.read_csv('Chennai housing sale.csv')",
      "metadata": {
        "trusted": true
      },
      "outputs": [],
      "execution_count": 2
    },
    {
      "cell_type": "code",
      "source": "dataset.head()",
      "metadata": {
        "trusted": true
      },
      "outputs": [
        {
          "execution_count": 3,
          "output_type": "execute_result",
          "data": {
            "text/plain": "   PRT_ID        AREA  INT_SQFT   DATE_SALE  DIST_MAINROAD  N_BEDROOM  \\\n0  P03210  Karapakkam      1004  04-05-2011            131        1.0   \n1  P09411  Anna Nagar      1986  19-12-2006             26        2.0   \n2  P01812       Adyar       909  04-02-2012             70        1.0   \n3  P05346   Velachery      1855  13-03-2010             14        3.0   \n4  P06210  Karapakkam      1226  05-10-2009             84        1.0   \n\n   N_BATHROOM  N_ROOM SALE_COND PARK_FACIL  ... UTILITY_AVAIL  STREET MZZONE  \\\n0         1.0       3  AbNormal        Yes  ...        AllPub   Paved      A   \n1         1.0       5  AbNormal         No  ...        AllPub  Gravel     RH   \n2         1.0       3  AbNormal        Yes  ...           ELO  Gravel     RL   \n3         2.0       5    Family         No  ...       NoSewr    Paved      I   \n4         1.0       3  AbNormal        Yes  ...        AllPub  Gravel      C   \n\n  QS_ROOMS QS_BATHROOM  QS_BEDROOM  QS_OVERALL  REG_FEE  COMMIS  SALES_PRICE  \n0      4.0         3.9         4.9       4.330   380000  144400      7600000  \n1      4.9         4.2         2.5       3.765   760122  304049     21717770  \n2      4.1         3.8         2.2       3.090   421094   92114     13159200  \n3      4.7         3.9         3.6       4.010   356321   77042      9630290  \n4      3.0         2.5         4.1       3.290   237000   74063      7406250  \n\n[5 rows x 22 columns]",
            "text/html": "<div>\n<style scoped>\n    .dataframe tbody tr th:only-of-type {\n        vertical-align: middle;\n    }\n\n    .dataframe tbody tr th {\n        vertical-align: top;\n    }\n\n    .dataframe thead th {\n        text-align: right;\n    }\n</style>\n<table border=\"1\" class=\"dataframe\">\n  <thead>\n    <tr style=\"text-align: right;\">\n      <th></th>\n      <th>PRT_ID</th>\n      <th>AREA</th>\n      <th>INT_SQFT</th>\n      <th>DATE_SALE</th>\n      <th>DIST_MAINROAD</th>\n      <th>N_BEDROOM</th>\n      <th>N_BATHROOM</th>\n      <th>N_ROOM</th>\n      <th>SALE_COND</th>\n      <th>PARK_FACIL</th>\n      <th>...</th>\n      <th>UTILITY_AVAIL</th>\n      <th>STREET</th>\n      <th>MZZONE</th>\n      <th>QS_ROOMS</th>\n      <th>QS_BATHROOM</th>\n      <th>QS_BEDROOM</th>\n      <th>QS_OVERALL</th>\n      <th>REG_FEE</th>\n      <th>COMMIS</th>\n      <th>SALES_PRICE</th>\n    </tr>\n  </thead>\n  <tbody>\n    <tr>\n      <th>0</th>\n      <td>P03210</td>\n      <td>Karapakkam</td>\n      <td>1004</td>\n      <td>04-05-2011</td>\n      <td>131</td>\n      <td>1.0</td>\n      <td>1.0</td>\n      <td>3</td>\n      <td>AbNormal</td>\n      <td>Yes</td>\n      <td>...</td>\n      <td>AllPub</td>\n      <td>Paved</td>\n      <td>A</td>\n      <td>4.0</td>\n      <td>3.9</td>\n      <td>4.9</td>\n      <td>4.330</td>\n      <td>380000</td>\n      <td>144400</td>\n      <td>7600000</td>\n    </tr>\n    <tr>\n      <th>1</th>\n      <td>P09411</td>\n      <td>Anna Nagar</td>\n      <td>1986</td>\n      <td>19-12-2006</td>\n      <td>26</td>\n      <td>2.0</td>\n      <td>1.0</td>\n      <td>5</td>\n      <td>AbNormal</td>\n      <td>No</td>\n      <td>...</td>\n      <td>AllPub</td>\n      <td>Gravel</td>\n      <td>RH</td>\n      <td>4.9</td>\n      <td>4.2</td>\n      <td>2.5</td>\n      <td>3.765</td>\n      <td>760122</td>\n      <td>304049</td>\n      <td>21717770</td>\n    </tr>\n    <tr>\n      <th>2</th>\n      <td>P01812</td>\n      <td>Adyar</td>\n      <td>909</td>\n      <td>04-02-2012</td>\n      <td>70</td>\n      <td>1.0</td>\n      <td>1.0</td>\n      <td>3</td>\n      <td>AbNormal</td>\n      <td>Yes</td>\n      <td>...</td>\n      <td>ELO</td>\n      <td>Gravel</td>\n      <td>RL</td>\n      <td>4.1</td>\n      <td>3.8</td>\n      <td>2.2</td>\n      <td>3.090</td>\n      <td>421094</td>\n      <td>92114</td>\n      <td>13159200</td>\n    </tr>\n    <tr>\n      <th>3</th>\n      <td>P05346</td>\n      <td>Velachery</td>\n      <td>1855</td>\n      <td>13-03-2010</td>\n      <td>14</td>\n      <td>3.0</td>\n      <td>2.0</td>\n      <td>5</td>\n      <td>Family</td>\n      <td>No</td>\n      <td>...</td>\n      <td>NoSewr</td>\n      <td>Paved</td>\n      <td>I</td>\n      <td>4.7</td>\n      <td>3.9</td>\n      <td>3.6</td>\n      <td>4.010</td>\n      <td>356321</td>\n      <td>77042</td>\n      <td>9630290</td>\n    </tr>\n    <tr>\n      <th>4</th>\n      <td>P06210</td>\n      <td>Karapakkam</td>\n      <td>1226</td>\n      <td>05-10-2009</td>\n      <td>84</td>\n      <td>1.0</td>\n      <td>1.0</td>\n      <td>3</td>\n      <td>AbNormal</td>\n      <td>Yes</td>\n      <td>...</td>\n      <td>AllPub</td>\n      <td>Gravel</td>\n      <td>C</td>\n      <td>3.0</td>\n      <td>2.5</td>\n      <td>4.1</td>\n      <td>3.290</td>\n      <td>237000</td>\n      <td>74063</td>\n      <td>7406250</td>\n    </tr>\n  </tbody>\n</table>\n<p>5 rows × 22 columns</p>\n</div>"
          },
          "metadata": {}
        }
      ],
      "execution_count": 3
    },
    {
      "cell_type": "markdown",
      "source": "checking missing values",
      "metadata": {}
    },
    {
      "cell_type": "code",
      "source": "dataset.isnull().sum()",
      "metadata": {
        "trusted": true,
        "scrolled": true
      },
      "outputs": [
        {
          "execution_count": 4,
          "output_type": "execute_result",
          "data": {
            "text/plain": "PRT_ID            0\nAREA              0\nINT_SQFT          0\nDATE_SALE         0\nDIST_MAINROAD     0\nN_BEDROOM         1\nN_BATHROOM        5\nN_ROOM            0\nSALE_COND         0\nPARK_FACIL        0\nDATE_BUILD        0\nBUILDTYPE         0\nUTILITY_AVAIL     0\nSTREET            0\nMZZONE            0\nQS_ROOMS          0\nQS_BATHROOM       0\nQS_BEDROOM        0\nQS_OVERALL       48\nREG_FEE           0\nCOMMIS            0\nSALES_PRICE       0\ndtype: int64"
          },
          "metadata": {}
        }
      ],
      "execution_count": 4
    },
    {
      "cell_type": "code",
      "source": "dataset[dataset['N_BEDROOM'].isnull()]",
      "metadata": {
        "trusted": true
      },
      "outputs": [
        {
          "execution_count": 5,
          "output_type": "execute_result",
          "data": {
            "text/plain": "      PRT_ID        AREA  INT_SQFT   DATE_SALE  DIST_MAINROAD  N_BEDROOM  \\\n4060  P01066  Anna Nagar      1556  16-01-2013            181        NaN   \n\n      N_BATHROOM  N_ROOM SALE_COND PARK_FACIL  ... UTILITY_AVAIL     STREET  \\\n4060         1.0       4  Partiall         No  ...       NoSewr   No Access   \n\n     MZZONE QS_ROOMS QS_BATHROOM  QS_BEDROOM  QS_OVERALL  REG_FEE  COMMIS  \\\n4060     RM      4.8         2.7         2.0       3.155   313136  107978   \n\n      SALES_PRICE  \n4060     10797790  \n\n[1 rows x 22 columns]",
            "text/html": "<div>\n<style scoped>\n    .dataframe tbody tr th:only-of-type {\n        vertical-align: middle;\n    }\n\n    .dataframe tbody tr th {\n        vertical-align: top;\n    }\n\n    .dataframe thead th {\n        text-align: right;\n    }\n</style>\n<table border=\"1\" class=\"dataframe\">\n  <thead>\n    <tr style=\"text-align: right;\">\n      <th></th>\n      <th>PRT_ID</th>\n      <th>AREA</th>\n      <th>INT_SQFT</th>\n      <th>DATE_SALE</th>\n      <th>DIST_MAINROAD</th>\n      <th>N_BEDROOM</th>\n      <th>N_BATHROOM</th>\n      <th>N_ROOM</th>\n      <th>SALE_COND</th>\n      <th>PARK_FACIL</th>\n      <th>...</th>\n      <th>UTILITY_AVAIL</th>\n      <th>STREET</th>\n      <th>MZZONE</th>\n      <th>QS_ROOMS</th>\n      <th>QS_BATHROOM</th>\n      <th>QS_BEDROOM</th>\n      <th>QS_OVERALL</th>\n      <th>REG_FEE</th>\n      <th>COMMIS</th>\n      <th>SALES_PRICE</th>\n    </tr>\n  </thead>\n  <tbody>\n    <tr>\n      <th>4060</th>\n      <td>P01066</td>\n      <td>Anna Nagar</td>\n      <td>1556</td>\n      <td>16-01-2013</td>\n      <td>181</td>\n      <td>NaN</td>\n      <td>1.0</td>\n      <td>4</td>\n      <td>Partiall</td>\n      <td>No</td>\n      <td>...</td>\n      <td>NoSewr</td>\n      <td>No Access</td>\n      <td>RM</td>\n      <td>4.8</td>\n      <td>2.7</td>\n      <td>2.0</td>\n      <td>3.155</td>\n      <td>313136</td>\n      <td>107978</td>\n      <td>10797790</td>\n    </tr>\n  </tbody>\n</table>\n<p>1 rows × 22 columns</p>\n</div>"
          },
          "metadata": {}
        }
      ],
      "execution_count": 5
    },
    {
      "cell_type": "markdown",
      "source": "Using interpolate method we can fill the missing values",
      "metadata": {}
    },
    {
      "cell_type": "code",
      "source": "raw_df = dataset.interpolate(method ='linear', limit_direction ='forward')",
      "metadata": {
        "trusted": true
      },
      "outputs": [],
      "execution_count": 6
    },
    {
      "cell_type": "code",
      "source": "raw_df.isnull().sum()",
      "metadata": {
        "trusted": true
      },
      "outputs": [
        {
          "execution_count": 7,
          "output_type": "execute_result",
          "data": {
            "text/plain": "PRT_ID           0\nAREA             0\nINT_SQFT         0\nDATE_SALE        0\nDIST_MAINROAD    0\nN_BEDROOM        0\nN_BATHROOM       0\nN_ROOM           0\nSALE_COND        0\nPARK_FACIL       0\nDATE_BUILD       0\nBUILDTYPE        0\nUTILITY_AVAIL    0\nSTREET           0\nMZZONE           0\nQS_ROOMS         0\nQS_BATHROOM      0\nQS_BEDROOM       0\nQS_OVERALL       0\nREG_FEE          0\nCOMMIS           0\nSALES_PRICE      0\ndtype: int64"
          },
          "metadata": {}
        }
      ],
      "execution_count": 7
    },
    {
      "cell_type": "code",
      "source": "#preprocessed_data.to_csv('preprocessed_housing_data.csv')",
      "metadata": {
        "trusted": true
      },
      "outputs": [],
      "execution_count": 8
    },
    {
      "cell_type": "code",
      "source": "raw_df.info()",
      "metadata": {
        "trusted": true
      },
      "outputs": [
        {
          "name": "stdout",
          "text": "<class 'pandas.core.frame.DataFrame'>\nRangeIndex: 7109 entries, 0 to 7108\nData columns (total 22 columns):\n #   Column         Non-Null Count  Dtype  \n---  ------         --------------  -----  \n 0   PRT_ID         7109 non-null   object \n 1   AREA           7109 non-null   object \n 2   INT_SQFT       7109 non-null   int64  \n 3   DATE_SALE      7109 non-null   object \n 4   DIST_MAINROAD  7109 non-null   int64  \n 5   N_BEDROOM      7109 non-null   float64\n 6   N_BATHROOM     7109 non-null   float64\n 7   N_ROOM         7109 non-null   int64  \n 8   SALE_COND      7109 non-null   object \n 9   PARK_FACIL     7109 non-null   object \n 10  DATE_BUILD     7109 non-null   object \n 11  BUILDTYPE      7109 non-null   object \n 12  UTILITY_AVAIL  7109 non-null   object \n 13  STREET         7109 non-null   object \n 14  MZZONE         7109 non-null   object \n 15  QS_ROOMS       7109 non-null   float64\n 16  QS_BATHROOM    7109 non-null   float64\n 17  QS_BEDROOM     7109 non-null   float64\n 18  QS_OVERALL     7109 non-null   float64\n 19  REG_FEE        7109 non-null   int64  \n 20  COMMIS         7109 non-null   int64  \n 21  SALES_PRICE    7109 non-null   int64  \ndtypes: float64(6), int64(6), object(10)\nmemory usage: 944.2+ KB\n",
          "output_type": "stream"
        }
      ],
      "execution_count": 9
    },
    {
      "cell_type": "markdown",
      "source": "Converting the column datatype from float to integer",
      "metadata": {}
    },
    {
      "cell_type": "code",
      "source": "raw_df['N_BATHROOM'] = raw_df['N_BATHROOM'].astype(int)\nraw_df['N_BATHROOM'] = raw_df['N_BATHROOM'].astype(int)\nraw_df['N_BEDROOM'] = raw_df['N_BEDROOM'].astype(int)\nraw_df['QS_BATHROOM'] = raw_df['QS_BATHROOM'].astype(int)\nraw_df['QS_BEDROOM'] = raw_df['QS_BEDROOM'].astype(int)\nraw_df['QS_OVERALL'] = raw_df['QS_OVERALL'].astype(int)\nraw_df['QS_ROOMS'] = raw_df['QS_ROOMS'].astype(int)",
      "metadata": {
        "trusted": true
      },
      "outputs": [],
      "execution_count": 10
    },
    {
      "cell_type": "code",
      "source": "qual = []\nquan = []\nfor column in raw_df.columns:\n    if raw_df[column].dtypes == 'object':\n        qual.append(column)\n    else:\n        quan.append(column)\n",
      "metadata": {
        "trusted": true
      },
      "outputs": [],
      "execution_count": 11
    },
    {
      "cell_type": "code",
      "source": "qual",
      "metadata": {
        "trusted": true
      },
      "outputs": [
        {
          "execution_count": 12,
          "output_type": "execute_result",
          "data": {
            "text/plain": "['PRT_ID',\n 'AREA',\n 'DATE_SALE',\n 'SALE_COND',\n 'PARK_FACIL',\n 'DATE_BUILD',\n 'BUILDTYPE',\n 'UTILITY_AVAIL',\n 'STREET',\n 'MZZONE']"
          },
          "metadata": {}
        }
      ],
      "execution_count": 12
    },
    {
      "cell_type": "code",
      "source": "for column in raw_df[qual].columns:\n    print()\n    print(column)\n    print(raw_df[column].unique())",
      "metadata": {
        "trusted": true
      },
      "outputs": [
        {
          "name": "stdout",
          "text": "\nPRT_ID\n['P03210' 'P09411' 'P01812' ... 'P09594' 'P06508' 'P09794']\n\nAREA\n['Karapakkam' 'Anna Nagar' 'Adyar' 'Velachery' 'Chrompet' 'KK Nagar'\n 'TNagar' 'T Nagar' 'Chrompt' 'Chrmpet' 'Karapakam' 'Ana Nagar' 'Chormpet'\n 'Adyr' 'Velchery' 'Ann Nagar' 'KKNagar']\n\nDATE_SALE\n['04-05-2011' '19-12-2006' '04-02-2012' ... '28-03-2014' '25-08-2006'\n '13-07-2005']\n\nSALE_COND\n['AbNormal' 'Family' 'Partial' 'AdjLand' 'Normal Sale' 'Ab Normal'\n 'Partiall' 'Adj Land' 'PartiaLl']\n\nPARK_FACIL\n['Yes' 'No' 'Noo']\n\nDATE_BUILD\n['15-05-1967' '22-12-1995' '09-02-1992' ... '01-09-1978' '11-08-1977'\n '24-07-1961']\n\nBUILDTYPE\n['Commercial' 'Others' 'Other' 'House' 'Comercial']\n\nUTILITY_AVAIL\n['AllPub' 'ELO' 'NoSewr ' 'NoSeWa' 'All Pub']\n\nSTREET\n['Paved' 'Gravel' 'No Access' 'Pavd' 'NoAccess']\n\nMZZONE\n['A' 'RH' 'RL' 'I' 'C' 'RM']\n",
          "output_type": "stream"
        }
      ],
      "execution_count": 13
    },
    {
      "cell_type": "markdown",
      "source": "Replacing the AREA values to proper values",
      "metadata": {}
    },
    {
      "cell_type": "code",
      "source": "raw_df['AREA'].replace(to_replace='Adyr' ,value='Adyar', inplace=True)\nraw_df['AREA'].replace(to_replace='TNagar',value = 'T Nagar',inplace=True)\nraw_df['AREA'].replace(to_replace=['Ann Nagar','Ana Nagar'],value = 'Anna Nagar',inplace=True)\nraw_df['AREA'].replace(to_replace='Velchery',value = 'Velachery',inplace=True)\nraw_df['AREA'].replace(to_replace='Karapakam',value = 'Karapakkam',inplace=True)\nraw_df['AREA'].replace(to_replace=['Chrompt','Chrmpet','Chormpet'],value = 'Chrompet',inplace=True)\nraw_df['AREA'].replace(to_replace='KKNagar',value = 'KK Nagar',inplace=True)",
      "metadata": {
        "trusted": true
      },
      "outputs": [],
      "execution_count": 14
    },
    {
      "cell_type": "code",
      "source": "print(raw_df['AREA'].unique())",
      "metadata": {
        "trusted": true
      },
      "outputs": [
        {
          "name": "stdout",
          "text": "['Karapakkam' 'Anna Nagar' 'Adyar' 'Velachery' 'Chrompet' 'KK Nagar'\n 'T Nagar']\n",
          "output_type": "stream"
        }
      ],
      "execution_count": 15
    },
    {
      "cell_type": "markdown",
      "source": "Replacing SALE_COND values to proper values",
      "metadata": {}
    },
    {
      "cell_type": "code",
      "source": "raw_df['SALE_COND'].replace(to_replace='Ab Normal' ,value='AbNormal', inplace=True)\nraw_df['SALE_COND'].replace(to_replace=['PartiaLl','Partiall'] ,value='Partial', inplace=True)\nraw_df['SALE_COND'].replace(to_replace='Adj Land',value='AdjLand', inplace=True)",
      "metadata": {
        "trusted": true
      },
      "outputs": [],
      "execution_count": 16
    },
    {
      "cell_type": "code",
      "source": "print(raw_df['SALE_COND'].unique())",
      "metadata": {
        "trusted": true
      },
      "outputs": [
        {
          "name": "stdout",
          "text": "['AbNormal' 'Family' 'Partial' 'AdjLand' 'Normal Sale']\n",
          "output_type": "stream"
        }
      ],
      "execution_count": 17
    },
    {
      "cell_type": "markdown",
      "source": "Replacing PARK_FACIL values to proper values",
      "metadata": {}
    },
    {
      "cell_type": "code",
      "source": "raw_df['PARK_FACIL'].replace(to_replace='Noo' ,value='No', inplace=True)",
      "metadata": {
        "trusted": true
      },
      "outputs": [],
      "execution_count": 18
    },
    {
      "cell_type": "code",
      "source": "print(raw_df['PARK_FACIL'].unique())",
      "metadata": {
        "trusted": true
      },
      "outputs": [
        {
          "name": "stdout",
          "text": "['Yes' 'No']\n",
          "output_type": "stream"
        }
      ],
      "execution_count": 19
    },
    {
      "cell_type": "markdown",
      "source": "Replacing BUILDTYPE column values to proper values",
      "metadata": {}
    },
    {
      "cell_type": "code",
      "source": "raw_df['BUILDTYPE'].replace(to_replace='Comercial' ,value='Commercial', inplace=True)\nraw_df['BUILDTYPE'].replace(to_replace='Other' ,value='Others', inplace=True)",
      "metadata": {
        "trusted": true
      },
      "outputs": [],
      "execution_count": 20
    },
    {
      "cell_type": "code",
      "source": "print(raw_df['BUILDTYPE'].unique())",
      "metadata": {
        "trusted": true
      },
      "outputs": [
        {
          "name": "stdout",
          "text": "['Commercial' 'Others' 'House']\n",
          "output_type": "stream"
        }
      ],
      "execution_count": 21
    },
    {
      "cell_type": "markdown",
      "source": "Replacing UTILITY_AVAIL column values to proper values",
      "metadata": {}
    },
    {
      "cell_type": "code",
      "source": "raw_df['UTILITY_AVAIL'].replace(to_replace='AllPub' ,value='All Pub', inplace=True)\nraw_df['UTILITY_AVAIL'].replace(to_replace=['NoSewr ','NoSeWa'],value='NoSewage',inplace=True)",
      "metadata": {
        "trusted": true
      },
      "outputs": [],
      "execution_count": 22
    },
    {
      "cell_type": "code",
      "source": "print(raw_df['UTILITY_AVAIL'].unique())",
      "metadata": {
        "trusted": true
      },
      "outputs": [
        {
          "name": "stdout",
          "text": "['All Pub' 'ELO' 'NoSewage']\n",
          "output_type": "stream"
        }
      ],
      "execution_count": 23
    },
    {
      "cell_type": "markdown",
      "source": "Replacing STREET column values to proper values",
      "metadata": {}
    },
    {
      "cell_type": "code",
      "source": "raw_df['STREET'].replace(to_replace='Pavd' ,value='Paved', inplace=True)\nraw_df['STREET'].replace(to_replace='NoAccess' ,value='No Access', inplace=True)",
      "metadata": {
        "trusted": true
      },
      "outputs": [],
      "execution_count": 24
    },
    {
      "cell_type": "code",
      "source": "print(raw_df['STREET'].unique())",
      "metadata": {
        "trusted": true
      },
      "outputs": [
        {
          "name": "stdout",
          "text": "['Paved' 'Gravel' 'No Access']\n",
          "output_type": "stream"
        }
      ],
      "execution_count": 25
    },
    {
      "cell_type": "code",
      "source": "",
      "metadata": {
        "trusted": true
      },
      "outputs": [],
      "execution_count": null
    },
    {
      "cell_type": "code",
      "source": "## The two date columns - DATE_SALE & DATE_BUILD are in object format\n## convert them into DateTime dtype\nraw_df['DATE_SALE'] = pd.to_datetime(raw_df['DATE_SALE'], format='%d-%m-%Y')\nraw_df['DATE_BUILD'] = pd.to_datetime(raw_df['DATE_BUILD'], format='%d-%m-%Y')",
      "metadata": {
        "trusted": true
      },
      "outputs": [],
      "execution_count": 26
    },
    {
      "cell_type": "code",
      "source": "raw_df.info()",
      "metadata": {
        "trusted": true
      },
      "outputs": [
        {
          "name": "stdout",
          "text": "<class 'pandas.core.frame.DataFrame'>\nRangeIndex: 7109 entries, 0 to 7108\nData columns (total 22 columns):\n #   Column         Non-Null Count  Dtype         \n---  ------         --------------  -----         \n 0   PRT_ID         7109 non-null   object        \n 1   AREA           7109 non-null   object        \n 2   INT_SQFT       7109 non-null   int64         \n 3   DATE_SALE      7109 non-null   datetime64[ns]\n 4   DIST_MAINROAD  7109 non-null   int64         \n 5   N_BEDROOM      7109 non-null   int32         \n 6   N_BATHROOM     7109 non-null   int32         \n 7   N_ROOM         7109 non-null   int64         \n 8   SALE_COND      7109 non-null   object        \n 9   PARK_FACIL     7109 non-null   object        \n 10  DATE_BUILD     7109 non-null   datetime64[ns]\n 11  BUILDTYPE      7109 non-null   object        \n 12  UTILITY_AVAIL  7109 non-null   object        \n 13  STREET         7109 non-null   object        \n 14  MZZONE         7109 non-null   object        \n 15  QS_ROOMS       7109 non-null   int32         \n 16  QS_BATHROOM    7109 non-null   int32         \n 17  QS_BEDROOM     7109 non-null   int32         \n 18  QS_OVERALL     7109 non-null   int32         \n 19  REG_FEE        7109 non-null   int64         \n 20  COMMIS         7109 non-null   int64         \n 21  SALES_PRICE    7109 non-null   int64         \ndtypes: datetime64[ns](2), int32(6), int64(6), object(8)\nmemory usage: 833.2+ KB\n",
          "output_type": "stream"
        }
      ],
      "execution_count": 27
    },
    {
      "cell_type": "code",
      "source": "raw_df = raw_df.drop(['PRT_ID','DATE_SALE','DATE_BUILD'] ,axis=1)",
      "metadata": {
        "trusted": true
      },
      "outputs": [],
      "execution_count": null
    },
    {
      "cell_type": "code",
      "source": "raw_df.to_csv('preprocessed_housing_data.csv',index=False)",
      "metadata": {
        "trusted": true
      },
      "outputs": [],
      "execution_count": 32
    },
    {
      "cell_type": "code",
      "source": "raw_df.head()",
      "metadata": {
        "trusted": true
      },
      "outputs": [
        {
          "execution_count": 33,
          "output_type": "execute_result",
          "data": {
            "text/plain": "         AREA  INT_SQFT  DIST_MAINROAD  N_BEDROOM  N_BATHROOM  N_ROOM  \\\n0  Karapakkam      1004            131          1           1       3   \n1  Anna Nagar      1986             26          2           1       5   \n2       Adyar       909             70          1           1       3   \n3   Velachery      1855             14          3           2       5   \n4  Karapakkam      1226             84          1           1       3   \n\n  SALE_COND PARK_FACIL   BUILDTYPE UTILITY_AVAIL  STREET MZZONE  QS_ROOMS  \\\n0  AbNormal        Yes  Commercial       All Pub   Paved      A         4   \n1  AbNormal         No  Commercial       All Pub  Gravel     RH         4   \n2  AbNormal        Yes  Commercial           ELO  Gravel     RL         4   \n3    Family         No      Others      NoSewage   Paved      I         4   \n4  AbNormal        Yes      Others       All Pub  Gravel      C         3   \n\n   QS_BATHROOM  QS_BEDROOM  QS_OVERALL  REG_FEE  COMMIS  SALES_PRICE  \n0            3           4           4   380000  144400      7600000  \n1            4           2           3   760122  304049     21717770  \n2            3           2           3   421094   92114     13159200  \n3            3           3           4   356321   77042      9630290  \n4            2           4           3   237000   74063      7406250  ",
            "text/html": "<div>\n<style scoped>\n    .dataframe tbody tr th:only-of-type {\n        vertical-align: middle;\n    }\n\n    .dataframe tbody tr th {\n        vertical-align: top;\n    }\n\n    .dataframe thead th {\n        text-align: right;\n    }\n</style>\n<table border=\"1\" class=\"dataframe\">\n  <thead>\n    <tr style=\"text-align: right;\">\n      <th></th>\n      <th>AREA</th>\n      <th>INT_SQFT</th>\n      <th>DIST_MAINROAD</th>\n      <th>N_BEDROOM</th>\n      <th>N_BATHROOM</th>\n      <th>N_ROOM</th>\n      <th>SALE_COND</th>\n      <th>PARK_FACIL</th>\n      <th>BUILDTYPE</th>\n      <th>UTILITY_AVAIL</th>\n      <th>STREET</th>\n      <th>MZZONE</th>\n      <th>QS_ROOMS</th>\n      <th>QS_BATHROOM</th>\n      <th>QS_BEDROOM</th>\n      <th>QS_OVERALL</th>\n      <th>REG_FEE</th>\n      <th>COMMIS</th>\n      <th>SALES_PRICE</th>\n    </tr>\n  </thead>\n  <tbody>\n    <tr>\n      <th>0</th>\n      <td>Karapakkam</td>\n      <td>1004</td>\n      <td>131</td>\n      <td>1</td>\n      <td>1</td>\n      <td>3</td>\n      <td>AbNormal</td>\n      <td>Yes</td>\n      <td>Commercial</td>\n      <td>All Pub</td>\n      <td>Paved</td>\n      <td>A</td>\n      <td>4</td>\n      <td>3</td>\n      <td>4</td>\n      <td>4</td>\n      <td>380000</td>\n      <td>144400</td>\n      <td>7600000</td>\n    </tr>\n    <tr>\n      <th>1</th>\n      <td>Anna Nagar</td>\n      <td>1986</td>\n      <td>26</td>\n      <td>2</td>\n      <td>1</td>\n      <td>5</td>\n      <td>AbNormal</td>\n      <td>No</td>\n      <td>Commercial</td>\n      <td>All Pub</td>\n      <td>Gravel</td>\n      <td>RH</td>\n      <td>4</td>\n      <td>4</td>\n      <td>2</td>\n      <td>3</td>\n      <td>760122</td>\n      <td>304049</td>\n      <td>21717770</td>\n    </tr>\n    <tr>\n      <th>2</th>\n      <td>Adyar</td>\n      <td>909</td>\n      <td>70</td>\n      <td>1</td>\n      <td>1</td>\n      <td>3</td>\n      <td>AbNormal</td>\n      <td>Yes</td>\n      <td>Commercial</td>\n      <td>ELO</td>\n      <td>Gravel</td>\n      <td>RL</td>\n      <td>4</td>\n      <td>3</td>\n      <td>2</td>\n      <td>3</td>\n      <td>421094</td>\n      <td>92114</td>\n      <td>13159200</td>\n    </tr>\n    <tr>\n      <th>3</th>\n      <td>Velachery</td>\n      <td>1855</td>\n      <td>14</td>\n      <td>3</td>\n      <td>2</td>\n      <td>5</td>\n      <td>Family</td>\n      <td>No</td>\n      <td>Others</td>\n      <td>NoSewage</td>\n      <td>Paved</td>\n      <td>I</td>\n      <td>4</td>\n      <td>3</td>\n      <td>3</td>\n      <td>4</td>\n      <td>356321</td>\n      <td>77042</td>\n      <td>9630290</td>\n    </tr>\n    <tr>\n      <th>4</th>\n      <td>Karapakkam</td>\n      <td>1226</td>\n      <td>84</td>\n      <td>1</td>\n      <td>1</td>\n      <td>3</td>\n      <td>AbNormal</td>\n      <td>Yes</td>\n      <td>Others</td>\n      <td>All Pub</td>\n      <td>Gravel</td>\n      <td>C</td>\n      <td>3</td>\n      <td>2</td>\n      <td>4</td>\n      <td>3</td>\n      <td>237000</td>\n      <td>74063</td>\n      <td>7406250</td>\n    </tr>\n  </tbody>\n</table>\n</div>"
          },
          "metadata": {}
        }
      ],
      "execution_count": 33
    },
    {
      "cell_type": "code",
      "source": "",
      "metadata": {
        "trusted": true
      },
      "outputs": [],
      "execution_count": null
    }
  ]
}